{
 "cells": [
  {
   "cell_type": "code",
   "execution_count": null,
   "metadata": {},
   "outputs": [],
   "source": [
    "from ipyleaflet import Map, Marker,Polyline, FullScreenControl, WidgetControl, MarkerCluster, CircleMarker, basemaps, AntPath\n",
    "from ipywidgets import IntSlider,jslink\n",
    "import gpxpy\n",
    "import geopy.distance as distance\n",
    "from bokeh.plotting import figure, output_file, show\n",
    "from bokeh.io import output_notebook\n",
    "from bokeh.layouts import row, column\n",
    "from functools import reduce\n",
    "from chooser import get_gpx, choose_map\n",
    "\n",
    "output_notebook()"
   ]
  },
  {
   "cell_type": "markdown",
   "metadata": {},
   "source": [
    "Les cartes qu'on va utiliser :"
   ]
  },
  {
   "cell_type": "code",
   "execution_count": null,
   "metadata": {},
   "outputs": [],
   "source": [
    "maps={\"OpenStreetMap\":basemaps.OpenStreetMap.Mapnik,\"TopoMap\":basemaps.OpenTopoMap,\\\n",
    "      \"HikeBike\":basemaps.HikeBike,\"MtbMap\":basemaps.MtbMap}\n",
    "name_map,usedmap= choose_map(maps)\n",
    "print(\"carte:\",name_map)"
   ]
  },
  {
   "cell_type": "markdown",
   "metadata": {},
   "source": [
    "Le fichier des traces gps :"
   ]
  },
  {
   "cell_type": "code",
   "execution_count": null,
   "metadata": {},
   "outputs": [],
   "source": [
    "filegpx= get_gpx()"
   ]
  },
  {
   "cell_type": "markdown",
   "metadata": {},
   "source": [
    "On lit le fichier des positions gps, et on récupère les positions sous forme d'une liste de couples (latitude,longitude) :"
   ]
  },
  {
   "cell_type": "code",
   "execution_count": null,
   "metadata": {},
   "outputs": [],
   "source": [
    "gpx_file= open(filegpx,\"r\")\n",
    "gpx = gpxpy.parse(gpx_file)\n",
    "points=gpx.tracks[0].segments[0].points"
   ]
  },
  {
   "cell_type": "code",
   "execution_count": null,
   "metadata": {},
   "outputs": [],
   "source": [
    "print(\"Heure de début :\",gpx.get_time_bounds().start_time,\"Heure de fin :\",gpx.get_time_bounds().end_time)"
   ]
  },
  {
   "cell_type": "markdown",
   "metadata": {},
   "source": [
    "Il faut centrer la carte. Pour cela on calcule la moyenne des latitudes et des longitudes:"
   ]
  },
  {
   "cell_type": "code",
   "execution_count": null,
   "metadata": {},
   "outputs": [],
   "source": [
    "l=[(p.latitude,p.longitude) for p in points]\n",
    "c=[sum(x) for x in zip(*l)]\n",
    "center=(c[0]/len(l),c[1]/len(l))# le \"centre\" (la moyenne)."
   ]
  },
  {
   "cell_type": "markdown",
   "metadata": {},
   "source": [
    "Et on crée la carte, centrée en \"center\". Le facteur de zoom initial est un peu pifométrique: "
   ]
  },
  {
   "cell_type": "code",
   "execution_count": null,
   "metadata": {},
   "outputs": [],
   "source": [
    "m = Map(basemap=usedmap,center=center, zoom=15)"
   ]
  },
  {
   "cell_type": "markdown",
   "metadata": {},
   "source": [
    "On ajoute une petite tirette pour le zoom:"
   ]
  },
  {
   "cell_type": "code",
   "execution_count": null,
   "metadata": {},
   "outputs": [],
   "source": [
    "zoom_slider = IntSlider(description='Zoom:', min=12, max=30, value=15)\n",
    "jslink((zoom_slider, 'value'), (m, 'zoom'))\n",
    "widget_control1 = WidgetControl(widget=zoom_slider, position='topright')\n",
    "m.add_control(widget_control1)"
   ]
  },
  {
   "cell_type": "markdown",
   "metadata": {},
   "source": [
    "Bien. Maintenant on ajoute la trajectoire, qu'on a déja calculée. On ajoute aussi un bouton \"Plein écran\"."
   ]
  },
  {
   "cell_type": "code",
   "execution_count": null,
   "metadata": {},
   "outputs": [],
   "source": [
    "type_line= \"Ant\" # type de ligne pour la trajectoire (toute autre avaleur que \"Ant\" produit une \"PolyLine\") "
   ]
  },
  {
   "cell_type": "code",
   "execution_count": null,
   "metadata": {},
   "outputs": [],
   "source": [
    "if type_line == \"Ant\":\n",
    "    line= AntPath(\n",
    "        locations= l,\n",
    "        dash_array=[1, 10],\n",
    "        delay=2000,\n",
    "        color='red',\n",
    "        pulse_color='black'\n",
    "    )\n",
    "else:\n",
    "    line = Polyline(\n",
    "        locations=l,\n",
    "        color=\"red\" ,\n",
    "        fill=False, weight=3\n",
    "    )\n",
    "\n",
    "m.add_control(FullScreenControl())\n",
    "m.add_layer(line)"
   ]
  },
  {
   "cell_type": "markdown",
   "metadata": {},
   "source": [
    "### Quelques calculs: ###\n",
    "\n",
    "- Les distances entre les points successifs. C'est un service fourni par geopy (géodésiques sur l'ellipsoïde terrestre).\n",
    "- La distance globale porcourue.\n",
    "- Un \"marker\" tous les \"delta\" mêtres. "
   ]
  },
  {
   "cell_type": "code",
   "execution_count": null,
   "metadata": {},
   "outputs": [],
   "source": [
    "delta=1000. # 1 km."
   ]
  },
  {
   "cell_type": "code",
   "execution_count": null,
   "metadata": {},
   "outputs": [],
   "source": [
    "distance_parcourue=0.0\n",
    "dists=[0.]\n",
    "next = 0.0\n",
    "marks=[]\n",
    "\n",
    "for i,point in enumerate(points[1:]):\n",
    "    new=(point.latitude,point.longitude)\n",
    "    old=(points[i].latitude,points[i].longitude)\n",
    "    d=distance.geodesic(new,old).m\n",
    "    distance_parcourue += d\n",
    "    dists.append(distance_parcourue)\n",
    "    if distance_parcourue >= next:\n",
    "        next += delta\n",
    "        marks.append(Marker(location=(point.latitude,point.longitude)))"
   ]
  },
  {
   "cell_type": "markdown",
   "metadata": {},
   "source": [
    "Des marqueurs pour le début et la fin du parcours :"
   ]
  },
  {
   "cell_type": "code",
   "execution_count": null,
   "metadata": {},
   "outputs": [],
   "source": [
    "circle_marker1 = CircleMarker()\n",
    "circle_marker1.location = (points[-1].latitude,points[-1].longitude)\n",
    "circle_marker1.radius = 7\n",
    "circle_marker1.color = \"red\"\n",
    "circle_marker1.fill_color = \"white\"\n",
    "circle_marker2 = CircleMarker()\n",
    "circle_marker2.location = (points[0].latitude,points[0].longitude)\n",
    "circle_marker2.radius = 7\n",
    "circle_marker2.color = \"green\"\n",
    "circle_marker2.fill_color = \"green\"\n",
    "marks+=[circle_marker1,circle_marker2]"
   ]
  },
  {
   "cell_type": "markdown",
   "metadata": {},
   "source": [
    "Placer les marqueurs sur la carte:"
   ]
  },
  {
   "cell_type": "code",
   "execution_count": null,
   "metadata": {},
   "outputs": [],
   "source": [
    "marker_cluster = MarkerCluster(\n",
    "    markers=marks\n",
    ")\n",
    "m.add_layer(marker_cluster);"
   ]
  },
  {
   "cell_type": "code",
   "execution_count": null,
   "metadata": {},
   "outputs": [],
   "source": [
    "print(\"Distance totale parcourue :\",distance_parcourue,\"mêtres.\")"
   ]
  },
  {
   "cell_type": "markdown",
   "metadata": {},
   "source": [
    "### La carte : ###\n",
    "\n",
    "_(zoomez éventuellement pour voir tous les marqueurs)._"
   ]
  },
  {
   "cell_type": "code",
   "execution_count": null,
   "metadata": {},
   "outputs": [],
   "source": [
    "m"
   ]
  },
  {
   "cell_type": "markdown",
   "metadata": {},
   "source": [
    "### L'altitude au cours du parcours : ###"
   ]
  },
  {
   "cell_type": "code",
   "execution_count": null,
   "metadata": {},
   "outputs": [],
   "source": [
    "#p=pplot.plot(dists,[point.elevation for point in points])\n",
    "p = figure(title=\"Altitude /distance\", x_axis_label='Distance parcourue', y_axis_label='altitude',\n",
    "           width=800,height=300)\n",
    "p.line(dists,[point.elevation for point in points] , legend_label=\"Altitude (mètres)\", line_width=2)\n",
    "show(p)"
   ]
  },
  {
   "cell_type": "markdown",
   "metadata": {},
   "source": [
    "#### Cumul des montées et des descentes : ####\n",
    "\n",
    "Attention le gps n'est pas très précis pour les altitudes !"
   ]
  },
  {
   "cell_type": "code",
   "execution_count": null,
   "metadata": {},
   "outputs": [],
   "source": [
    "z=[x[1]-x[0] for x in zip([point.elevation for point in points][1:],[point.elevation for point in points][:-1])]\n",
    "up= reduce(lambda a,b: a+max(b,0),z)\n",
    "down= reduce(lambda a,b: a+max(-b,0),z)"
   ]
  },
  {
   "cell_type": "code",
   "execution_count": null,
   "metadata": {},
   "outputs": [],
   "source": [
    "print(\"montée :\",up,\", descente :\",down,\"(mêtres).\")"
   ]
  },
  {
   "cell_type": "markdown",
   "metadata": {},
   "source": [
    "### Vitesse (en km/h) en fonction du temps (en secondes) : ###"
   ]
  },
  {
   "cell_type": "code",
   "execution_count": null,
   "metadata": {},
   "outputs": [],
   "source": [
    "start= points[0].time\n",
    "z=[((x[0]-x[1]).total_seconds(),x[1]) for x in zip([point.time for point in points][1:], \\\n",
    "                                                   [point.time for point in points][:-1])]\n",
    "d=[distance.geodesic((x[1].latitude,x[1].longitude),(x[0].latitude,x[0].longitude)).m \\\n",
    "   for x in zip(points[1:],points[:-1])]\n",
    "vt=[(x[0]/x[1][0],(x[1][1]-start).total_seconds())  for x in zip(d,z) if x[1][0]>0]"
   ]
  },
  {
   "cell_type": "code",
   "execution_count": null,
   "metadata": {
    "scrolled": true
   },
   "outputs": [],
   "source": [
    "#v=pplot.plot([v[1] for v in vt],[v[0]*3.6 for v in vt])\n",
    "pv = figure(title=\"Vitesse / temps\", x_axis_label='temps', y_axis_label='Vitesse (km/h)',width=800,height=300)\n",
    "pv.line([v[1] for v in vt],[v[0]*3.6 for v in vt], legend_label=\"Vitesse\", line_width=2)\n",
    "show(pv)"
   ]
  },
  {
   "cell_type": "markdown",
   "metadata": {},
   "source": [
    "### Vitesse moyenne : ###"
   ]
  },
  {
   "cell_type": "code",
   "execution_count": null,
   "metadata": {},
   "outputs": [],
   "source": [
    "print(\"%8.2f\"% (3.6*distance_parcourue/(points[-1].time - points[0].time).total_seconds()),\"km/h.\")"
   ]
  },
  {
   "cell_type": "markdown",
   "metadata": {},
   "source": [
    "Vitesse en fonction de la déclivité"
   ]
  },
  {
   "cell_type": "code",
   "execution_count": null,
   "metadata": {},
   "outputs": [],
   "source": [
    "dec0= [x[1]-x[0] for x in zip([point.elevation for point in points[1:]],[point.elevation for point in points[:-1]])]\n",
    "dec = [x[0] for x in zip(dec0,z) if x[1][0]>0]\n",
    "pdec= figure(title=\"Vitesse / déclivité \", x_axis_label='declivité', y_axis_label='Vitesse (km/h)',width=800,height=300)\n",
    "pdec.circle(dec,[3.6*x[0] for x in vt],size=6, color=\"red\", alpha=0.5)\n",
    "show(pdec)"
   ]
  }
 ],
 "metadata": {
  "@webio": {
   "lastCommId": null,
   "lastKernelId": null
  },
  "hide_input": false,
  "kernelspec": {
   "display_name": "Python 3",
   "language": "python",
   "name": "python3"
  },
  "language_info": {
   "codemirror_mode": {
    "name": "ipython",
    "version": 3
   },
   "file_extension": ".py",
   "mimetype": "text/x-python",
   "name": "python",
   "nbconvert_exporter": "python",
   "pygments_lexer": "ipython3",
   "version": "3.8.2"
  }
 },
 "nbformat": 4,
 "nbformat_minor": 4
}
