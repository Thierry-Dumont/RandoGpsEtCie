{
 "cells": [
  {
   "cell_type": "code",
   "execution_count": 1,
   "metadata": {},
   "outputs": [
    {
     "data": {
      "text/html": [
       "\n",
       "    <div class=\"bk-root\">\n",
       "        <a href=\"https://bokeh.org\" target=\"_blank\" class=\"bk-logo bk-logo-small bk-logo-notebook\"></a>\n",
       "        <span id=\"1001\">Loading BokehJS ...</span>\n",
       "    </div>"
      ]
     },
     "metadata": {},
     "output_type": "display_data"
    },
    {
     "data": {
      "application/javascript": [
       "\n",
       "(function(root) {\n",
       "  function now() {\n",
       "    return new Date();\n",
       "  }\n",
       "\n",
       "  var force = true;\n",
       "\n",
       "  if (typeof root._bokeh_onload_callbacks === \"undefined\" || force === true) {\n",
       "    root._bokeh_onload_callbacks = [];\n",
       "    root._bokeh_is_loading = undefined;\n",
       "  }\n",
       "\n",
       "  var JS_MIME_TYPE = 'application/javascript';\n",
       "  var HTML_MIME_TYPE = 'text/html';\n",
       "  var EXEC_MIME_TYPE = 'application/vnd.bokehjs_exec.v0+json';\n",
       "  var CLASS_NAME = 'output_bokeh rendered_html';\n",
       "\n",
       "  /**\n",
       "   * Render data to the DOM node\n",
       "   */\n",
       "  function render(props, node) {\n",
       "    var script = document.createElement(\"script\");\n",
       "    node.appendChild(script);\n",
       "  }\n",
       "\n",
       "  /**\n",
       "   * Handle when an output is cleared or removed\n",
       "   */\n",
       "  function handleClearOutput(event, handle) {\n",
       "    var cell = handle.cell;\n",
       "\n",
       "    var id = cell.output_area._bokeh_element_id;\n",
       "    var server_id = cell.output_area._bokeh_server_id;\n",
       "    // Clean up Bokeh references\n",
       "    if (id != null && id in Bokeh.index) {\n",
       "      Bokeh.index[id].model.document.clear();\n",
       "      delete Bokeh.index[id];\n",
       "    }\n",
       "\n",
       "    if (server_id !== undefined) {\n",
       "      // Clean up Bokeh references\n",
       "      var cmd = \"from bokeh.io.state import curstate; print(curstate().uuid_to_server['\" + server_id + \"'].get_sessions()[0].document.roots[0]._id)\";\n",
       "      cell.notebook.kernel.execute(cmd, {\n",
       "        iopub: {\n",
       "          output: function(msg) {\n",
       "            var id = msg.content.text.trim();\n",
       "            if (id in Bokeh.index) {\n",
       "              Bokeh.index[id].model.document.clear();\n",
       "              delete Bokeh.index[id];\n",
       "            }\n",
       "          }\n",
       "        }\n",
       "      });\n",
       "      // Destroy server and session\n",
       "      var cmd = \"import bokeh.io.notebook as ion; ion.destroy_server('\" + server_id + \"')\";\n",
       "      cell.notebook.kernel.execute(cmd);\n",
       "    }\n",
       "  }\n",
       "\n",
       "  /**\n",
       "   * Handle when a new output is added\n",
       "   */\n",
       "  function handleAddOutput(event, handle) {\n",
       "    var output_area = handle.output_area;\n",
       "    var output = handle.output;\n",
       "\n",
       "    // limit handleAddOutput to display_data with EXEC_MIME_TYPE content only\n",
       "    if ((output.output_type != \"display_data\") || (!output.data.hasOwnProperty(EXEC_MIME_TYPE))) {\n",
       "      return\n",
       "    }\n",
       "\n",
       "    var toinsert = output_area.element.find(\".\" + CLASS_NAME.split(' ')[0]);\n",
       "\n",
       "    if (output.metadata[EXEC_MIME_TYPE][\"id\"] !== undefined) {\n",
       "      toinsert[toinsert.length - 1].firstChild.textContent = output.data[JS_MIME_TYPE];\n",
       "      // store reference to embed id on output_area\n",
       "      output_area._bokeh_element_id = output.metadata[EXEC_MIME_TYPE][\"id\"];\n",
       "    }\n",
       "    if (output.metadata[EXEC_MIME_TYPE][\"server_id\"] !== undefined) {\n",
       "      var bk_div = document.createElement(\"div\");\n",
       "      bk_div.innerHTML = output.data[HTML_MIME_TYPE];\n",
       "      var script_attrs = bk_div.children[0].attributes;\n",
       "      for (var i = 0; i < script_attrs.length; i++) {\n",
       "        toinsert[toinsert.length - 1].firstChild.setAttribute(script_attrs[i].name, script_attrs[i].value);\n",
       "        toinsert[toinsert.length - 1].firstChild.textContent = bk_div.children[0].textContent\n",
       "      }\n",
       "      // store reference to server id on output_area\n",
       "      output_area._bokeh_server_id = output.metadata[EXEC_MIME_TYPE][\"server_id\"];\n",
       "    }\n",
       "  }\n",
       "\n",
       "  function register_renderer(events, OutputArea) {\n",
       "\n",
       "    function append_mime(data, metadata, element) {\n",
       "      // create a DOM node to render to\n",
       "      var toinsert = this.create_output_subarea(\n",
       "        metadata,\n",
       "        CLASS_NAME,\n",
       "        EXEC_MIME_TYPE\n",
       "      );\n",
       "      this.keyboard_manager.register_events(toinsert);\n",
       "      // Render to node\n",
       "      var props = {data: data, metadata: metadata[EXEC_MIME_TYPE]};\n",
       "      render(props, toinsert[toinsert.length - 1]);\n",
       "      element.append(toinsert);\n",
       "      return toinsert\n",
       "    }\n",
       "\n",
       "    /* Handle when an output is cleared or removed */\n",
       "    events.on('clear_output.CodeCell', handleClearOutput);\n",
       "    events.on('delete.Cell', handleClearOutput);\n",
       "\n",
       "    /* Handle when a new output is added */\n",
       "    events.on('output_added.OutputArea', handleAddOutput);\n",
       "\n",
       "    /**\n",
       "     * Register the mime type and append_mime function with output_area\n",
       "     */\n",
       "    OutputArea.prototype.register_mime_type(EXEC_MIME_TYPE, append_mime, {\n",
       "      /* Is output safe? */\n",
       "      safe: true,\n",
       "      /* Index of renderer in `output_area.display_order` */\n",
       "      index: 0\n",
       "    });\n",
       "  }\n",
       "\n",
       "  // register the mime type if in Jupyter Notebook environment and previously unregistered\n",
       "  if (root.Jupyter !== undefined) {\n",
       "    var events = require('base/js/events');\n",
       "    var OutputArea = require('notebook/js/outputarea').OutputArea;\n",
       "\n",
       "    if (OutputArea.prototype.mime_types().indexOf(EXEC_MIME_TYPE) == -1) {\n",
       "      register_renderer(events, OutputArea);\n",
       "    }\n",
       "  }\n",
       "\n",
       "  \n",
       "  if (typeof (root._bokeh_timeout) === \"undefined\" || force === true) {\n",
       "    root._bokeh_timeout = Date.now() + 5000;\n",
       "    root._bokeh_failed_load = false;\n",
       "  }\n",
       "\n",
       "  var NB_LOAD_WARNING = {'data': {'text/html':\n",
       "     \"<div style='background-color: #fdd'>\\n\"+\n",
       "     \"<p>\\n\"+\n",
       "     \"BokehJS does not appear to have successfully loaded. If loading BokehJS from CDN, this \\n\"+\n",
       "     \"may be due to a slow or bad network connection. Possible fixes:\\n\"+\n",
       "     \"</p>\\n\"+\n",
       "     \"<ul>\\n\"+\n",
       "     \"<li>re-rerun `output_notebook()` to attempt to load from CDN again, or</li>\\n\"+\n",
       "     \"<li>use INLINE resources instead, as so:</li>\\n\"+\n",
       "     \"</ul>\\n\"+\n",
       "     \"<code>\\n\"+\n",
       "     \"from bokeh.resources import INLINE\\n\"+\n",
       "     \"output_notebook(resources=INLINE)\\n\"+\n",
       "     \"</code>\\n\"+\n",
       "     \"</div>\"}};\n",
       "\n",
       "  function display_loaded() {\n",
       "    var el = document.getElementById(\"1001\");\n",
       "    if (el != null) {\n",
       "      el.textContent = \"BokehJS is loading...\";\n",
       "    }\n",
       "    if (root.Bokeh !== undefined) {\n",
       "      if (el != null) {\n",
       "        el.textContent = \"BokehJS \" + root.Bokeh.version + \" successfully loaded.\";\n",
       "      }\n",
       "    } else if (Date.now() < root._bokeh_timeout) {\n",
       "      setTimeout(display_loaded, 100)\n",
       "    }\n",
       "  }\n",
       "\n",
       "\n",
       "  function run_callbacks() {\n",
       "    try {\n",
       "      root._bokeh_onload_callbacks.forEach(function(callback) {\n",
       "        if (callback != null)\n",
       "          callback();\n",
       "      });\n",
       "    } finally {\n",
       "      delete root._bokeh_onload_callbacks\n",
       "    }\n",
       "    console.debug(\"Bokeh: all callbacks have finished\");\n",
       "  }\n",
       "\n",
       "  function load_libs(css_urls, js_urls, callback) {\n",
       "    if (css_urls == null) css_urls = [];\n",
       "    if (js_urls == null) js_urls = [];\n",
       "\n",
       "    root._bokeh_onload_callbacks.push(callback);\n",
       "    if (root._bokeh_is_loading > 0) {\n",
       "      console.debug(\"Bokeh: BokehJS is being loaded, scheduling callback at\", now());\n",
       "      return null;\n",
       "    }\n",
       "    if (js_urls == null || js_urls.length === 0) {\n",
       "      run_callbacks();\n",
       "      return null;\n",
       "    }\n",
       "    console.debug(\"Bokeh: BokehJS not loaded, scheduling load and callback at\", now());\n",
       "    root._bokeh_is_loading = css_urls.length + js_urls.length;\n",
       "\n",
       "    function on_load() {\n",
       "      root._bokeh_is_loading--;\n",
       "      if (root._bokeh_is_loading === 0) {\n",
       "        console.debug(\"Bokeh: all BokehJS libraries/stylesheets loaded\");\n",
       "        run_callbacks()\n",
       "      }\n",
       "    }\n",
       "\n",
       "    function on_error() {\n",
       "      console.error(\"failed to load \" + url);\n",
       "    }\n",
       "\n",
       "    for (var i = 0; i < css_urls.length; i++) {\n",
       "      var url = css_urls[i];\n",
       "      const element = document.createElement(\"link\");\n",
       "      element.onload = on_load;\n",
       "      element.onerror = on_error;\n",
       "      element.rel = \"stylesheet\";\n",
       "      element.type = \"text/css\";\n",
       "      element.href = url;\n",
       "      console.debug(\"Bokeh: injecting link tag for BokehJS stylesheet: \", url);\n",
       "      document.body.appendChild(element);\n",
       "    }\n",
       "\n",
       "    const hashes = {\"https://cdn.bokeh.org/bokeh/release/bokeh-2.2.1.min.js\": \"qkRvDQVAIfzsJo40iRBbxt6sttt0hv4lh74DG7OK4MCHv4C5oohXYoHUM5W11uqS\", \"https://cdn.bokeh.org/bokeh/release/bokeh-widgets-2.2.1.min.js\": \"Sb7Mr06a9TNlet/GEBeKaf5xH3eb6AlCzwjtU82wNPyDrnfoiVl26qnvlKjmcAd+\", \"https://cdn.bokeh.org/bokeh/release/bokeh-tables-2.2.1.min.js\": \"HaJ15vgfmcfRtB4c4YBOI4f1MUujukqInOWVqZJZZGK7Q+ivud0OKGSTn/Vm2iso\"};\n",
       "\n",
       "    for (var i = 0; i < js_urls.length; i++) {\n",
       "      var url = js_urls[i];\n",
       "      var element = document.createElement('script');\n",
       "      element.onload = on_load;\n",
       "      element.onerror = on_error;\n",
       "      element.async = false;\n",
       "      element.src = url;\n",
       "      if (url in hashes) {\n",
       "        element.crossOrigin = \"anonymous\";\n",
       "        element.integrity = \"sha384-\" + hashes[url];\n",
       "      }\n",
       "      console.debug(\"Bokeh: injecting script tag for BokehJS library: \", url);\n",
       "      document.head.appendChild(element);\n",
       "    }\n",
       "  };\n",
       "\n",
       "  function inject_raw_css(css) {\n",
       "    const element = document.createElement(\"style\");\n",
       "    element.appendChild(document.createTextNode(css));\n",
       "    document.body.appendChild(element);\n",
       "  }\n",
       "\n",
       "  \n",
       "  var js_urls = [\"https://cdn.bokeh.org/bokeh/release/bokeh-2.2.1.min.js\", \"https://cdn.bokeh.org/bokeh/release/bokeh-widgets-2.2.1.min.js\", \"https://cdn.bokeh.org/bokeh/release/bokeh-tables-2.2.1.min.js\"];\n",
       "  var css_urls = [];\n",
       "  \n",
       "\n",
       "  var inline_js = [\n",
       "    function(Bokeh) {\n",
       "      Bokeh.set_log_level(\"info\");\n",
       "    },\n",
       "    function(Bokeh) {\n",
       "    \n",
       "    \n",
       "    }\n",
       "  ];\n",
       "\n",
       "  function run_inline_js() {\n",
       "    \n",
       "    if (root.Bokeh !== undefined || force === true) {\n",
       "      \n",
       "    for (var i = 0; i < inline_js.length; i++) {\n",
       "      inline_js[i].call(root, root.Bokeh);\n",
       "    }\n",
       "    if (force === true) {\n",
       "        display_loaded();\n",
       "      }} else if (Date.now() < root._bokeh_timeout) {\n",
       "      setTimeout(run_inline_js, 100);\n",
       "    } else if (!root._bokeh_failed_load) {\n",
       "      console.log(\"Bokeh: BokehJS failed to load within specified timeout.\");\n",
       "      root._bokeh_failed_load = true;\n",
       "    } else if (force !== true) {\n",
       "      var cell = $(document.getElementById(\"1001\")).parents('.cell').data().cell;\n",
       "      cell.output_area.append_execute_result(NB_LOAD_WARNING)\n",
       "    }\n",
       "\n",
       "  }\n",
       "\n",
       "  if (root._bokeh_is_loading === 0) {\n",
       "    console.debug(\"Bokeh: BokehJS loaded, going straight to plotting\");\n",
       "    run_inline_js();\n",
       "  } else {\n",
       "    load_libs(css_urls, js_urls, function() {\n",
       "      console.debug(\"Bokeh: BokehJS plotting callback run at\", now());\n",
       "      run_inline_js();\n",
       "    });\n",
       "  }\n",
       "}(window));"
      ],
      "application/vnd.bokehjs_load.v0+json": "\n(function(root) {\n  function now() {\n    return new Date();\n  }\n\n  var force = true;\n\n  if (typeof root._bokeh_onload_callbacks === \"undefined\" || force === true) {\n    root._bokeh_onload_callbacks = [];\n    root._bokeh_is_loading = undefined;\n  }\n\n  \n\n  \n  if (typeof (root._bokeh_timeout) === \"undefined\" || force === true) {\n    root._bokeh_timeout = Date.now() + 5000;\n    root._bokeh_failed_load = false;\n  }\n\n  var NB_LOAD_WARNING = {'data': {'text/html':\n     \"<div style='background-color: #fdd'>\\n\"+\n     \"<p>\\n\"+\n     \"BokehJS does not appear to have successfully loaded. If loading BokehJS from CDN, this \\n\"+\n     \"may be due to a slow or bad network connection. Possible fixes:\\n\"+\n     \"</p>\\n\"+\n     \"<ul>\\n\"+\n     \"<li>re-rerun `output_notebook()` to attempt to load from CDN again, or</li>\\n\"+\n     \"<li>use INLINE resources instead, as so:</li>\\n\"+\n     \"</ul>\\n\"+\n     \"<code>\\n\"+\n     \"from bokeh.resources import INLINE\\n\"+\n     \"output_notebook(resources=INLINE)\\n\"+\n     \"</code>\\n\"+\n     \"</div>\"}};\n\n  function display_loaded() {\n    var el = document.getElementById(\"1001\");\n    if (el != null) {\n      el.textContent = \"BokehJS is loading...\";\n    }\n    if (root.Bokeh !== undefined) {\n      if (el != null) {\n        el.textContent = \"BokehJS \" + root.Bokeh.version + \" successfully loaded.\";\n      }\n    } else if (Date.now() < root._bokeh_timeout) {\n      setTimeout(display_loaded, 100)\n    }\n  }\n\n\n  function run_callbacks() {\n    try {\n      root._bokeh_onload_callbacks.forEach(function(callback) {\n        if (callback != null)\n          callback();\n      });\n    } finally {\n      delete root._bokeh_onload_callbacks\n    }\n    console.debug(\"Bokeh: all callbacks have finished\");\n  }\n\n  function load_libs(css_urls, js_urls, callback) {\n    if (css_urls == null) css_urls = [];\n    if (js_urls == null) js_urls = [];\n\n    root._bokeh_onload_callbacks.push(callback);\n    if (root._bokeh_is_loading > 0) {\n      console.debug(\"Bokeh: BokehJS is being loaded, scheduling callback at\", now());\n      return null;\n    }\n    if (js_urls == null || js_urls.length === 0) {\n      run_callbacks();\n      return null;\n    }\n    console.debug(\"Bokeh: BokehJS not loaded, scheduling load and callback at\", now());\n    root._bokeh_is_loading = css_urls.length + js_urls.length;\n\n    function on_load() {\n      root._bokeh_is_loading--;\n      if (root._bokeh_is_loading === 0) {\n        console.debug(\"Bokeh: all BokehJS libraries/stylesheets loaded\");\n        run_callbacks()\n      }\n    }\n\n    function on_error() {\n      console.error(\"failed to load \" + url);\n    }\n\n    for (var i = 0; i < css_urls.length; i++) {\n      var url = css_urls[i];\n      const element = document.createElement(\"link\");\n      element.onload = on_load;\n      element.onerror = on_error;\n      element.rel = \"stylesheet\";\n      element.type = \"text/css\";\n      element.href = url;\n      console.debug(\"Bokeh: injecting link tag for BokehJS stylesheet: \", url);\n      document.body.appendChild(element);\n    }\n\n    const hashes = {\"https://cdn.bokeh.org/bokeh/release/bokeh-2.2.1.min.js\": \"qkRvDQVAIfzsJo40iRBbxt6sttt0hv4lh74DG7OK4MCHv4C5oohXYoHUM5W11uqS\", \"https://cdn.bokeh.org/bokeh/release/bokeh-widgets-2.2.1.min.js\": \"Sb7Mr06a9TNlet/GEBeKaf5xH3eb6AlCzwjtU82wNPyDrnfoiVl26qnvlKjmcAd+\", \"https://cdn.bokeh.org/bokeh/release/bokeh-tables-2.2.1.min.js\": \"HaJ15vgfmcfRtB4c4YBOI4f1MUujukqInOWVqZJZZGK7Q+ivud0OKGSTn/Vm2iso\"};\n\n    for (var i = 0; i < js_urls.length; i++) {\n      var url = js_urls[i];\n      var element = document.createElement('script');\n      element.onload = on_load;\n      element.onerror = on_error;\n      element.async = false;\n      element.src = url;\n      if (url in hashes) {\n        element.crossOrigin = \"anonymous\";\n        element.integrity = \"sha384-\" + hashes[url];\n      }\n      console.debug(\"Bokeh: injecting script tag for BokehJS library: \", url);\n      document.head.appendChild(element);\n    }\n  };\n\n  function inject_raw_css(css) {\n    const element = document.createElement(\"style\");\n    element.appendChild(document.createTextNode(css));\n    document.body.appendChild(element);\n  }\n\n  \n  var js_urls = [\"https://cdn.bokeh.org/bokeh/release/bokeh-2.2.1.min.js\", \"https://cdn.bokeh.org/bokeh/release/bokeh-widgets-2.2.1.min.js\", \"https://cdn.bokeh.org/bokeh/release/bokeh-tables-2.2.1.min.js\"];\n  var css_urls = [];\n  \n\n  var inline_js = [\n    function(Bokeh) {\n      Bokeh.set_log_level(\"info\");\n    },\n    function(Bokeh) {\n    \n    \n    }\n  ];\n\n  function run_inline_js() {\n    \n    if (root.Bokeh !== undefined || force === true) {\n      \n    for (var i = 0; i < inline_js.length; i++) {\n      inline_js[i].call(root, root.Bokeh);\n    }\n    if (force === true) {\n        display_loaded();\n      }} else if (Date.now() < root._bokeh_timeout) {\n      setTimeout(run_inline_js, 100);\n    } else if (!root._bokeh_failed_load) {\n      console.log(\"Bokeh: BokehJS failed to load within specified timeout.\");\n      root._bokeh_failed_load = true;\n    } else if (force !== true) {\n      var cell = $(document.getElementById(\"1001\")).parents('.cell').data().cell;\n      cell.output_area.append_execute_result(NB_LOAD_WARNING)\n    }\n\n  }\n\n  if (root._bokeh_is_loading === 0) {\n    console.debug(\"Bokeh: BokehJS loaded, going straight to plotting\");\n    run_inline_js();\n  } else {\n    load_libs(css_urls, js_urls, function() {\n      console.debug(\"Bokeh: BokehJS plotting callback run at\", now());\n      run_inline_js();\n    });\n  }\n}(window));"
     },
     "metadata": {},
     "output_type": "display_data"
    }
   ],
   "source": [
    "from ipyleaflet import Map, Marker,Polyline, FullScreenControl, WidgetControl, MarkerCluster, CircleMarker, basemaps, AntPath\n",
    "from ipywidgets import IntSlider,jslink\n",
    "import gpxpy\n",
    "import geopy.distance as distance\n",
    "from bokeh.plotting import figure, output_file, show\n",
    "from bokeh.io import output_notebook\n",
    "from bokeh.layouts import row, column\n",
    "from functools import reduce\n",
    "from chooser import get_gpx, choose_map\n",
    "\n",
    "output_notebook()"
   ]
  },
  {
   "cell_type": "markdown",
   "metadata": {},
   "source": [
    "Les cartes qu'on va utiliser :"
   ]
  },
  {
   "cell_type": "code",
   "execution_count": 2,
   "metadata": {},
   "outputs": [
    {
     "name": "stdout",
     "output_type": "stream",
     "text": [
      "Cartes disponibles :\n",
      "0 :  OpenStreetMap\n",
      "1 :  TopoMap\n",
      "2 :  HikeBike\n",
      "3 :  MtbMap\n",
      "Carte: rang ? (0 par défaut) :1\n",
      "carte: TopoMap\n"
     ]
    }
   ],
   "source": [
    "maps={\"OpenStreetMap\":basemaps.OpenStreetMap.Mapnik,\"TopoMap\":basemaps.OpenTopoMap,\\\n",
    "      \"HikeBike\":basemaps.HikeBike,\"MtbMap\":basemaps.MtbMap}\n",
    "name_map,usedmap= choose_map(maps)\n",
    "print(\"carte:\",name_map)"
   ]
  },
  {
   "cell_type": "markdown",
   "metadata": {},
   "source": [
    "Le fichier des traces gps :"
   ]
  },
  {
   "cell_type": "code",
   "execution_count": 3,
   "metadata": {},
   "outputs": [
    {
     "name": "stdout",
     "output_type": "stream",
     "text": [
      "0 :  ./2021-01-26_10-38-47.gpx\n",
      "1 :  ./2020-05-11_11-36-45.gpx\n",
      "2 :  ./2020-05-07_13-49-05.gpx\n",
      "3 :  ./2020-05-06_12-59-27.gpx\n",
      "4 :  ./2020-05-05_14-30-13.gpx\n",
      "5 :  ./2020-05-04_14-23-26.gpx\n",
      "6 :  ./2020-05-03_14-31-08.gpx\n",
      "7 :  ./2020-04-29_13-47-10.gpx\n",
      "8 :  ./2020-04-28_13-27-38.gpx\n",
      "Fichier.gpx: rang ? 0\n"
     ]
    }
   ],
   "source": [
    "filegpx= get_gpx()"
   ]
  },
  {
   "cell_type": "markdown",
   "metadata": {},
   "source": [
    "On lit le fichier des positions gps, et on récupère les positions sous forme d'une liste de couples (latitude,longitude) :"
   ]
  },
  {
   "cell_type": "code",
   "execution_count": 4,
   "metadata": {},
   "outputs": [],
   "source": [
    "gpx_file= open(filegpx,\"r\")\n",
    "gpx = gpxpy.parse(gpx_file)\n",
    "points=gpx.tracks[0].segments[0].points"
   ]
  },
  {
   "cell_type": "code",
   "execution_count": 5,
   "metadata": {},
   "outputs": [
    {
     "name": "stdout",
     "output_type": "stream",
     "text": [
      "\n",
      "Heure de début :  le 26 01 2021 à 10 heures 39 minutes 27 secondes. \n",
      "Heure de fin : le 26 01 2021 à 15 heures 12 minutes 51 secondes.\n",
      "\n"
     ]
    }
   ],
   "source": [
    "date_debut= gpx.get_time_bounds().start_time.astimezone().strftime(\"le %d %m %Y à %H heures %M minutes %S secondes\")\n",
    "date_fin= gpx.get_time_bounds().end_time.astimezone().strftime(\"le %d %m %Y à %H heures %M minutes %S secondes\")\n",
    "print(\"\\nHeure de début : \",date_debut+\".\",\"\\nHeure de fin :\",date_fin+\".\\n\")"
   ]
  },
  {
   "cell_type": "markdown",
   "metadata": {},
   "source": [
    "Il faut centrer la carte. Pour cela on calcule la moyenne des latitudes et des longitudes:"
   ]
  },
  {
   "cell_type": "code",
   "execution_count": 6,
   "metadata": {},
   "outputs": [],
   "source": [
    "l=[(p.latitude,p.longitude) for p in points]\n",
    "c=[sum(x) for x in zip(*l)]\n",
    "center=(c[0]/len(l),c[1]/len(l))# le \"centre\" (la moyenne)."
   ]
  },
  {
   "cell_type": "markdown",
   "metadata": {},
   "source": [
    "Et on crée la carte, centrée en \"center\". Le facteur de zoom initial est un peu pifométrique: "
   ]
  },
  {
   "cell_type": "code",
   "execution_count": 7,
   "metadata": {},
   "outputs": [],
   "source": [
    "m = Map(basemap=usedmap,center=center, zoom=15,scroll_wheel_zoom=True)"
   ]
  },
  {
   "cell_type": "markdown",
   "metadata": {},
   "source": [
    "On ajoute une petite tirette pour le zoom:"
   ]
  },
  {
   "cell_type": "markdown",
   "metadata": {},
   "source": [
    "zoom_slider = IntSlider(description='Zoom:', min=12, max=30, value=15)\n",
    "jslink((zoom_slider, 'value'), (m, 'zoom'))\n",
    "widget_control1 = WidgetControl(widget=zoom_slider, position='topright')\n",
    "m.add_control(widget_control1)"
   ]
  },
  {
   "cell_type": "markdown",
   "metadata": {},
   "source": [
    "Bien. Maintenant on ajoute la trajectoire, qu'on a déja calculée. On ajoute aussi un bouton \"Plein écran\"."
   ]
  },
  {
   "cell_type": "code",
   "execution_count": 8,
   "metadata": {},
   "outputs": [],
   "source": [
    "type_line= \"Ant\" # type de ligne pour la trajectoire (toute autre avaleur que \"Ant\" produit une \"PolyLine\") "
   ]
  },
  {
   "cell_type": "code",
   "execution_count": 9,
   "metadata": {},
   "outputs": [],
   "source": [
    "if type_line == \"Ant\":\n",
    "    line= AntPath(\n",
    "        locations= l,\n",
    "        dash_array=[1, 10],\n",
    "        delay=2000,\n",
    "        color='red',\n",
    "        pulse_color='black'\n",
    "    )\n",
    "else:\n",
    "    line = Polyline(\n",
    "        locations=l,\n",
    "        color=\"red\" ,\n",
    "        fill=False, weight=3\n",
    "    )\n",
    "\n",
    "m.add_control(FullScreenControl())\n",
    "m.add_layer(line)"
   ]
  },
  {
   "cell_type": "markdown",
   "metadata": {},
   "source": [
    "### Quelques calculs: ###\n",
    "\n",
    "- Les distances entre les points successifs. C'est un service fourni par geopy (géodésiques sur l'ellipsoïde terrestre).\n",
    "- La distance globale porcourue.\n",
    "- Un \"marker\" tous les \"delta\" mêtres. "
   ]
  },
  {
   "cell_type": "code",
   "execution_count": 10,
   "metadata": {},
   "outputs": [],
   "source": [
    "delta=1000. # 1 km."
   ]
  },
  {
   "cell_type": "code",
   "execution_count": 11,
   "metadata": {},
   "outputs": [],
   "source": [
    "distance_parcourue=0.0\n",
    "dists=[]\n",
    "next = 0.0\n",
    "marks=[]\n",
    "pold=points[0]\n",
    "for point in points:\n",
    "    d= point.distance_3d(pold)\n",
    "    distance_parcourue+= d\n",
    "    dists.append(distance_parcourue)\n",
    "    pold= point\n",
    "    if distance_parcourue >= next:\n",
    "        next += delta\n",
    "        marks.append(Marker(location=(point.latitude,point.longitude)))"
   ]
  },
  {
   "cell_type": "markdown",
   "metadata": {},
   "source": [
    "Des marqueurs pour le début et la fin du parcours :"
   ]
  },
  {
   "cell_type": "code",
   "execution_count": 12,
   "metadata": {},
   "outputs": [],
   "source": [
    "circle_marker1 = CircleMarker(\n",
    "    location = (points[-1].latitude,points[-1].longitude),\n",
    "    radius = 7,color = \"red\",fill_color = \"white\")\n",
    "circle_marker2 = CircleMarker(\n",
    "    location = (points[0].latitude,points[0].longitude),\n",
    "    radius = 7,color = \"green\",fill_color = \"green\")\n",
    "marks+=[circle_marker1,circle_marker2]"
   ]
  },
  {
   "cell_type": "markdown",
   "metadata": {},
   "source": [
    "Placer les marqueurs sur la carte:"
   ]
  },
  {
   "cell_type": "code",
   "execution_count": 13,
   "metadata": {},
   "outputs": [],
   "source": [
    "marker_cluster = MarkerCluster(\n",
    "    markers=marks\n",
    ")\n",
    "m.add_layer(marker_cluster);"
   ]
  },
  {
   "cell_type": "code",
   "execution_count": 14,
   "metadata": {},
   "outputs": [
    {
     "name": "stdout",
     "output_type": "stream",
     "text": [
      "Distance totale parcourue : 13850.028056221625 mêtres.\n"
     ]
    }
   ],
   "source": [
    "print(\"Distance totale parcourue :\",distance_parcourue,\"mêtres.\")"
   ]
  },
  {
   "cell_type": "markdown",
   "metadata": {},
   "source": [
    "### La carte : ###\n",
    "\n",
    "_(zoomez éventuellement pour voir tous les marqueurs)._"
   ]
  },
  {
   "cell_type": "code",
   "execution_count": 15,
   "metadata": {},
   "outputs": [
    {
     "data": {
      "application/vnd.jupyter.widget-view+json": {
       "model_id": "5745bc9d673c46eb80c2b4c22cfa8958",
       "version_major": 2,
       "version_minor": 0
      },
      "text/plain": [
       "Map(center=[45.3749239173077, 6.493195624260355], controls=(ZoomControl(options=['position', 'zoom_in_text', '…"
      ]
     },
     "metadata": {},
     "output_type": "display_data"
    }
   ],
   "source": [
    "m"
   ]
  },
  {
   "cell_type": "markdown",
   "metadata": {},
   "source": [
    "### L'altitude au cours du parcours : ###"
   ]
  },
  {
   "cell_type": "code",
   "execution_count": 16,
   "metadata": {},
   "outputs": [
    {
     "data": {
      "text/html": [
       "\n",
       "\n",
       "\n",
       "\n",
       "\n",
       "\n",
       "  <div class=\"bk-root\" id=\"e988edbe-2308-4905-8c67-c3166b9c2ed7\" data-root-id=\"1002\"></div>\n"
      ]
     },
     "metadata": {},
     "output_type": "display_data"
    },
    {
     "data": {
      "application/javascript": [
       "(function(root) {\n",
       "  function embed_document(root) {\n",
       "    \n",
       "  var docs_json = {\"d4a2da68-e9e2-4209-b455-4d13386cdd35\":{\"roots\":{\"references\":[{\"attributes\":{\"below\":[{\"id\":\"1013\"}],\"center\":[{\"id\":\"1016\"},{\"id\":\"1020\"}],\"left\":[{\"id\":\"1017\"}],\"plot_height\":300,\"plot_width\":800,\"renderers\":[{\"id\":\"1038\"}],\"title\":{\"id\":\"1003\"},\"toolbar\":{\"id\":\"1028\"},\"x_range\":{\"id\":\"1005\"},\"x_scale\":{\"id\":\"1009\"},\"y_range\":{\"id\":\"1007\"},\"y_scale\":{\"id\":\"1011\"}},\"id\":\"1002\",\"subtype\":\"Figure\",\"type\":\"Plot\"},{\"attributes\":{},\"id\":\"1014\",\"type\":\"BasicTicker\"},{\"attributes\":{},\"id\":\"1007\",\"type\":\"DataRange1d\"},{\"attributes\":{},\"id\":\"1024\",\"type\":\"SaveTool\"},{\"attributes\":{\"text\":\"Altitude /distance\"},\"id\":\"1003\",\"type\":\"Title\"},{\"attributes\":{\"line_color\":\"#1f77b4\",\"line_width\":2,\"x\":{\"field\":\"x\"},\"y\":{\"field\":\"y\"}},\"id\":\"1036\",\"type\":\"Line\"},{\"attributes\":{\"overlay\":{\"id\":\"1027\"}},\"id\":\"1023\",\"type\":\"BoxZoomTool\"},{\"attributes\":{\"data_source\":{\"id\":\"1035\"},\"glyph\":{\"id\":\"1036\"},\"hover_glyph\":null,\"muted_glyph\":null,\"nonselection_glyph\":{\"id\":\"1037\"},\"selection_glyph\":null,\"view\":{\"id\":\"1039\"}},\"id\":\"1038\",\"type\":\"GlyphRenderer\"},{\"attributes\":{},\"id\":\"1021\",\"type\":\"PanTool\"},{\"attributes\":{},\"id\":\"1042\",\"type\":\"BasicTickFormatter\"},{\"attributes\":{\"data\":{\"x\":[0.0,12.607656296616566,24.35428426823162,46.746013114339384,68.67504723303972,74.03459964485168,81.6047198438324,100.87071505689572,117.68992078623309,133.90657392329902,139.94372820966896,154.18779813460344,160.2872725716539,168.74681740716804,174.13590294633968,193.0118900320753,210.46165851575591,219.86770845069483,229.9499170904515,238.46368337927566,240.2703427038185,248.99911234014883,257.2887445324735,264.34729417578785,271.70472884728355,282.52095903728986,293.47210104696677,306.6503500947094,315.793484817758,320.5883862921369,330.65148997245575,352.4416871269601,365.39352721948035,379.1905094790434,390.68577216909733,399.84400005599093,411.6217723127231,424.01214556655736,435.72064221246944,440.29706932421226,448.8586426626914,458.15148669179985,471.65665561842724,484.5908338898682,498.5229793129096,511.49647184906775,521.3996129896905,528.4885815235409,542.62131817055,558.1543229073111,570.2103642898269,583.6710026844297,595.8103490808405,608.24126839861,621.5597316939078,634.5350399159241,639.9635905922436,652.8374022500406,664.2445442926622,679.7346095228789,693.6568446968574,697.6532824139795,700.2811503914621,709.945336927681,721.4328617867751,739.6311077863379,752.7914965503385,768.8692062727404,812.0373273207706,815.8338205567553,831.5742465013208,842.6667260943901,853.9696312233907,859.7585291536841,863.1682749469235,866.5678851092748,869.2947378307402,878.0982455253015,885.4186900116791,897.9990350992255,910.1850828397141,917.8213436237278,941.2651776804199,945.0392531589043,949.6175417064082,962.6806981353441,972.3982759142647,981.0507658796728,994.4640023493668,1000.0685902374753,1002.1918216168038,1019.6327287980671,1033.3354236830112,1039.0654981446269,1046.8953063511317,1056.67820198766,1066.3395669034783,1076.871830085792,1090.2194045479669,1095.6499053759912,1101.7554122930155,1104.9699066169924,1126.3608102386522,1135.871610531742,1141.3946643240115,1152.1121861570793,1162.4383542361556,1173.3203353505198,1191.913125138008,1202.8083351943287,1217.3820685584624,1230.8392360397195,1244.7260544846038,1257.3869312194258,1270.4914577743014,1282.5738542076942,1295.8563118469397,1308.8826272927934,1319.0709389378333,1327.5251507084229,1339.118725555059,1350.832377720495,1360.9888640494694,1371.5804460376194,1385.1551786025102,1397.828474799811,1410.1417090484395,1419.731261537287,1428.6733822954502,1439.5481980933607,1449.138849594032,1458.0915140582565,1468.9087614249088,1481.0708863413456,1494.2735978644682,1504.5549789737177,1516.0136740533765,1531.1479925058934,1541.848162565044,1554.920096317232,1566.6294746652497,1568.839467055631,1575.401715754945,1588.6483742902499,1599.435136686415,1610.09583681452,1621.730260590759,1631.3645594490922,1645.3267757079545,1660.678952614384,1677.547313132006,1688.7906814792902,1700.343203846878,1711.4913518413177,1724.4117893210805,1738.9279312539084,1754.7010468562341,1765.3421323045986,1778.3857578688583,1779.3929858072654,1781.586372385441,1783.4067937031407,1784.7572931777243,1798.7424542241592,1801.1420038919216,1803.004932909034,1805.4518749304627,1809.1735892222919,1810.780533486527,1821.831469186995,1832.776267200539,1839.5399822088918,1855.96719997476,1873.5292384385666,1883.64793514092,1896.8526564622434,1908.6435581176943,1922.114261620243,1936.8466615491998,1947.935781455146,1963.6295644603263,1976.6332874472314,1991.3942354535945,2004.552695734432,2017.3166821148566,2032.1342677151604,2043.9969887826378,2058.698509381565,2073.968915771147,2086.407740675191,2099.756168848509,2114.452615129603,2128.0916740442417,2139.4295293718183,2154.365048180068,2169.226802889857,2186.978579638138,2198.3114128448733,2210.965586431368,2213.9701745080674,2217.18155967452,2221.264206286406,2236.6118271024966,2248.2973440623027,2259.25580067698,2274.8390667509116,2287.8861779667577,2303.483913748277,2314.1104492126256,2326.1012949363917,2340.2949329412822,2353.6028913898112,2363.7624669946495,2365.590305560182,2369.9822371425093,2380.581642584503,2394.85168927028,2405.69372867751,2419.1102759280516,2431.59532028984,2443.3491681400133,2457.1177617866038,2466.958739279438,2480.3224731913792,2492.3385523190714,2504.0298874732516,2515.5590539142745,2525.660090255861,2533.6216858707794,2543.6804495852107,2555.2803464959766,2565.870349464605,2577.8114162961306,2589.2699461929597,2602.6476607728973,2613.642934572017,2623.6684582674434,2629.43601934712,2638.7320900559766,2640.7359781916807,2642.4316133414686,2653.3929010506695,2663.79183344044,2668.947963425621,2675.834049081955,2683.1534545032823,2696.2651396507713,2709.79115269146,2714.919040802633,2717.685829518449,2720.081238415055,2721.5753485444684,2724.498202984912,2738.6734148596347,2743.08265293888,2749.408603780407,2752.6040743698754,2764.4038512156158,2774.4726803220888,2775.6089196962225,2783.659194723641,2788.5082254109207,2793.8782998050033,2801.154157682353,2808.240950487178,2817.3786966705306,2823.0631635460936,2833.0085133993293,2840.0368053050847,2844.5202193671503,2847.6870525751456,2850.439714217827,2855.7787254024624,2863.122352025356,2868.238989636465,2874.8508552186368,2877.629264654172,2886.6829493478504,2890.2290110960325,2897.061177501564,2903.1439519033024,2911.677872518081,2918.8980009528823,2923.90115700307,2925.16460851248,2927.352527264832,2935.7682914392813,2941.973542408033,2950.1758059035196,2961.4735962008094,2972.667490834133,2983.478601854345,2992.6812700655246,3000.2045137735163,3009.586213269802,3019.166314214328,3026.9798345842887,3035.2117079428094,3042.9136947265356,3053.4869635242353,3062.044218852391,3071.95155999956,3084.012053696577,3092.2379032499116,3101.578367956193,3112.9320381892067,3121.125871785722,3131.4878017291667,3140.5028946110033,3147.7176527048496,3152.9297788949284,3153.9661492193377,3155.978237614597,3158.4377050270195,3167.269915435157,3176.7311983701475,3186.8340791061123,3198.1340449125855,3201.745279307447,3203.632227841224,3216.4032005576423,3224.7727594386542,3233.7841399503036,3244.9575129785144,3254.112724751002,3265.2790883552793,3275.9409671629596,3284.3122050988927,3295.75067991812,3306.3102870491366,3316.5641915631027,3323.4995174717237,3331.869014287162,3342.8339323738815,3354.8050376838487,3362.5374717928153,3372.9961974897747,3383.484821160019,3393.5848574465836,3394.6728199794647,3396.1686358811708,3406.4427921265105,3416.5258170019774,3427.9327711742158,3438.7991296432865,3449.4579055915174,3450.650646751994,3454.5940763394556,3456.738566306807,3465.5568408548866,3467.865649242958,3480.9499110810184,3482.4532114393637,3483.4727110182434,3485.390886537692,3493.2479961783533,3503.6231980021253,3514.731765318498,3526.2674251070152,3533.363373305033,3544.737218080223,3548.911149530473,3555.731553812939,3561.0845670478234,3562.627759191254,3564.0009410716534,3565.9904471180575,3578.1476890700005,3588.631422358801,3594.5728346835913,3601.71105897094,3613.2948447864674,3625.4745411935746,3635.0586527981086,3645.376546806155,3657.4191586352504,3669.991524135012,3679.8088755026624,3688.522133833353,3696.640532249491,3703.1621209945442,3713.745703348032,3722.952975477241,3731.956901845683,3744.3535066925547,3754.0433873687243,3765.2086015161462,3772.795516876831,3780.7549805138374,3790.709353234336,3799.6156016871582,3807.132365825166,3818.3855808246285,3829.0287483282505,3839.3038891918536,3851.728923658076,3862.2114252981655,3871.041187764623,3882.8658075282756,3893.8295890532045,3905.839626622442,3915.6192806776644,3924.30772302498,3934.0808414458857,3942.7848510659087,3953.9090380729326,3965.962184039509,3973.913692936826,3983.593519974912,3985.1490073086993,3988.634241982165,3993.8379355489546,3997.567423658709,3998.963761259333,4009.388730741714,4020.269707080736,4028.9412389554213,4039.855262970208,4050.819534894796,4054.2452101769327,4059.8553290732407,4062.873229149494,4063.981083728784,4071.490142918327,4078.881978706248,4093.834771199204,4104.701023884032,4115.570305682369,4126.484644305813,4135.648643427136,4147.186188995222,4155.999722369519,4165.565642441612,4172.1056375290555,4180.209713427143,4190.331449980762,4201.249566482417,4208.143964106293,4216.797607503166,4227.355165459737,4235.045019121136,4243.1370070616285,4254.311295075599,4265.421825392094,4270.763442342998,4280.0279981735175,4290.125515148115,4300.810707677108,4312.579770498907,4323.814641766311,4331.008758155497,4342.508372698792,4347.913005044056,4355.500325097061,4365.083605189099,4373.724630251462,4383.409505592361,4394.769855352888,4404.351612098555,4406.223599406936,4409.768908224108,4420.64509074708,4430.064773163464,4439.696964875313,4449.704116065967,4458.206808159067,4462.941738926052,4471.799754048063,4479.807779717837,4489.659071284521,4498.739433138063,4507.620744703948,4519.6612319472115,4532.482914132227,4545.4926917202865,4556.3804835274095,4566.715036027505,4579.4882435841755,4589.590132396403,4600.032756348554,4607.5083418847,4616.180293848123,4622.783022146778,4629.624089257593,4638.688879519001,4650.0171028960785,4659.1056327966435,4668.497370091501,4681.44387978767,4692.956728241719,4700.4840519408135,4703.265693960059,4711.493244696776,4721.652109185898,4732.362941696527,4741.74213941189,4747.143426384593,4761.100964297498,4772.925305271015,4785.646132404796,4797.358437267121,4808.406883566067,4819.000284283603,4828.944241667513,4835.622670158374,4838.071581368343,4847.308627875552,4849.032960518445,4854.932859331351,4862.831306497198,4871.2476839066785,4880.778338692505,4890.86810313453,4902.39947850128,4914.02908771104,4925.440103582964,4936.896835147573,4947.9080857546805,4958.714431839832,4970.074658403567,4978.829926323473,4989.437606578121,4998.007042831542,5009.49549621899,5018.496048868109,5031.608904655029,5043.659491425002,5056.371429849001,5066.929497945752,5072.345935882814,5074.373786816956,5087.538235472473,5097.0458997852165,5109.21279914804,5120.350767595158,5132.073316016446,5139.63883248295,5152.135540745906,5162.565590936881,5172.069265712531,5180.439132463655,5194.474437314878,5207.662884733549,5219.638884594341,5232.739670390099,5246.428515197524,5261.551436432027,5273.993797140509,5284.695251804073,5294.999076337181,5304.318597095203,5305.349217214169,5315.379099093612,5325.603586105356,5338.430389075459,5350.618183510621,5358.049930425636,5361.525568749873,5371.586573263246,5381.307453489441,5391.989033615017,5403.475599380089,5413.270225030344,5424.055176281274,5436.0794670933665,5446.822034455797,5455.525694630308,5466.483341192053,5476.135717011943,5485.6829360581305,5495.068135731974,5507.398639347743,5520.570603045403,5531.852752915114,5543.991831534691,5554.434682330193,5564.389770659114,5575.999979844561,5585.544583231626,5597.689629221471,5608.117328208303,5618.244869656751,5627.478882311925,5638.51589060459,5647.712065310716,5659.5299202747365,5669.943481436074,5681.5750887645645,5690.158642477773,5699.088906833736,5706.588005790495,5709.317410734888,5710.390538556842,5713.7197914653825,5714.874064922208,5717.129315163902,5719.0058688171175,5722.668870211476,5724.391950292296,5727.342804356108,5728.644203865926,5735.7384181945845,5736.777455014853,5747.909768210665,5757.797258646101,5765.838090733235,5774.071322696348,5783.991502601842,5796.469726242988,5810.482874584267,5822.77254392118,5834.198936349139,5840.726302182608,5849.1469975224545,5861.198772344339,5870.6765575590125,5881.033032706374,5894.872603539989,5907.187397005886,5919.838445046409,5926.744039021073,5929.210320503533,5931.122638848655,5933.019505267815,5934.470726362996,5944.237466151427,5953.205164595368,5960.932135357426,5973.539440719218,5984.0030851745405,5995.3693019953735,6007.847571460631,6021.477365047767,6033.30713698208,6045.342887779507,6057.461977931557,6069.3905667323,6081.460637822831,6090.7752327422695,6098.17900048948,6099.380842540454,6108.233754353031,6119.220081302039,6120.482183637709,6131.443429982114,6140.741313753379,6151.5330235325055,6162.352624118829,6171.564136327571,6181.246817060355,6192.6347281134495,6204.514893808813,6214.23111967692,6225.05713016742,6235.269569247903,6247.035202975449,6257.616975578089,6266.941655761448,6276.772597128971,6285.762886161899,6289.791112332783,6297.84223785832,6308.704654888927,6320.459194953066,6330.01577330885,6344.093248146344,6355.186614953732,6365.812802884963,6374.857625241402,6386.598646486498,6397.304975918864,6405.607443550668,6417.272658862634,6419.468988319722,6421.41705259835,6431.008004083483,6440.758283599039,6449.752609944254,6459.464025854876,6468.33309987414,6478.533610027159,6486.363737184722,6496.865880884867,6506.349133954246,6517.4471079492,6527.911137607167,6539.007280430338,6549.448859636438,6555.183676122919,6565.92728570698,6575.467248460252,6589.104051117989,6604.34855970166,6618.233273819464,6628.1565792090605,6638.732489268485,6648.936708286571,6659.61409168144,6668.5090527375605,6669.618165579407,6679.6024215801435,6688.860836359386,6700.550100365555,6711.633150461086,6721.1269022312335,6729.442803265513,6741.204427745325,6752.801915010417,6764.000919349898,6773.515088423607,6775.162582706079,6779.44800541188,6786.598768505727,6794.635013673183,6799.513779369083,6808.564705811437,6819.239028330526,6829.930916691918,6841.029014755074,6852.2418216225615,6856.155468235725,6860.887633483698,6863.059276121385,6868.595508525487,6871.116773413772,6879.828592670096,6881.529333682589,6889.449347600368,6892.031382694147,6894.740848908915,6896.525750879465,6900.93443693587,6902.226240026448,6904.675719472277,6906.506271252585,6911.234821246251,6916.8205017144655,6921.883735470423,6923.836415449574,6934.049279557368,6944.777906973932,6956.786445808125,6968.181212546257,6978.287314779462,6990.889350880359,7003.64805816184,7014.613832956898,7028.114259709523,7041.530495808985,7052.712947785471,7064.706669269801,7075.530609320306,7088.625194165618,7096.750264130921,7111.261001184232,7123.055667925299,7136.695257727082,7143.36509005364,7152.970449819981,7159.696712975973,7161.17740439833,7162.994971208373,7164.120513940957,7168.433697068226,7170.121037770663,7178.740999858538,7188.120506903871,7203.052282758094,7215.211230513172,7230.509211032476,7242.087726048833,7247.057914167493,7254.357207162029,7266.118326357494,7278.151727937611,7289.144523395683,7302.018228479448,7313.8977700486885,7325.7109327562075,7338.132736166189,7351.859223694847,7367.136713754771,7378.272754918551,7390.428634173712,7404.356888275871,7416.578315554141,7431.717839965675,7445.087128656234,7458.020471441733,7471.17699741388,7487.976065371463,7502.042790892489,7516.363380201752,7524.865394731779,7526.104645526383,7531.6847757554615,7532.973815093619,7541.637736846536,7551.2957193469665,7562.112365515223,7576.399415660057,7587.794040609964,7601.5242673184775,7614.988278532136,7627.679978091049,7642.04418163115,7658.261405968762,7672.040227473359,7687.028729140203,7703.540212824121,7714.771896926655,7723.6510285145905,7737.512556236486,7750.765528477367,7766.548113436633,7777.8076512258485,7791.866612157725,7802.6459166885425,7819.038787434647,7833.407644970404,7849.096553556282,7864.935446745233,7879.808690607262,7890.518710183746,7892.547851329464,7899.5533316727015,7901.352379231612,7902.688337092232,7913.145314927697,7925.765263118196,7938.553641910741,7949.323403941538,7960.73971700603,7972.4308088158095,7986.868517859776,8000.173472919516,8014.211607508875,8029.283146337097,8044.123583922076,8059.838711101943,8072.021441628288,8085.501734921434,8092.519024667819,8093.776672689771,8101.35798941869,8112.286383864418,8124.915159097938,8140.184739467772,8156.465747040029,8170.127537677461,8184.69115398806,8198.40152719723,8212.316676453427,8223.954807267093,8235.71977021522,8249.839887192604,8263.364748518215,8278.141446142143,8292.149166414369,8305.871061467955,8319.96976621464,8333.82209888685,8347.95957028245,8361.225189875204,8376.383955089423,8389.431977084883,8402.824607385954,8421.343525550457,8434.7437840835,8448.59796876852,8461.705937664778,8476.412452734068,8491.116937917746,8504.065741332613,8512.945657108226,8514.047118351078,8524.274221302214,8536.31882573678,8547.861124455934,8559.407989946874,8569.839560974582,8583.816195801355,8593.768237475777,8607.93743573448,8621.60127224645,8636.861140745383,8651.284975077364,8665.998993292946,8681.179889603682,8696.210802733116,8708.89499673445,8724.572361128241,8737.80022617209,8749.861648717877,8765.364723537059,8780.232151061851,8789.935993537047,8805.493517632593,8819.62788560444,8833.694926395274,8847.58558654529,8867.95192161844,8883.096299878267,8894.86359907965,8910.039747009652,8927.319201101174,8943.383878891515,8958.146178486379,8968.867965241503,8979.667594131584,8991.058981078537,9003.717907129445,9014.966678413493,9034.800935812722,9051.940553389606,9065.858774397579,9077.402135453718,9092.093239761145,9106.401033603383,9116.682348373839,9128.508304431363,9141.752935554636,9156.636566476465,9169.64828557333,9188.464763857733,9207.13755122788,9220.630625557063,9234.729463491036,9247.677931850967,9261.536942733934,9273.154093708377,9286.461903069678,9298.569950061517,9312.401421626959,9331.439310254162,9344.106506042617,9354.252767659409,9359.554343569045,9371.405638606759,9379.71121512808,9381.17162550962,9382.939480052884,9390.693203242246,9405.179157394792,9418.964791363585,9434.816521013887,9446.912487543039,9458.598159057714,9466.716446324539,9468.25654491439,9481.649269059244,9493.332036881842,9507.111381224158,9508.859990248591,9520.097509390012,9531.343546417771,9542.548828618565,9554.832859700215,9567.574448984962,9580.67833034235,9593.562377067858,9608.184460101855,9618.569348244573,9629.982591613194,9642.117433255902,9654.973164286337,9669.609279862958,9681.891506739135,9693.208751197311,9702.50371738264,9715.976653444615,9729.13465050358,9744.077501080274,9758.007340109078,9772.183485902611,9777.3848908801,9782.505643613935,9789.657359672654,9791.993855303206,9801.289023235908,9812.617014686042,9822.253784149789,9833.341927133159,9847.400547481568,9858.630251981309,9869.330059279604,9880.538576835597,9893.497840607477,9904.453288303179,9917.395644483513,9932.594036749479,9945.284126495471,9957.429938474263,9965.022929497183,9979.588970578521,9992.85932640429,10003.880848261244,10017.494049301884,10029.706484640154,10043.421231975488,10056.83689499715,10070.001436608174,10083.624089358966,10095.88006684523,10108.368058346598,10123.373090846348,10137.793067379158,10150.590228795654,10165.427998756235,10181.271767627597,10199.016072423621,10210.578377385982,10223.629231130328,10234.950817537396,10248.170997604744,10262.723044702418,10277.120548056733,10289.250863995243,10303.133373263907,10314.005551606995,10328.084629113495,10340.540237509207,10349.71649484921,10362.628840701029,10374.95090986474,10377.553518587078,10391.003806815512,10401.613931509473,10412.060262771174,10423.078148121262,10434.617270134706,10447.369039250883,10458.6792788952,10470.94979634196,10479.609602185095,10489.447988079086,10504.501471423122,10518.691405889804,10531.795933777616,10544.070406646613,10555.082019661635,10567.233644859767,10580.147915283176,10591.819459041231,10602.85879430044,10613.05377562664,10627.256261971637,10643.014107179892,10656.221339222966,10669.6847084749,10681.74793184513,10694.73042624647,10708.592804131677,10722.00883048031,10734.361547814084,10747.422374693051,10759.57056255471,10772.455438288784,10787.762444172447,10803.746103281546,10813.838078150702,10827.34026943225,10842.641433073632,10855.293191557907,10868.035328067286,10884.622227807386,10897.5696691022,10909.989292720205,10923.952091874042,10940.731337330144,10955.405735201231,10959.856547655776,10973.074589686363,10986.219426606416,10997.635771026824,11008.28188763076,11023.017843041402,11036.170137458615,11048.57823483173,11060.430114806131,11072.73070926083,11086.422272907874,11100.355809451446,11114.805296154691,11128.754556659285,11140.660160773235,11153.042703170706,11164.129923836499,11177.517982496287,11184.93260385447,11197.10816760618,11208.84809950529,11221.527583120756,11227.93683304156,11244.803828362454,11258.474395666983,11267.4066336024,11279.624560603284,11290.521257840755,11292.283780928323,11304.373913060643,11317.839164706425,11328.446992506528,11339.160757876078,11351.060605678987,11361.843493095359,11374.847788593943,11385.92132941376,11395.806003009506,11403.189405673986,11415.90941682364,11429.998185979113,11444.531852934453,11457.867625947023,11469.91742227141,11478.076484972478,11485.190461398077,11497.324749788937,11511.481899695247,11523.39583903247,11535.82740925278,11546.675770694053,11555.999630834665,11571.649463295307,11585.531385730315,11596.5569265582,11610.174372366495,11620.343524933336,11631.335685624204,11641.590098320185,11651.146880020166,11657.821441116836,11663.02209739684,11673.937629084045,11683.709697879667,11695.08598335038,11706.876209272388,11717.92502066215,11729.842595092547,11744.8686735972,11754.911024202855,11768.098616698458,11781.587646274193,11797.066981990334,11812.23675298104,11824.035011365753,11837.563755113802,11849.128879204598,11861.408721241381,11878.862769916168,11893.356976265894,11906.495688224919,11921.719268099037,11939.911408915968,11956.704489111029,11968.055662201992,11979.858252442533,11990.961548642474,12004.82567672483,12016.808387289406,12029.673732083422,12044.964979852413,12061.09166822897,12076.062386106418,12088.74787252035,12101.160915009368,12114.369097214338,12128.763210049332,12142.089267594261,12158.468282361593,12173.672346940086,12185.733542314698,12199.83980553755,12217.198480359806,12229.817562030434,12243.327723858814,12256.47868031544,12272.76869970993,12289.046954716627,12300.149661078161,12319.994500566247,12332.820063152098,12345.288186065492,12361.647516461655,12372.813996664645,12382.546064127693,12397.075169703056,12409.011130039993,12417.656553397914,12431.545029777075,12442.607002264165,12459.439319187339,12469.889174000262,12481.242327994929,12487.86669333886,12499.446054049758,12510.807155581006,12522.797499761851,12530.9714507727,12537.078242918631,12545.723821027806,12547.649234460994,12556.569511569978,12574.35224194239,12585.475987358379,12600.466683746596,12607.839733940364,12618.931389504623,12630.947977168627,12640.900154782317,12652.76842896904,12661.36195524871,12669.679199305736,12680.35986037925,12688.240020932799,12696.301977150486,12706.11442362729,12712.409244641116,12717.688391765827,12727.11586286397,12735.486171987046,12748.497696434948,12760.239721290658,12766.351121956905,12772.204957679536,12788.488944334982,12806.164132940485,12816.696616099458,12817.965132560345,12827.02628303743,12829.057934879696,12837.036281500006,12845.794427270625,12851.426679764923,12861.108053818218,12879.636539409075,12894.448916916152,12905.633096129295,12907.768158240053,12914.786590134225,12926.11884487418,12932.828056526141,12935.383980514436,12937.087843862875,12945.067623679344,12954.327479923479,12958.13592348151,12960.279458014447,12968.496462017234,12973.476089043206,12977.13622436267,12979.67878704725,12990.035515345788,12999.729859853178,13003.105912713449,13008.062227046095,13013.718840078767,13021.11977773462,13035.103622250646,13042.616245915622,13049.031991829019,13056.572502733192,13064.713832243182,13074.259928277752,13079.031255430747,13095.069915707416,13103.29847305579,13104.87455387113,13122.229835426779,13126.059571268104,13132.15012869721,13140.299328377569,13148.190630775081,13158.217960236021,13160.227907576,13162.937763079366,13167.214938851488,13171.786417050916,13181.036000985523,13188.276646004835,13194.920225221213,13204.940684806576,13207.54274199746,13215.011089423118,13223.981335975028,13228.253968527926,13233.42098574067,13238.434773972629,13244.878415797046,13252.78365146192,13258.771272314438,13266.390218634164,13275.985199303017,13285.388454698668,13297.386629678507,13309.286341334024,13319.987226061816,13330.881803150512,13341.787148063175,13352.241275086642,13362.70383080751,13376.979226637675,13387.049446445106,13396.722301853852,13408.490966593241,13417.23317120186,13425.889349293251,13428.781994132478,13430.008476949204,13436.128536526283,13444.653086426586,13453.869246438358,13466.629678136469,13475.901167966967,13483.916198879215,13493.159733915425,13503.784782192732,13513.562410817216,13523.717498352296,13534.844312669828,13544.804412940548,13552.991247144486,13555.695035668155,13572.813778248867,13582.56859212789,13590.078552469653,13597.916622662164,13607.661992146996,13620.81417237506,13632.15449118422,13645.097675570203,13651.458975945934,13661.024735230403,13673.085105060665,13684.908662616715,13696.942357055466,13711.014621547249,13721.038377941582,13730.251472204965,13736.070489545871,13740.039718982229,13752.012414485886,13769.254626891092,13774.911530575371,13781.638283761009,13793.487537252438,13801.761384092631,13812.972928904652,13842.46098989015,13844.945509870346,13850.028056221625,13850.028056221625],\"y\":[1418.34,1414.2,1412.33,1406.5,1401.66,1399.75,1401.71,1409.01,1411.33,1414.65,1419.14,1417.92,1415.54,1411.82,1408.32,1401.41,1400.44,1403.49,1405.82,1412.54,1413.14,1415.73,1415.63,1412.21,1410.4,1409.61,1407.95,1407.96,1407.94,1404.07,1403.2,1402.88,1403.59,1402.9,1401.15,1401.23,1397.86,1397.88,1399.42,1399.61,1396.7,1395.33,1396.33,1397.08,1397.14,1399.93,1393.72,1390.27,1390.81,1390.08,1390.85,1391.29,1392.93,1390.44,1387.9,1388.38,1385.97,1383.73,1382.27,1380.23,1375.86,1376.84,1377.59,1374.05,1370.85,1373.89,1376.12,1377.63,1381.25,1384.51,1385.65,1382.0,1380.55,1379.36,1378.46,1376.46,1374.24,1375.98,1378.72,1375.35,1373.0,1377.7,1375.32,1373.58,1372.63,1371.35,1371.01,1374.88,1372.67,1370.36,1370.5,1366.94,1365.03,1363.42,1361.63,1362.04,1361.56,1361.39,1363.88,1364.22,1365.12,1364.73,1361.24,1361.08,1362.05,1361.82,1361.46,1362.28,1362.96,1360.85,1355.99,1352.65,1349.74,1351.47,1349.24,1347.69,1349.97,1352.26,1352.31,1349.93,1349.12,1348.87,1349.22,1346.27,1345.44,1343.94,1342.87,1341.85,1343.31,1342.94,1338.55,1340.26,1343.35,1347.94,1349.14,1350.53,1353.07,1359.65,1362.66,1367.83,1368.24,1367.71,1364.35,1362.85,1359.54,1354.92,1351.96,1352.77,1353.34,1351.2,1345.36,1340.84,1336.13,1334.14,1331.57,1329.32,1325.39,1324.41,1329.85,1329.8,1331.47,1331.78,1331.62,1329.41,1329.98,1330.56,1330.78,1328.57,1328.14,1325.28,1325.4,1324.84,1323.23,1323.08,1320.86,1322.28,1325.49,1328.08,1328.73,1330.13,1333.22,1337.4,1340.4,1340.6,1341.91,1342.16,1339.84,1333.16,1330.9,1331.8,1329.74,1330.51,1330.34,1329.51,1333.12,1330.37,1323.59,1316.1,1310.97,1309.13,1310.16,1311.34,1313.95,1316.13,1318.93,1324.02,1328.47,1332.79,1332.96,1334.41,1338.15,1338.09,1338.23,1338.85,1339.6,1339.18,1338.67,1338.79,1337.62,1332.58,1328.43,1325.86,1328.22,1329.23,1327.79,1325.44,1326.29,1327.7,1328.75,1330.53,1331.75,1334.92,1337.71,1340.93,1345.61,1347.86,1350.3,1347.91,1345.93,1345.93,1345.94,1348.05,1349.16,1348.99,1346.0,1342.45,1337.26,1331.79,1330.72,1330.02,1330.11,1330.16,1330.18,1329.37,1329.33,1332.35,1333.57,1342.28,1349.72,1349.68,1349.03,1345.27,1345.2,1348.58,1352.72,1360.05,1362.23,1362.18,1360.17,1359.11,1358.1,1358.65,1358.18,1359.17,1361.03,1364.73,1366.49,1370.48,1371.99,1376.68,1381.3,1388.08,1389.9,1392.47,1393.03,1394.82,1397.83,1401.19,1405.01,1407.07,1407.7,1410.06,1413.72,1413.31,1415.04,1414.36,1413.58,1419.11,1417.35,1415.01,1415.22,1416.84,1417.91,1419.88,1420.11,1420.58,1421.06,1421.43,1423.2,1424.79,1424.99,1424.97,1424.91,1424.97,1424.48,1424.58,1424.64,1424.04,1424.56,1425.26,1427.24,1428.44,1430.72,1432.95,1434.22,1436.71,1437.76,1437.42,1438.12,1439.71,1442.27,1444.89,1446.12,1443.25,1441.85,1441.63,1442.27,1444.76,1446.5,1446.75,1447.52,1446.45,1445.55,1444.68,1445.07,1445.65,1445.66,1443.59,1444.21,1446.84,1448.2,1449.36,1449.92,1449.99,1450.25,1450.66,1453.33,1458.02,1462.04,1463.94,1466.69,1467.21,1466.24,1465.32,1464.46,1464.21,1464.01,1465.32,1465.4,1464.79,1462.37,1461.08,1462.98,1463.48,1465.37,1467.44,1470.63,1473.44,1474.22,1475.8,1476.94,1478.05,1476.48,1474.9,1474.6,1475.43,1476.01,1475.83,1475.75,1476.15,1476.57,1476.94,1477.57,1478.19,1480.07,1481.91,1484.23,1484.87,1485.83,1486.63,1487.56,1487.95,1488.65,1489.82,1490.59,1490.42,1492.17,1494.22,1496.32,1497.41,1496.32,1494.42,1493.49,1493.35,1494.5,1496.7,1497.11,1496.6,1495.49,1492.44,1492.61,1493.09,1493.42,1494.73,1495.68,1499.2,1501.17,1501.58,1502.18,1505.68,1509.55,1512.0,1512.81,1512.27,1511.69,1511.45,1514.58,1517.32,1519.59,1518.25,1517.64,1517.65,1517.87,1521.87,1523.45,1524.34,1524.3,1522.14,1521.34,1522.25,1523.33,1524.02,1525.04,1526.32,1524.34,1522.92,1522.8,1521.59,1522.0,1522.44,1522.54,1523.14,1522.55,1522.6,1524.61,1526.75,1527.65,1529.69,1530.03,1532.76,1536.04,1538.63,1538.71,1537.73,1539.45,1540.05,1542.94,1544.88,1546.28,1549.15,1550.7,1551.53,1551.59,1550.62,1550.52,1552.83,1556.03,1557.34,1559.08,1560.71,1560.4,1561.23,1562.54,1562.09,1563.25,1565.07,1565.48,1567.35,1567.31,1567.87,1568.5,1570.43,1571.91,1573.69,1574.22,1575.17,1575.99,1576.26,1576.59,1577.99,1581.57,1582.31,1583.35,1584.26,1583.77,1584.94,1587.57,1588.58,1590.09,1591.09,1592.86,1593.2,1594.77,1594.97,1596.37,1598.68,1599.17,1597.94,1599.68,1601.48,1601.16,1599.98,1601.61,1602.15,1602.05,1601.98,1602.78,1604.61,1604.65,1605.58,1606.88,1607.78,1610.18,1611.79,1611.81,1609.8,1610.17,1611.45,1612.48,1613.85,1614.18,1614.19,1614.56,1616.66,1618.46,1618.44,1618.46,1618.63,1620.29,1622.39,1624.25,1627.15,1630.45,1631.57,1631.13,1631.29,1632.71,1634.29,1635.53,1636.24,1636.9,1637.77,1638.41,1638.31,1638.61,1639.8,1642.33,1643.26,1642.34,1642.36,1642.87,1643.86,1644.27,1646.53,1648.43,1649.65,1650.76,1652.21,1652.52,1653.19,1653.94,1654.49,1654.42,1655.06,1654.84,1654.26,1654.6,1656.39,1656.3,1655.87,1655.77,1655.42,1655.6,1656.11,1655.98,1656.7,1657.08,1657.09,1659.27,1661.67,1663.71,1666.48,1666.78,1666.59,1668.51,1669.5,1669.72,1669.41,1669.21,1667.8,1667.13,1667.16,1667.97,1668.1,1668.26,1668.88,1668.24,1669.25,1670.81,1672.18,1672.57,1674.39,1676.5,1676.5,1676.84,1676.6,1676.45,1676.71,1677.55,1678.4,1678.08,1680.79,1684.24,1683.98,1684.71,1686.12,1687.94,1689.88,1690.13,1692.93,1693.09,1692.92,1693.7,1695.21,1695.67,1695.0,1695.73,1698.21,1699.69,1699.71,1697.79,1698.36,1699.8,1701.65,1703.26,1704.3,1704.93,1705.14,1706.74,1707.28,1707.01,1707.9,1709.28,1710.01,1710.57,1712.32,1713.55,1715.18,1715.17,1716.31,1716.76,1715.83,1716.25,1716.15,1717.0,1718.83,1720.44,1721.44,1721.58,1722.11,1723.92,1723.44,1725.87,1729.99,1730.24,1730.32,1731.03,1732.18,1732.86,1732.92,1733.07,1734.89,1737.11,1737.72,1738.97,1739.61,1740.83,1743.9,1743.65,1743.35,1742.52,1743.36,1746.27,1747.31,1747.16,1746.29,1745.27,1746.77,1746.82,1746.78,1747.14,1747.46,1747.37,1747.08,1746.54,1745.54,1745.16,1743.71,1743.96,1744.44,1745.16,1745.24,1745.05,1744.43,1744.91,1744.61,1744.19,1743.98,1743.57,1741.05,1742.59,1741.35,1740.6,1739.33,1738.75,1736.65,1736.1,1736.37,1736.38,1737.02,1738.14,1738.23,1738.98,1739.14,1740.27,1739.19,1737.95,1739.13,1736.98,1732.14,1732.35,1733.3,1733.17,1732.94,1733.83,1733.79,1734.07,1734.29,1735.07,1734.83,1734.18,1733.53,1731.52,1728.87,1726.58,1725.35,1723.85,1722.48,1720.56,1717.79,1715.53,1713.69,1712.32,1711.98,1713.85,1714.81,1715.38,1715.23,1714.7,1714.86,1713.0,1709.28,1705.93,1705.12,1704.97,1705.17,1705.5,1707.12,1706.02,1705.48,1705.04,1704.75,1702.66,1703.44,1703.9,1702.59,1698.16,1695.74,1694.76,1693.38,1690.26,1688.66,1686.4,1685.34,1685.05,1683.28,1682.51,1682.1,1680.2,1678.16,1676.04,1673.57,1672.53,1671.14,1670.9,1670.02,1670.02,1669.77,1668.66,1667.0,1665.68,1667.63,1668.83,1667.83,1667.47,1666.13,1664.91,1663.05,1662.07,1660.46,1655.35,1651.0,1649.68,1649.78,1651.08,1650.9,1649.43,1648.77,1649.12,1649.85,1649.39,1650.32,1650.17,1649.37,1647.96,1646.32,1645.89,1644.06,1640.06,1638.91,1638.48,1638.55,1639.01,1642.27,1642.65,1640.03,1637.84,1637.1,1634.67,1633.35,1632.89,1630.03,1627.68,1626.01,1623.14,1622.83,1619.43,1618.41,1618.37,1617.44,1616.07,1613.96,1614.13,1614.56,1613.64,1611.94,1609.34,1608.88,1607.65,1603.69,1602.68,1601.34,1602.24,1600.81,1599.16,1597.76,1596.77,1596.89,1596.95,1600.26,1602.19,1601.63,1599.09,1598.43,1596.03,1591.73,1589.19,1585.6,1582.79,1580.42,1579.71,1580.4,1579.72,1579.18,1576.34,1573.42,1571.41,1567.85,1567.37,1567.45,1567.02,1563.87,1563.79,1564.06,1562.9,1561.33,1560.78,1560.04,1558.54,1555.83,1551.5,1548.62,1546.89,1544.72,1542.81,1539.6,1537.45,1535.93,1534.58,1535.38,1534.64,1534.26,1534.02,1533.29,1530.39,1526.73,1528.1,1527.82,1526.4,1526.83,1530.24,1530.03,1528.86,1528.61,1525.89,1523.61,1522.16,1522.65,1523.82,1524.15,1522.95,1524.01,1525.27,1524.74,1522.66,1521.58,1523.43,1523.76,1523.39,1518.36,1515.14,1514.35,1511.63,1505.46,1500.66,1499.08,1497.47,1495.43,1495.17,1495.4,1494.77,1493.29,1492.84,1493.58,1492.28,1492.51,1493.7,1495.25,1498.18,1499.6,1498.28,1497.37,1498.72,1498.21,1492.78,1486.8,1482.49,1477.14,1475.29,1472.67,1471.42,1469.53,1469.19,1467.9,1467.01,1469.61,1473.04,1477.26,1481.66,1483.88,1481.65,1479.98,1477.23,1476.5,1474.28,1471.89,1470.3,1467.48,1465.1,1460.17,1454.4,1450.21,1449.56,1447.49,1445.55,1444.65,1444.56,1445.38,1444.78,1443.53,1443.76,1442.69,1442.36,1439.77,1440.14,1439.81,1438.63,1436.59,1433.51,1430.93,1428.28,1427.46,1425.17,1422.27,1421.59,1422.73,1422.89,1423.79,1425.72,1426.75,1427.46,1428.01,1427.58,1428.68,1430.37,1429.96,1429.55,1427.54,1422.22,1418.1,1415.92,1412.99,1410.09,1409.13,1407.11,1411.28,1410.7,1406.91,1400.67,1396.33,1396.32,1395.77,1392.74,1393.25,1391.33,1389.89,1389.58,1388.68,1388.04,1388.32,1387.65,1385.78,1384.64,1383.02,1381.52,1380.09,1379.35,1379.06,1377.15,1376.6,1377.41,1377.74,1376.97,1375.53,1374.68,1372.21,1370.58,1369.71,1369.3,1369.36,1368.6,1369.62,1369.84,1370.94,1372.56,1371.95,1371.57,1370.57,1365.36,1362.88,1361.0,1361.63,1358.95,1354.52,1355.05,1357.96,1357.54,1356.33,1355.13,1352.66,1350.11,1350.35,1351.74,1352.65,1350.59,1347.68,1349.48,1349.22,1347.68,1348.68,1346.08,1345.74,1346.34,1349.03,1349.02,1347.21,1347.22,1347.97,1350.89,1346.65,1343.98,1341.38,1336.92,1337.46,1337.52,1336.29,1333.81,1328.55,1325.06,1322.61,1322.33,1323.45,1323.4,1325.09,1327.42,1327.99,1328.54,1329.94,1330.25,1328.66,1326.16,1322.97,1321.42,1322.59,1323.01,1320.37,1320.09,1317.71,1312.96,1312.09,1313.47,1314.64,1317.41,1318.76,1316.37,1316.23,1315.17,1317.7,1321.66,1322.23,1324.04,1324.45,1325.49,1330.25,1332.27,1332.62,1336.74,1337.32,1336.15,1339.03,1339.96,1339.95,1338.69,1338.91,1338.11,1335.59,1334.87,1336.05,1337.54,1337.92,1339.84,1339.72,1339.34,1339.96,1340.5,1341.34,1342.56,1339.13,1337.85,1337.66,1337.87,1338.92,1338.11,1339.2,1341.25,1342.88,1344.29,1346.49,1347.2,1347.82,1347.48,1348.67,1347.9,1348.57,1348.99,1351.37,1353.89,1355.69,1355.94,1356.84,1357.14,1357.61,1357.96,1357.68,1357.6,1360.69,1358.02,1358.35,1358.49,1359.99,1357.7,1355.78,1354.59,1355.47,1359.63,1363.72,1363.18,1363.04,1364.03,1365.89,1367.24,1367.78,1372.25,1375.62,1376.79,1376.92,1378.07,1378.57,1380.56,1380.86,1381.23,1382.2,1382.05,1383.62,1383.65,1383.95,1384.36,1384.45,1385.99,1386.44,1388.7,1389.9,1389.19,1390.31,1390.81,1392.08,1394.34,1395.3,1395.62,1396.46,1398.01,1398.12,1397.78,1399.38,1398.83,1400.99,1401.93,1403.97,1406.58,1408.39,1403.32,1402.93,1405.44,1408.06,1411.19,1413.88,1416.05,1415.97,1414.22,1412.74,1413.69,1420.41,1422.39,1425.62,1426.38,1422.72,1419.65,1420.29,1420.17,1419.66,1421.44,1421.29,1418.17,1417.34,1418.29,1418.38,1417.95,1416.15,1415.23,1415.69,1415.47,1416.11,1415.11,1413.68,1414.63,1414.19,1415.85,1417.44,1416.75,1417.98,1412.45,1410.35,1412.36,1412.14,1414.36,1416.52,1418.36,1419.11,1418.82,1418.55,1417.39,1416.46,1415.24,1415.4,1417.25,1417.05,1416.65,1414.95,1413.24,1411.88,1413.5,1413.5]},\"selected\":{\"id\":\"1045\"},\"selection_policy\":{\"id\":\"1046\"}},\"id\":\"1035\",\"type\":\"ColumnDataSource\"},{\"attributes\":{},\"id\":\"1044\",\"type\":\"BasicTickFormatter\"},{\"attributes\":{\"line_alpha\":0.1,\"line_color\":\"#1f77b4\",\"line_width\":2,\"x\":{\"field\":\"x\"},\"y\":{\"field\":\"y\"}},\"id\":\"1037\",\"type\":\"Line\"},{\"attributes\":{\"bottom_units\":\"screen\",\"fill_alpha\":0.5,\"fill_color\":\"lightgrey\",\"left_units\":\"screen\",\"level\":\"overlay\",\"line_alpha\":1.0,\"line_color\":\"black\",\"line_dash\":[4,4],\"line_width\":2,\"right_units\":\"screen\",\"top_units\":\"screen\"},\"id\":\"1027\",\"type\":\"BoxAnnotation\"},{\"attributes\":{},\"id\":\"1011\",\"type\":\"LinearScale\"},{\"attributes\":{\"axis_label\":\"Distance parcourue\",\"formatter\":{\"id\":\"1042\"},\"ticker\":{\"id\":\"1014\"}},\"id\":\"1013\",\"type\":\"LinearAxis\"},{\"attributes\":{},\"id\":\"1009\",\"type\":\"LinearScale\"},{\"attributes\":{},\"id\":\"1025\",\"type\":\"ResetTool\"},{\"attributes\":{},\"id\":\"1005\",\"type\":\"DataRange1d\"},{\"attributes\":{\"source\":{\"id\":\"1035\"}},\"id\":\"1039\",\"type\":\"CDSView\"},{\"attributes\":{},\"id\":\"1022\",\"type\":\"WheelZoomTool\"},{\"attributes\":{},\"id\":\"1045\",\"type\":\"Selection\"},{\"attributes\":{},\"id\":\"1026\",\"type\":\"HelpTool\"},{\"attributes\":{},\"id\":\"1046\",\"type\":\"UnionRenderers\"},{\"attributes\":{\"axis\":{\"id\":\"1013\"},\"ticker\":null},\"id\":\"1016\",\"type\":\"Grid\"},{\"attributes\":{\"axis\":{\"id\":\"1017\"},\"dimension\":1,\"ticker\":null},\"id\":\"1020\",\"type\":\"Grid\"},{\"attributes\":{\"active_drag\":\"auto\",\"active_inspect\":\"auto\",\"active_multi\":null,\"active_scroll\":\"auto\",\"active_tap\":\"auto\",\"tools\":[{\"id\":\"1021\"},{\"id\":\"1022\"},{\"id\":\"1023\"},{\"id\":\"1024\"},{\"id\":\"1025\"},{\"id\":\"1026\"}]},\"id\":\"1028\",\"type\":\"Toolbar\"},{\"attributes\":{},\"id\":\"1018\",\"type\":\"BasicTicker\"},{\"attributes\":{\"axis_label\":\"altitude\",\"formatter\":{\"id\":\"1044\"},\"ticker\":{\"id\":\"1018\"}},\"id\":\"1017\",\"type\":\"LinearAxis\"}],\"root_ids\":[\"1002\"]},\"title\":\"Bokeh Application\",\"version\":\"2.2.1\"}};\n",
       "  var render_items = [{\"docid\":\"d4a2da68-e9e2-4209-b455-4d13386cdd35\",\"root_ids\":[\"1002\"],\"roots\":{\"1002\":\"e988edbe-2308-4905-8c67-c3166b9c2ed7\"}}];\n",
       "  root.Bokeh.embed.embed_items_notebook(docs_json, render_items);\n",
       "\n",
       "  }\n",
       "  if (root.Bokeh !== undefined) {\n",
       "    embed_document(root);\n",
       "  } else {\n",
       "    var attempts = 0;\n",
       "    var timer = setInterval(function(root) {\n",
       "      if (root.Bokeh !== undefined) {\n",
       "        clearInterval(timer);\n",
       "        embed_document(root);\n",
       "      } else {\n",
       "        attempts++;\n",
       "        if (attempts > 100) {\n",
       "          clearInterval(timer);\n",
       "          console.log(\"Bokeh: ERROR: Unable to run BokehJS code because BokehJS library is missing\");\n",
       "        }\n",
       "      }\n",
       "    }, 10, root)\n",
       "  }\n",
       "})(window);"
      ],
      "application/vnd.bokehjs_exec.v0+json": ""
     },
     "metadata": {
      "application/vnd.bokehjs_exec.v0+json": {
       "id": "1002"
      }
     },
     "output_type": "display_data"
    }
   ],
   "source": [
    "p = figure(title=\"Altitude /distance\", x_axis_label='Distance parcourue', y_axis_label='altitude',\n",
    "           width=800,height=300)\n",
    "p.line(dists,[point.elevation for point in points] , line_width=2)\n",
    "show(p)"
   ]
  },
  {
   "cell_type": "markdown",
   "metadata": {},
   "source": [
    "### Altitude en fonction du temps :"
   ]
  },
  {
   "cell_type": "code",
   "execution_count": 17,
   "metadata": {},
   "outputs": [
    {
     "data": {
      "text/html": [
       "\n",
       "\n",
       "\n",
       "\n",
       "\n",
       "\n",
       "  <div class=\"bk-root\" id=\"e95ccda3-8207-440d-adf5-6c5d75ab1e7d\" data-root-id=\"1088\"></div>\n"
      ]
     },
     "metadata": {},
     "output_type": "display_data"
    },
    {
     "data": {
      "application/javascript": [
       "(function(root) {\n",
       "  function embed_document(root) {\n",
       "    \n",
       "  var docs_json = {\"823e83e4-ec2b-4bed-86a0-ceda1dd53e4d\":{\"roots\":{\"references\":[{\"attributes\":{\"below\":[{\"id\":\"1099\"}],\"center\":[{\"id\":\"1102\"},{\"id\":\"1106\"}],\"left\":[{\"id\":\"1103\"}],\"plot_height\":300,\"plot_width\":800,\"renderers\":[{\"id\":\"1124\"}],\"title\":{\"id\":\"1089\"},\"toolbar\":{\"id\":\"1114\"},\"x_range\":{\"id\":\"1091\"},\"x_scale\":{\"id\":\"1095\"},\"y_range\":{\"id\":\"1093\"},\"y_scale\":{\"id\":\"1097\"}},\"id\":\"1088\",\"subtype\":\"Figure\",\"type\":\"Plot\"},{\"attributes\":{},\"id\":\"1108\",\"type\":\"WheelZoomTool\"},{\"attributes\":{},\"id\":\"1112\",\"type\":\"HelpTool\"},{\"attributes\":{\"active_drag\":\"auto\",\"active_inspect\":\"auto\",\"active_multi\":null,\"active_scroll\":\"auto\",\"active_tap\":\"auto\",\"tools\":[{\"id\":\"1107\"},{\"id\":\"1108\"},{\"id\":\"1109\"},{\"id\":\"1110\"},{\"id\":\"1111\"},{\"id\":\"1112\"}]},\"id\":\"1114\",\"type\":\"Toolbar\"},{\"attributes\":{},\"id\":\"1107\",\"type\":\"PanTool\"},{\"attributes\":{\"overlay\":{\"id\":\"1113\"}},\"id\":\"1109\",\"type\":\"BoxZoomTool\"},{\"attributes\":{},\"id\":\"1136\",\"type\":\"BasicTickFormatter\"},{\"attributes\":{},\"id\":\"1110\",\"type\":\"SaveTool\"},{\"attributes\":{},\"id\":\"1111\",\"type\":\"ResetTool\"},{\"attributes\":{\"line_alpha\":0.1,\"line_color\":\"#1f77b4\",\"line_width\":2,\"x\":{\"field\":\"x\"},\"y\":{\"field\":\"y\"}},\"id\":\"1123\",\"type\":\"Line\"},{\"attributes\":{\"line_color\":\"#1f77b4\",\"line_width\":2,\"x\":{\"field\":\"x\"},\"y\":{\"field\":\"y\"}},\"id\":\"1122\",\"type\":\"Line\"},{\"attributes\":{\"source\":{\"id\":\"1121\"}},\"id\":\"1125\",\"type\":\"CDSView\"},{\"attributes\":{\"text\":\"Altitude / temps\"},\"id\":\"1089\",\"type\":\"Title\"},{\"attributes\":{},\"id\":\"1139\",\"type\":\"Selection\"},{\"attributes\":{},\"id\":\"1140\",\"type\":\"UnionRenderers\"},{\"attributes\":{\"axis_label\":\"Temps (heures)\",\"formatter\":{\"id\":\"1136\"},\"ticker\":{\"id\":\"1100\"}},\"id\":\"1099\",\"type\":\"LinearAxis\"},{\"attributes\":{},\"id\":\"1097\",\"type\":\"LinearScale\"},{\"attributes\":{},\"id\":\"1104\",\"type\":\"BasicTicker\"},{\"attributes\":{},\"id\":\"1138\",\"type\":\"BasicTickFormatter\"},{\"attributes\":{\"bottom_units\":\"screen\",\"fill_alpha\":0.5,\"fill_color\":\"lightgrey\",\"left_units\":\"screen\",\"level\":\"overlay\",\"line_alpha\":1.0,\"line_color\":\"black\",\"line_dash\":[4,4],\"line_width\":2,\"right_units\":\"screen\",\"top_units\":\"screen\"},\"id\":\"1113\",\"type\":\"BoxAnnotation\"},{\"attributes\":{},\"id\":\"1100\",\"type\":\"BasicTicker\"},{\"attributes\":{\"axis\":{\"id\":\"1103\"},\"dimension\":1,\"ticker\":null},\"id\":\"1106\",\"type\":\"Grid\"},{\"attributes\":{},\"id\":\"1091\",\"type\":\"DataRange1d\"},{\"attributes\":{},\"id\":\"1095\",\"type\":\"LinearScale\"},{\"attributes\":{\"data_source\":{\"id\":\"1121\"},\"glyph\":{\"id\":\"1122\"},\"hover_glyph\":null,\"muted_glyph\":null,\"nonselection_glyph\":{\"id\":\"1123\"},\"selection_glyph\":null,\"view\":{\"id\":\"1125\"}},\"id\":\"1124\",\"type\":\"GlyphRenderer\"},{\"attributes\":{\"data\":{\"x\":[0.0,0.002777777777777778,0.005555555555555556,0.008333333333333333,0.011111111111111112,0.013888888888888888,0.016666666666666666,0.019444444444444445,0.022222222222222223,0.025,0.027777777777777776,0.030555555555555555,0.03333333333333333,0.03611111111111111,0.03888888888888889,0.041666666666666664,0.044444444444444446,0.04722222222222222,0.05,0.05277777777777778,0.05722222222222222,0.06,0.06277777777777778,0.06555555555555556,0.06833333333333333,0.07111111111111111,0.07388888888888889,0.07666666666666666,0.07944444444444444,0.08222222222222222,0.085,0.08777777777777777,0.09055555555555556,0.09333333333333334,0.0961111111111111,0.09888888888888889,0.10166666666666667,0.10444444444444445,0.10722222222222222,0.11,0.11277777777777778,0.11555555555555555,0.11833333333333333,0.12111111111111111,0.1238888888888889,0.12666666666666668,0.12944444444444445,0.1322222222222222,0.135,0.13777777777777778,0.14055555555555554,0.14333333333333334,0.1461111111111111,0.14888888888888888,0.15166666666666667,0.15444444444444444,0.15722222222222224,0.16,0.16277777777777777,0.16555555555555557,0.16833333333333333,0.1711111111111111,0.1738888888888889,0.17666666666666667,0.17944444444444443,0.18222222222222223,0.185,0.18777777777777777,0.19055555555555556,0.19361111111111112,0.1963888888888889,0.19916666666666666,0.20194444444444445,0.20472222222222222,0.2075,0.21027777777777779,0.21305555555555555,0.21583333333333332,0.21861111111111112,0.22138888888888889,0.22416666666666665,0.22694444444444445,0.22972222222222222,0.2325,0.23527777777777778,0.23805555555555555,0.24083333333333334,0.2436111111111111,0.24638888888888888,0.24916666666666668,0.25194444444444447,0.25472222222222224,0.2575,0.2602777777777778,0.26305555555555554,0.2658333333333333,0.26861111111111113,0.2713888888888889,0.27416666666666667,0.27694444444444444,0.2797222222222222,0.2841666666666667,0.28694444444444445,0.2897222222222222,0.2925,0.29527777777777775,0.2980555555555556,0.30083333333333334,0.3036111111111111,0.3063888888888889,0.30916666666666665,0.31194444444444447,0.31472222222222224,0.3175,0.3202777777777778,0.32305555555555554,0.3258333333333333,0.32861111111111113,0.3313888888888889,0.33416666666666667,0.33694444444444444,0.3397222222222222,0.3425,0.3452777777777778,0.34805555555555556,0.35083333333333333,0.3536111111111111,0.35638888888888887,0.3591666666666667,0.36194444444444446,0.3647222222222222,0.3675,0.37027777777777776,0.37305555555555553,0.37583333333333335,0.3786111111111111,0.3813888888888889,0.38416666666666666,0.3869444444444444,0.38972222222222225,0.3925,0.3952777777777778,0.39805555555555555,0.4008333333333333,0.4036111111111111,0.4063888888888889,0.4091666666666667,0.41194444444444445,0.4147222222222222,0.4175,0.42027777777777775,0.4230555555555556,0.42583333333333334,0.4286111111111111,0.4313888888888889,0.43416666666666665,0.43694444444444447,0.43972222222222224,0.4425,0.44722222222222224,0.45,0.4752777777777778,0.4836111111111111,0.48638888888888887,0.4891666666666667,0.49194444444444446,0.49916666666666665,0.5019444444444444,0.5061111111111111,0.5088888888888888,0.5116666666666667,0.5144444444444445,0.5172222222222222,0.52,0.5227777777777778,0.5255555555555556,0.5283333333333333,0.5311111111111111,0.5338888888888889,0.5366666666666666,0.5394444444444444,0.5422222222222223,0.545,0.5477777777777778,0.5505555555555556,0.5533333333333333,0.5561111111111111,0.5588888888888889,0.5616666666666666,0.5644444444444444,0.5672222222222222,0.57,0.5727777777777778,0.5755555555555556,0.5783333333333334,0.5811111111111111,0.5838888888888889,0.5866666666666667,0.5894444444444444,0.5922222222222222,0.595,0.5977777777777777,0.6005555555555555,0.6033333333333334,0.6061111111111112,0.6088888888888889,0.6116666666666667,0.6144444444444445,0.6172222222222222,0.62,0.6227777777777778,0.6255555555555555,0.6283333333333333,0.6311111111111111,0.6338888888888888,0.6366666666666667,0.6394444444444445,0.6422222222222222,0.645,0.6477777777777778,0.6505555555555556,0.6533333333333333,0.6561111111111111,0.6588888888888889,0.6616666666666666,0.6644444444444444,0.6672222222222223,0.67,0.6727777777777778,0.6755555555555556,0.6783333333333333,0.6811111111111111,0.6838888888888889,0.6866666666666666,0.6894444444444444,0.6922222222222222,0.695,0.6977777777777778,0.7005555555555556,0.7033333333333334,0.7622222222222222,0.765,0.7677777777777778,0.7705555555555555,0.7733333333333333,0.7761111111111111,0.7788888888888889,0.7816666666666666,0.7844444444444445,0.7872222222222223,0.79,0.7927777777777778,0.7955555555555556,0.7983333333333333,0.8011111111111111,0.8038888888888889,0.8066666666666666,0.8094444444444444,0.8122222222222222,0.8191666666666667,0.8219444444444445,0.8247222222222222,0.8275,0.8302777777777778,0.8330555555555555,0.8358333333333333,0.8386111111111111,0.8413888888888889,0.8441666666666666,0.8469444444444445,0.8497222222222223,0.8525,0.8552777777777778,0.8580555555555556,0.8608333333333333,0.8636111111111111,0.8663888888888889,0.8691666666666666,0.8719444444444444,0.8747222222222222,0.8775,0.8802777777777778,0.8830555555555556,0.8858333333333334,0.8922222222222222,0.8969444444444444,0.8997222222222222,0.9025,0.9052777777777777,0.9080555555555555,0.9108333333333334,0.9136111111111112,0.9163888888888889,0.9191666666666667,0.9219444444444445,0.9247222222222222,0.9275,0.9302777777777778,0.9330555555555555,0.9358333333333333,0.9386111111111111,0.9413888888888889,0.9441666666666667,0.9469444444444445,0.9497222222222222,0.9525,0.9552777777777778,0.9580555555555555,0.9608333333333333,0.9636111111111111,0.9663888888888889,0.9725,0.9752777777777778,0.9780555555555556,0.9808333333333333,0.9836111111111111,0.9863888888888889,0.9891666666666666,0.9919444444444444,0.9991666666666666,1.0019444444444445,1.0047222222222223,1.0075,1.0102777777777778,1.0130555555555556,1.0158333333333334,1.0186111111111111,1.021388888888889,1.0241666666666667,1.0269444444444444,1.0297222222222222,1.0325,1.0352777777777777,1.0380555555555555,1.0408333333333333,1.043611111111111,1.0463888888888888,1.0491666666666666,1.0519444444444443,1.0547222222222221,1.0575,1.0602777777777779,1.0630555555555556,1.0658333333333334,1.0686111111111112,1.071388888888889,1.0758333333333334,1.0786111111111112,1.086111111111111,1.0888888888888888,1.0916666666666666,1.0944444444444446,1.0972222222222223,1.1794444444444445,1.2044444444444444,1.2072222222222222,1.21,1.2127777777777777,1.2155555555555555,1.2183333333333333,1.221111111111111,1.2238888888888888,1.2266666666666666,1.2294444444444443,1.255,1.2577777777777779,1.2763888888888888,1.2791666666666666,1.2819444444444446,1.2847222222222223,1.2875,1.2902777777777779,1.2930555555555556,1.2958333333333334,1.2986111111111112,1.301388888888889,1.3041666666666667,1.3069444444444445,1.3097222222222222,1.3125,1.3152777777777778,1.3180555555555555,1.3208333333333333,1.323611111111111,1.3263888888888888,1.3291666666666666,1.3319444444444444,1.3347222222222221,1.3375,1.3402777777777777,1.3430555555555554,1.3458333333333334,1.3486111111111112,1.351388888888889,1.3541666666666667,1.3569444444444445,1.3597222222222223,1.3625,1.3652777777777778,1.3680555555555556,1.3708333333333333,1.3736111111111111,1.3763888888888889,1.3791666666666667,1.3819444444444444,1.3847222222222222,1.3875,1.3902777777777777,1.3930555555555555,1.3958333333333333,1.398611111111111,1.4013888888888888,1.4041666666666666,1.4302777777777778,1.4330555555555555,1.4358333333333333,1.438611111111111,1.4413888888888888,1.4441666666666666,1.4538888888888888,1.4566666666666668,1.4594444444444445,1.4725,1.4752777777777777,1.4780555555555555,1.4808333333333332,1.4836111111111112,1.486388888888889,1.4891666666666667,1.4919444444444445,1.4947222222222223,1.4975,1.5002777777777778,1.5030555555555556,1.5058333333333334,1.5086111111111111,1.511388888888889,1.5141666666666667,1.5169444444444444,1.5197222222222222,1.5225,1.5252777777777777,1.5280555555555555,1.5308333333333333,1.533611111111111,1.5363888888888888,1.5391666666666666,1.5419444444444443,1.5447222222222223,1.5475,1.5502777777777779,1.5530555555555556,1.5558333333333334,1.5586111111111112,1.561388888888889,1.5641666666666667,1.5669444444444445,1.5697222222222222,1.5725,1.5752777777777778,1.5894444444444444,1.5922222222222222,1.595,1.5977777777777777,1.6005555555555555,1.6033333333333333,1.606111111111111,1.6088888888888888,1.6116666666666666,1.6144444444444443,1.6172222222222221,1.62,1.6227777777777779,1.6255555555555556,1.6283333333333334,1.6311111111111112,1.633888888888889,1.6366666666666667,1.6394444444444445,1.6422222222222222,1.645,1.6477777777777778,1.6505555555555556,1.6533333333333333,1.656111111111111,1.6588888888888889,1.6616666666666666,1.6644444444444444,1.6672222222222222,1.67,1.6727777777777777,1.6755555555555555,1.6783333333333332,1.681111111111111,1.683888888888889,1.6866666666666668,1.6894444444444445,1.6922222222222223,1.695,1.6977777777777778,1.7005555555555556,1.7033333333333334,1.7061111111111111,1.708888888888889,1.7116666666666667,1.715,1.7177777777777778,1.7205555555555556,1.7233333333333334,1.7261111111111112,1.728888888888889,1.7316666666666667,1.7344444444444445,1.7372222222222222,1.74,1.7427777777777778,1.7455555555555555,1.7483333333333333,1.751111111111111,1.7538888888888888,1.7566666666666666,1.7594444444444444,1.7622222222222221,1.765,1.7677777777777777,1.7705555555555557,1.7733333333333334,1.7761111111111112,1.778888888888889,1.7816666666666667,1.7880555555555555,1.7908333333333333,1.793611111111111,1.7963888888888888,1.7991666666666666,1.8019444444444443,1.8047222222222221,1.8075,1.8102777777777779,1.8130555555555556,1.8158333333333334,1.8186111111111112,1.821388888888889,1.8241666666666667,1.8269444444444445,1.8297222222222222,1.8325,1.8352777777777778,1.8380555555555556,1.8408333333333333,1.843611111111111,1.8488888888888888,1.8516666666666666,1.8544444444444443,1.8572222222222223,1.86,1.8627777777777779,1.8655555555555556,1.8683333333333334,1.8711111111111112,1.873888888888889,1.8766666666666667,1.8794444444444445,1.8822222222222222,1.885,1.8877777777777778,1.8905555555555555,1.8933333333333333,1.896111111111111,1.8988888888888888,1.9016666666666666,1.9044444444444444,1.9072222222222222,1.91,1.9127777777777777,1.9155555555555555,1.9183333333333332,1.9211111111111112,1.923888888888889,1.9266666666666667,1.9294444444444445,1.9322222222222223,1.935,1.9377777777777778,1.9405555555555556,1.9433333333333334,1.9461111111111111,1.948888888888889,1.9516666666666667,1.9544444444444444,1.9572222222222222,1.96,1.9647222222222223,1.9675,1.9736111111111112,1.976388888888889,1.9808333333333332,1.9836111111111112,2.0244444444444443,2.027222222222222,2.03,2.0327777777777776,2.0383333333333336,2.0411111111111113,2.043888888888889,2.046666666666667,2.0494444444444446,2.0522222222222224,2.055,2.057777777777778,2.0605555555555557,2.0633333333333335,2.0661111111111112,2.068888888888889,2.0716666666666668,2.0744444444444445,2.0772222222222223,2.08,2.082777777777778,2.0855555555555556,2.0883333333333334,2.091111111111111,2.093888888888889,2.0966666666666667,2.108888888888889,2.111666666666667,2.1144444444444446,2.1172222222222223,2.12,2.122777777777778,2.1255555555555556,2.1283333333333334,2.131111111111111,2.133888888888889,2.1366666666666667,2.1394444444444445,2.1422222222222222,2.145,2.147777777777778,2.1505555555555556,2.1552777777777776,2.1580555555555554,2.160833333333333,2.1725,2.1752777777777776,2.1780555555555554,2.180833333333333,2.183611111111111,2.1863888888888887,2.1891666666666665,2.1919444444444443,2.194722222222222,2.1975,2.200277777777778,2.2030555555555558,2.2058333333333335,2.2086111111111113,2.211388888888889,2.214166666666667,2.2169444444444446,2.2197222222222224,2.2225,2.225277777777778,2.2280555555555557,2.2308333333333334,2.233611111111111,2.236388888888889,2.2391666666666667,2.2419444444444445,2.2447222222222223,2.2475,2.250277777777778,2.2530555555555556,2.2558333333333334,2.2597222222222224,2.2625,2.265277777777778,2.2680555555555557,2.2708333333333335,2.2736111111111112,2.276388888888889,2.279166666666667,2.2819444444444446,2.2847222222222223,2.2875,2.290277777777778,2.2930555555555556,2.2958333333333334,2.298611111111111,2.301388888888889,2.3041666666666667,2.3069444444444445,2.3097222222222222,2.3125,2.3152777777777778,2.3180555555555555,2.3208333333333333,2.323611111111111,2.326388888888889,2.339166666666667,2.341666666666667,2.3444444444444446,2.3472222222222223,2.35,2.352777777777778,2.3555555555555556,2.3583333333333334,2.361111111111111,2.363888888888889,2.3666666666666667,2.3819444444444446,2.3847222222222224,2.3875,2.390277777777778,2.3930555555555557,2.3958333333333335,2.3986111111111112,2.401388888888889,2.404166666666667,2.4069444444444446,2.4097222222222223,2.4125,2.415277777777778,2.4180555555555556,2.4208333333333334,2.423611111111111,2.4266666666666667,2.4294444444444445,2.4322222222222223,2.435,2.465,2.4677777777777776,2.4930555555555554,2.495833333333333,2.508611111111111,2.511388888888889,2.5141666666666667,2.5169444444444444,2.5355555555555553,2.5383333333333336,2.5411111111111113,2.543888888888889,2.546666666666667,2.5494444444444446,2.5522222222222224,2.555,2.557777777777778,2.5605555555555557,2.5633333333333335,2.5661111111111112,2.568888888888889,2.5716666666666668,2.5744444444444445,2.5772222222222223,2.58,2.582777777777778,2.5855555555555556,2.5883333333333334,2.591111111111111,2.593888888888889,2.602222222222222,2.620833333333333,2.797222222222222,2.8,2.8358333333333334,2.838611111111111,2.841388888888889,2.8441666666666667,2.8469444444444445,2.8497222222222223,2.8525,2.855277777777778,2.8580555555555556,2.8608333333333333,2.863611111111111,2.866388888888889,2.8691666666666666,2.8719444444444444,2.874722222222222,2.8775,2.8802777777777777,2.8830555555555555,2.8858333333333333,2.888611111111111,2.891388888888889,2.8941666666666666,2.8969444444444443,2.899722222222222,2.9025,2.9052777777777776,2.9080555555555554,2.910833333333333,2.913611111111111,2.9163888888888887,2.938888888888889,2.941666666666667,2.9444444444444446,2.9472222222222224,2.95,2.952777777777778,2.9555555555555557,2.9583333333333335,2.9611111111111112,2.963888888888889,2.966666666666667,2.9694444444444446,2.9722222222222223,2.975,2.977777777777778,2.9805555555555556,2.9833333333333334,2.986111111111111,2.988888888888889,2.9916666666666667,2.9944444444444445,2.9972222222222222,3.0,3.0027777777777778,3.0055555555555555,3.0083333333333333,3.011111111111111,3.013888888888889,3.0166666666666666,3.0194444444444444,3.022222222222222,3.025,3.0277777777777777,3.0344444444444445,3.0372222222222223,3.04,3.042777777777778,3.0455555555555556,3.0483333333333333,3.051111111111111,3.053888888888889,3.0566666666666666,3.0594444444444444,3.062222222222222,3.065,3.0677777777777777,3.0705555555555555,3.0733333333333333,3.076111111111111,3.0855555555555556,3.0883333333333334,3.091111111111111,3.093888888888889,3.0966666666666667,3.0994444444444444,3.102222222222222,3.105,3.1077777777777778,3.1105555555555555,3.1133333333333333,3.116111111111111,3.118888888888889,3.1216666666666666,3.1244444444444444,3.127222222222222,3.13,3.1327777777777777,3.1355555555555554,3.138333333333333,3.141111111111111,3.1438888888888887,3.1466666666666665,3.1494444444444443,3.152222222222222,3.155,3.1577777777777776,3.1605555555555553,3.1633333333333336,3.1661111111111113,3.168888888888889,3.171666666666667,3.1766666666666667,3.1794444444444445,3.1822222222222223,3.185,3.187777777777778,3.1905555555555556,3.1933333333333334,3.196111111111111,3.198888888888889,3.2016666666666667,3.2044444444444444,3.207222222222222,3.21,3.2127777777777777,3.2155555555555555,3.2183333333333333,3.221111111111111,3.223888888888889,3.2266666666666666,3.2294444444444443,3.232222222222222,3.235,3.2377777777777776,3.2405555555555554,3.243333333333333,3.246111111111111,3.2488888888888887,3.2516666666666665,3.2544444444444443,3.257222222222222,3.26,3.262777777777778,3.2655555555555558,3.2683333333333335,3.2711111111111113,3.273888888888889,3.276666666666667,3.2794444444444446,3.2822222222222224,3.285,3.287777777777778,3.2905555555555557,3.2933333333333334,3.296111111111111,3.298888888888889,3.3016666666666667,3.3044444444444445,3.3072222222222223,3.31,3.312777777777778,3.3155555555555556,3.3183333333333334,3.321111111111111,3.323888888888889,3.3266666666666667,3.3294444444444444,3.332222222222222,3.335,3.3377777777777777,3.3405555555555555,3.3433333333333333,3.346111111111111,3.348888888888889,3.3516666666666666,3.3544444444444443,3.357222222222222,3.3783333333333334,3.381111111111111,3.383888888888889,3.3866666666666667,3.3894444444444445,3.3922222222222222,3.395,3.397777777777778,3.403888888888889,3.4066666666666667,3.4094444444444445,3.4122222222222223,3.4233333333333333,3.426111111111111,3.428888888888889,3.4316666666666666,3.4344444444444444,3.437222222222222,3.44,3.4427777777777777,3.4455555555555555,3.4483333333333333,3.451111111111111,3.453888888888889,3.4566666666666666,3.4594444444444443,3.462222222222222,3.465,3.4677777777777776,3.4705555555555554,3.473333333333333,3.476111111111111,3.4788888888888887,3.4816666666666665,3.4844444444444442,3.487222222222222,3.49,3.492777777777778,3.4955555555555557,3.4983333333333335,3.5011111111111113,3.503888888888889,3.506666666666667,3.5094444444444446,3.5122222222222224,3.515,3.517777777777778,3.5205555555555557,3.5233333333333334,3.526111111111111,3.528888888888889,3.5316666666666667,3.5344444444444445,3.5372222222222223,3.54,3.542777777777778,3.5455555555555556,3.5483333333333333,3.551111111111111,3.553888888888889,3.5566666666666666,3.5594444444444444,3.562222222222222,3.565,3.5677777777777777,3.5705555555555555,3.5733333333333333,3.576111111111111,3.578888888888889,3.5816666666666666,3.5844444444444443,3.587222222222222,3.59,3.5927777777777776,3.5955555555555554,3.598333333333333,3.601111111111111,3.6038888888888887,3.6066666666666665,3.6094444444444442,3.612222222222222,3.615,3.617777777777778,3.6205555555555557,3.6233333333333335,3.6261111111111113,3.628888888888889,3.631666666666667,3.6344444444444446,3.6372222222222224,3.64,3.642777777777778,3.6455555555555557,3.6483333333333334,3.651111111111111,3.653888888888889,3.6566666666666667,3.6594444444444445,3.6622222222222223,3.665,3.667777777777778,3.6705555555555556,3.6733333333333333,3.676111111111111,3.678888888888889,3.6816666666666666,3.6844444444444444,3.687222222222222,3.69,3.6927777777777777,3.6955555555555555,3.6983333333333333,3.701111111111111,3.703888888888889,3.7066666666666666,3.7094444444444443,3.712222222222222,3.715,3.7177777777777776,3.7205555555555554,3.723333333333333,3.726111111111111,3.7288888888888887,3.7316666666666665,3.7344444444444442,3.737222222222222,3.74,3.742777777777778,3.7455555555555557,3.7483333333333335,3.7511111111111113,3.753888888888889,3.756666666666667,3.7594444444444446,3.7622222222222224,3.765,3.767777777777778,3.7705555555555557,3.7733333333333334,3.776111111111111,3.778888888888889,3.7816666666666667,3.7844444444444445,3.7872222222222223,3.79,3.792777777777778,3.7955555555555556,3.7983333333333333,3.801111111111111,3.803888888888889,3.8066666666666666,3.8094444444444444,3.812222222222222,3.815,3.8177777777777777,3.8205555555555555,3.8233333333333333,3.826111111111111,3.832222222222222,3.835,3.8377777777777777,3.8405555555555555,3.8433333333333333,3.846111111111111,3.848888888888889,3.8516666666666666,3.8544444444444443,3.857222222222222,3.86,3.8627777777777776,3.8655555555555554,3.868333333333333,3.871111111111111,3.8738888888888887,3.8766666666666665,3.8794444444444443,3.882222222222222,3.885,3.887777777777778,3.8905555555555558,3.8933333333333335,3.8961111111111113,3.898888888888889,3.901666666666667,3.9044444444444446,3.9072222222222224,3.91,3.912777777777778,3.9155555555555557,3.9183333333333334,3.921111111111111,3.923888888888889,3.9266666666666667,3.9294444444444445,3.9322222222222223,3.935,3.937777777777778,3.9405555555555556,3.9433333333333334,3.946111111111111,3.948888888888889,3.9516666666666667,3.9544444444444444,3.957222222222222,3.96,3.9627777777777777,3.9655555555555555,3.9683333333333333,3.971111111111111,3.973888888888889,3.9766666666666666,3.9794444444444443,3.982222222222222,3.985,3.9877777777777776,3.9905555555555554,3.993333333333333,3.996111111111111,3.9988888888888887,4.001666666666667,4.004444444444444,4.0072222222222225,4.01,4.012777777777778,4.015555555555555,4.0183333333333335,4.021111111111111,4.023888888888889,4.026666666666666,4.029444444444445,4.032222222222222,4.035,4.0377777777777775,4.040555555555556,4.043333333333333,4.046111111111111,4.0488888888888885,4.051666666666667,4.054444444444444,4.057222222222222,4.06,4.062777777777778,4.065555555555555,4.068333333333333,4.071111111111111,4.073888888888889,4.076666666666667,4.079444444444444,4.082222222222223,4.085,4.087777777777778,4.0905555555555555,4.093333333333334,4.096111111111111,4.098888888888889,4.101666666666667,4.104444444444445,4.107222222222222,4.11,4.112777777777778,4.116944444444444,4.119722222222222,4.1225,4.125277777777778,4.128055555555555,4.130833333333333,4.133611111111111,4.136388888888889,4.139166666666667,4.141944444444444,4.144722222222223,4.1475,4.150277777777778,4.1530555555555555,4.155833333333334,4.158611111111111,4.161388888888889,4.164166666666667,4.166944444444445,4.169722222222222,4.1725,4.175277777777778,4.178055555555556,4.180833333333333,4.183611111111111,4.186388888888889,4.189166666666667,4.191944444444444,4.1947222222222225,4.1975,4.200277777777778,4.203055555555555,4.2058333333333335,4.208611111111111,4.211388888888889,4.214166666666666,4.216944444444445,4.219722222222222,4.2225,4.2252777777777775,4.228055555555556,4.230833333333333,4.234166666666667,4.236944444444444,4.239722222222222,4.2425,4.247777777777777,4.250555555555556,4.253333333333333,4.256111111111111,4.2588888888888885,4.261666666666667,4.264444444444444,4.267222222222222,4.27,4.272777777777778,4.275555555555556,4.278333333333333,4.2811111111111115,4.283888888888889,4.286666666666667,4.289444444444444,4.292222222222223,4.295,4.297777777777778,4.3005555555555555,4.303888888888889,4.306666666666667,4.309444444444445,4.312222222222222,4.315,4.317777777777778,4.320555555555556,4.323333333333333,4.3261111111111115,4.328888888888889,4.331666666666667,4.334444444444444,4.3372222222222225,4.34,4.342777777777778,4.345555555555555,4.348333333333334,4.351111111111111,4.353888888888889,4.3566666666666665,4.359444444444445,4.362222222222222,4.365,4.3677777777777775,4.370555555555556,4.373333333333333,4.376111111111111,4.378888888888889,4.381666666666667,4.384444444444444,4.387222222222222,4.39,4.392777777777778,4.395555555555555,4.398333333333333,4.401111111111111,4.403888888888889,4.406666666666666,4.4094444444444445,4.412222222222222,4.415,4.434722222222222,4.4375,4.440277777777778,4.4430555555555555,4.445833333333334,4.448611111111111,4.451388888888889,4.454166666666667,4.456944444444445,4.459722222222222,4.4625,4.465277777777778,4.468055555555556,4.470833333333333,4.473611111111111,4.476388888888889,4.479166666666667,4.481944444444444,4.4847222222222225,4.4875,4.490277777777778,4.493055555555555,4.495833333333334,4.498611111111111,4.501388888888889,4.504166666666666,4.506944444444445,4.509722222222222,4.5125,4.5152777777777775,4.518055555555556,4.520833333333333,4.523611111111111,4.526388888888889,4.529166666666667,4.531944444444444,4.534722222222222,4.5375,4.540277777777778,4.543055555555555,4.545833333333333,4.548611111111111,4.551388888888889,4.556666666666667],\"y\":[1418.34,1414.2,1412.33,1406.5,1401.66,1399.75,1401.71,1409.01,1411.33,1414.65,1419.14,1417.92,1415.54,1411.82,1408.32,1401.41,1400.44,1403.49,1405.82,1412.54,1413.14,1415.73,1415.63,1412.21,1410.4,1409.61,1407.95,1407.96,1407.94,1404.07,1403.2,1402.88,1403.59,1402.9,1401.15,1401.23,1397.86,1397.88,1399.42,1399.61,1396.7,1395.33,1396.33,1397.08,1397.14,1399.93,1393.72,1390.27,1390.81,1390.08,1390.85,1391.29,1392.93,1390.44,1387.9,1388.38,1385.97,1383.73,1382.27,1380.23,1375.86,1376.84,1377.59,1374.05,1370.85,1373.89,1376.12,1377.63,1381.25,1384.51,1385.65,1382.0,1380.55,1379.36,1378.46,1376.46,1374.24,1375.98,1378.72,1375.35,1373.0,1377.7,1375.32,1373.58,1372.63,1371.35,1371.01,1374.88,1372.67,1370.36,1370.5,1366.94,1365.03,1363.42,1361.63,1362.04,1361.56,1361.39,1363.88,1364.22,1365.12,1364.73,1361.24,1361.08,1362.05,1361.82,1361.46,1362.28,1362.96,1360.85,1355.99,1352.65,1349.74,1351.47,1349.24,1347.69,1349.97,1352.26,1352.31,1349.93,1349.12,1348.87,1349.22,1346.27,1345.44,1343.94,1342.87,1341.85,1343.31,1342.94,1338.55,1340.26,1343.35,1347.94,1349.14,1350.53,1353.07,1359.65,1362.66,1367.83,1368.24,1367.71,1364.35,1362.85,1359.54,1354.92,1351.96,1352.77,1353.34,1351.2,1345.36,1340.84,1336.13,1334.14,1331.57,1329.32,1325.39,1324.41,1329.85,1329.8,1331.47,1331.78,1331.62,1329.41,1329.98,1330.56,1330.78,1328.57,1328.14,1325.28,1325.4,1324.84,1323.23,1323.08,1320.86,1322.28,1325.49,1328.08,1328.73,1330.13,1333.22,1337.4,1340.4,1340.6,1341.91,1342.16,1339.84,1333.16,1330.9,1331.8,1329.74,1330.51,1330.34,1329.51,1333.12,1330.37,1323.59,1316.1,1310.97,1309.13,1310.16,1311.34,1313.95,1316.13,1318.93,1324.02,1328.47,1332.79,1332.96,1334.41,1338.15,1338.09,1338.23,1338.85,1339.6,1339.18,1338.67,1338.79,1337.62,1332.58,1328.43,1325.86,1328.22,1329.23,1327.79,1325.44,1326.29,1327.7,1328.75,1330.53,1331.75,1334.92,1337.71,1340.93,1345.61,1347.86,1350.3,1347.91,1345.93,1345.93,1345.94,1348.05,1349.16,1348.99,1346.0,1342.45,1337.26,1331.79,1330.72,1330.02,1330.11,1330.16,1330.18,1329.37,1329.33,1332.35,1333.57,1342.28,1349.72,1349.68,1349.03,1345.27,1345.2,1348.58,1352.72,1360.05,1362.23,1362.18,1360.17,1359.11,1358.1,1358.65,1358.18,1359.17,1361.03,1364.73,1366.49,1370.48,1371.99,1376.68,1381.3,1388.08,1389.9,1392.47,1393.03,1394.82,1397.83,1401.19,1405.01,1407.07,1407.7,1410.06,1413.72,1413.31,1415.04,1414.36,1413.58,1419.11,1417.35,1415.01,1415.22,1416.84,1417.91,1419.88,1420.11,1420.58,1421.06,1421.43,1423.2,1424.79,1424.99,1424.97,1424.91,1424.97,1424.48,1424.58,1424.64,1424.04,1424.56,1425.26,1427.24,1428.44,1430.72,1432.95,1434.22,1436.71,1437.76,1437.42,1438.12,1439.71,1442.27,1444.89,1446.12,1443.25,1441.85,1441.63,1442.27,1444.76,1446.5,1446.75,1447.52,1446.45,1445.55,1444.68,1445.07,1445.65,1445.66,1443.59,1444.21,1446.84,1448.2,1449.36,1449.92,1449.99,1450.25,1450.66,1453.33,1458.02,1462.04,1463.94,1466.69,1467.21,1466.24,1465.32,1464.46,1464.21,1464.01,1465.32,1465.4,1464.79,1462.37,1461.08,1462.98,1463.48,1465.37,1467.44,1470.63,1473.44,1474.22,1475.8,1476.94,1478.05,1476.48,1474.9,1474.6,1475.43,1476.01,1475.83,1475.75,1476.15,1476.57,1476.94,1477.57,1478.19,1480.07,1481.91,1484.23,1484.87,1485.83,1486.63,1487.56,1487.95,1488.65,1489.82,1490.59,1490.42,1492.17,1494.22,1496.32,1497.41,1496.32,1494.42,1493.49,1493.35,1494.5,1496.7,1497.11,1496.6,1495.49,1492.44,1492.61,1493.09,1493.42,1494.73,1495.68,1499.2,1501.17,1501.58,1502.18,1505.68,1509.55,1512.0,1512.81,1512.27,1511.69,1511.45,1514.58,1517.32,1519.59,1518.25,1517.64,1517.65,1517.87,1521.87,1523.45,1524.34,1524.3,1522.14,1521.34,1522.25,1523.33,1524.02,1525.04,1526.32,1524.34,1522.92,1522.8,1521.59,1522.0,1522.44,1522.54,1523.14,1522.55,1522.6,1524.61,1526.75,1527.65,1529.69,1530.03,1532.76,1536.04,1538.63,1538.71,1537.73,1539.45,1540.05,1542.94,1544.88,1546.28,1549.15,1550.7,1551.53,1551.59,1550.62,1550.52,1552.83,1556.03,1557.34,1559.08,1560.71,1560.4,1561.23,1562.54,1562.09,1563.25,1565.07,1565.48,1567.35,1567.31,1567.87,1568.5,1570.43,1571.91,1573.69,1574.22,1575.17,1575.99,1576.26,1576.59,1577.99,1581.57,1582.31,1583.35,1584.26,1583.77,1584.94,1587.57,1588.58,1590.09,1591.09,1592.86,1593.2,1594.77,1594.97,1596.37,1598.68,1599.17,1597.94,1599.68,1601.48,1601.16,1599.98,1601.61,1602.15,1602.05,1601.98,1602.78,1604.61,1604.65,1605.58,1606.88,1607.78,1610.18,1611.79,1611.81,1609.8,1610.17,1611.45,1612.48,1613.85,1614.18,1614.19,1614.56,1616.66,1618.46,1618.44,1618.46,1618.63,1620.29,1622.39,1624.25,1627.15,1630.45,1631.57,1631.13,1631.29,1632.71,1634.29,1635.53,1636.24,1636.9,1637.77,1638.41,1638.31,1638.61,1639.8,1642.33,1643.26,1642.34,1642.36,1642.87,1643.86,1644.27,1646.53,1648.43,1649.65,1650.76,1652.21,1652.52,1653.19,1653.94,1654.49,1654.42,1655.06,1654.84,1654.26,1654.6,1656.39,1656.3,1655.87,1655.77,1655.42,1655.6,1656.11,1655.98,1656.7,1657.08,1657.09,1659.27,1661.67,1663.71,1666.48,1666.78,1666.59,1668.51,1669.5,1669.72,1669.41,1669.21,1667.8,1667.13,1667.16,1667.97,1668.1,1668.26,1668.88,1668.24,1669.25,1670.81,1672.18,1672.57,1674.39,1676.5,1676.5,1676.84,1676.6,1676.45,1676.71,1677.55,1678.4,1678.08,1680.79,1684.24,1683.98,1684.71,1686.12,1687.94,1689.88,1690.13,1692.93,1693.09,1692.92,1693.7,1695.21,1695.67,1695.0,1695.73,1698.21,1699.69,1699.71,1697.79,1698.36,1699.8,1701.65,1703.26,1704.3,1704.93,1705.14,1706.74,1707.28,1707.01,1707.9,1709.28,1710.01,1710.57,1712.32,1713.55,1715.18,1715.17,1716.31,1716.76,1715.83,1716.25,1716.15,1717.0,1718.83,1720.44,1721.44,1721.58,1722.11,1723.92,1723.44,1725.87,1729.99,1730.24,1730.32,1731.03,1732.18,1732.86,1732.92,1733.07,1734.89,1737.11,1737.72,1738.97,1739.61,1740.83,1743.9,1743.65,1743.35,1742.52,1743.36,1746.27,1747.31,1747.16,1746.29,1745.27,1746.77,1746.82,1746.78,1747.14,1747.46,1747.37,1747.08,1746.54,1745.54,1745.16,1743.71,1743.96,1744.44,1745.16,1745.24,1745.05,1744.43,1744.91,1744.61,1744.19,1743.98,1743.57,1741.05,1742.59,1741.35,1740.6,1739.33,1738.75,1736.65,1736.1,1736.37,1736.38,1737.02,1738.14,1738.23,1738.98,1739.14,1740.27,1739.19,1737.95,1739.13,1736.98,1732.14,1732.35,1733.3,1733.17,1732.94,1733.83,1733.79,1734.07,1734.29,1735.07,1734.83,1734.18,1733.53,1731.52,1728.87,1726.58,1725.35,1723.85,1722.48,1720.56,1717.79,1715.53,1713.69,1712.32,1711.98,1713.85,1714.81,1715.38,1715.23,1714.7,1714.86,1713.0,1709.28,1705.93,1705.12,1704.97,1705.17,1705.5,1707.12,1706.02,1705.48,1705.04,1704.75,1702.66,1703.44,1703.9,1702.59,1698.16,1695.74,1694.76,1693.38,1690.26,1688.66,1686.4,1685.34,1685.05,1683.28,1682.51,1682.1,1680.2,1678.16,1676.04,1673.57,1672.53,1671.14,1670.9,1670.02,1670.02,1669.77,1668.66,1667.0,1665.68,1667.63,1668.83,1667.83,1667.47,1666.13,1664.91,1663.05,1662.07,1660.46,1655.35,1651.0,1649.68,1649.78,1651.08,1650.9,1649.43,1648.77,1649.12,1649.85,1649.39,1650.32,1650.17,1649.37,1647.96,1646.32,1645.89,1644.06,1640.06,1638.91,1638.48,1638.55,1639.01,1642.27,1642.65,1640.03,1637.84,1637.1,1634.67,1633.35,1632.89,1630.03,1627.68,1626.01,1623.14,1622.83,1619.43,1618.41,1618.37,1617.44,1616.07,1613.96,1614.13,1614.56,1613.64,1611.94,1609.34,1608.88,1607.65,1603.69,1602.68,1601.34,1602.24,1600.81,1599.16,1597.76,1596.77,1596.89,1596.95,1600.26,1602.19,1601.63,1599.09,1598.43,1596.03,1591.73,1589.19,1585.6,1582.79,1580.42,1579.71,1580.4,1579.72,1579.18,1576.34,1573.42,1571.41,1567.85,1567.37,1567.45,1567.02,1563.87,1563.79,1564.06,1562.9,1561.33,1560.78,1560.04,1558.54,1555.83,1551.5,1548.62,1546.89,1544.72,1542.81,1539.6,1537.45,1535.93,1534.58,1535.38,1534.64,1534.26,1534.02,1533.29,1530.39,1526.73,1528.1,1527.82,1526.4,1526.83,1530.24,1530.03,1528.86,1528.61,1525.89,1523.61,1522.16,1522.65,1523.82,1524.15,1522.95,1524.01,1525.27,1524.74,1522.66,1521.58,1523.43,1523.76,1523.39,1518.36,1515.14,1514.35,1511.63,1505.46,1500.66,1499.08,1497.47,1495.43,1495.17,1495.4,1494.77,1493.29,1492.84,1493.58,1492.28,1492.51,1493.7,1495.25,1498.18,1499.6,1498.28,1497.37,1498.72,1498.21,1492.78,1486.8,1482.49,1477.14,1475.29,1472.67,1471.42,1469.53,1469.19,1467.9,1467.01,1469.61,1473.04,1477.26,1481.66,1483.88,1481.65,1479.98,1477.23,1476.5,1474.28,1471.89,1470.3,1467.48,1465.1,1460.17,1454.4,1450.21,1449.56,1447.49,1445.55,1444.65,1444.56,1445.38,1444.78,1443.53,1443.76,1442.69,1442.36,1439.77,1440.14,1439.81,1438.63,1436.59,1433.51,1430.93,1428.28,1427.46,1425.17,1422.27,1421.59,1422.73,1422.89,1423.79,1425.72,1426.75,1427.46,1428.01,1427.58,1428.68,1430.37,1429.96,1429.55,1427.54,1422.22,1418.1,1415.92,1412.99,1410.09,1409.13,1407.11,1411.28,1410.7,1406.91,1400.67,1396.33,1396.32,1395.77,1392.74,1393.25,1391.33,1389.89,1389.58,1388.68,1388.04,1388.32,1387.65,1385.78,1384.64,1383.02,1381.52,1380.09,1379.35,1379.06,1377.15,1376.6,1377.41,1377.74,1376.97,1375.53,1374.68,1372.21,1370.58,1369.71,1369.3,1369.36,1368.6,1369.62,1369.84,1370.94,1372.56,1371.95,1371.57,1370.57,1365.36,1362.88,1361.0,1361.63,1358.95,1354.52,1355.05,1357.96,1357.54,1356.33,1355.13,1352.66,1350.11,1350.35,1351.74,1352.65,1350.59,1347.68,1349.48,1349.22,1347.68,1348.68,1346.08,1345.74,1346.34,1349.03,1349.02,1347.21,1347.22,1347.97,1350.89,1346.65,1343.98,1341.38,1336.92,1337.46,1337.52,1336.29,1333.81,1328.55,1325.06,1322.61,1322.33,1323.45,1323.4,1325.09,1327.42,1327.99,1328.54,1329.94,1330.25,1328.66,1326.16,1322.97,1321.42,1322.59,1323.01,1320.37,1320.09,1317.71,1312.96,1312.09,1313.47,1314.64,1317.41,1318.76,1316.37,1316.23,1315.17,1317.7,1321.66,1322.23,1324.04,1324.45,1325.49,1330.25,1332.27,1332.62,1336.74,1337.32,1336.15,1339.03,1339.96,1339.95,1338.69,1338.91,1338.11,1335.59,1334.87,1336.05,1337.54,1337.92,1339.84,1339.72,1339.34,1339.96,1340.5,1341.34,1342.56,1339.13,1337.85,1337.66,1337.87,1338.92,1338.11,1339.2,1341.25,1342.88,1344.29,1346.49,1347.2,1347.82,1347.48,1348.67,1347.9,1348.57,1348.99,1351.37,1353.89,1355.69,1355.94,1356.84,1357.14,1357.61,1357.96,1357.68,1357.6,1360.69,1358.02,1358.35,1358.49,1359.99,1357.7,1355.78,1354.59,1355.47,1359.63,1363.72,1363.18,1363.04,1364.03,1365.89,1367.24,1367.78,1372.25,1375.62,1376.79,1376.92,1378.07,1378.57,1380.56,1380.86,1381.23,1382.2,1382.05,1383.62,1383.65,1383.95,1384.36,1384.45,1385.99,1386.44,1388.7,1389.9,1389.19,1390.31,1390.81,1392.08,1394.34,1395.3,1395.62,1396.46,1398.01,1398.12,1397.78,1399.38,1398.83,1400.99,1401.93,1403.97,1406.58,1408.39,1403.32,1402.93,1405.44,1408.06,1411.19,1413.88,1416.05,1415.97,1414.22,1412.74,1413.69,1420.41,1422.39,1425.62,1426.38,1422.72,1419.65,1420.29,1420.17,1419.66,1421.44,1421.29,1418.17,1417.34,1418.29,1418.38,1417.95,1416.15,1415.23,1415.69,1415.47,1416.11,1415.11,1413.68,1414.63,1414.19,1415.85,1417.44,1416.75,1417.98,1412.45,1410.35,1412.36,1412.14,1414.36,1416.52,1418.36,1419.11,1418.82,1418.55,1417.39,1416.46,1415.24,1415.4,1417.25,1417.05,1416.65,1414.95,1413.24,1411.88,1413.5,1413.5]},\"selected\":{\"id\":\"1139\"},\"selection_policy\":{\"id\":\"1140\"}},\"id\":\"1121\",\"type\":\"ColumnDataSource\"},{\"attributes\":{\"axis\":{\"id\":\"1099\"},\"ticker\":null},\"id\":\"1102\",\"type\":\"Grid\"},{\"attributes\":{\"axis_label\":\"altitude\",\"formatter\":{\"id\":\"1138\"},\"ticker\":{\"id\":\"1104\"}},\"id\":\"1103\",\"type\":\"LinearAxis\"},{\"attributes\":{},\"id\":\"1093\",\"type\":\"DataRange1d\"}],\"root_ids\":[\"1088\"]},\"title\":\"Bokeh Application\",\"version\":\"2.2.1\"}};\n",
       "  var render_items = [{\"docid\":\"823e83e4-ec2b-4bed-86a0-ceda1dd53e4d\",\"root_ids\":[\"1088\"],\"roots\":{\"1088\":\"e95ccda3-8207-440d-adf5-6c5d75ab1e7d\"}}];\n",
       "  root.Bokeh.embed.embed_items_notebook(docs_json, render_items);\n",
       "\n",
       "  }\n",
       "  if (root.Bokeh !== undefined) {\n",
       "    embed_document(root);\n",
       "  } else {\n",
       "    var attempts = 0;\n",
       "    var timer = setInterval(function(root) {\n",
       "      if (root.Bokeh !== undefined) {\n",
       "        clearInterval(timer);\n",
       "        embed_document(root);\n",
       "      } else {\n",
       "        attempts++;\n",
       "        if (attempts > 100) {\n",
       "          clearInterval(timer);\n",
       "          console.log(\"Bokeh: ERROR: Unable to run BokehJS code because BokehJS library is missing\");\n",
       "        }\n",
       "      }\n",
       "    }, 10, root)\n",
       "  }\n",
       "})(window);"
      ],
      "application/vnd.bokehjs_exec.v0+json": ""
     },
     "metadata": {
      "application/vnd.bokehjs_exec.v0+json": {
       "id": "1088"
      }
     },
     "output_type": "display_data"
    }
   ],
   "source": [
    "p = figure(title=\"Altitude / temps\", x_axis_label='Temps (heures)', y_axis_label='altitude',\n",
    "           width=800,height=300)\n",
    "heuredep= points[0].time\n",
    "p.line([(point.time-heuredep).seconds/3600. for point in points],[point.elevation for point in points] , line_width=2)\n",
    "show(p)"
   ]
  },
  {
   "cell_type": "markdown",
   "metadata": {},
   "source": [
    "#### Cumul des montées et des descentes : ####\n",
    "\n",
    "Attention le gps n'est pas très précis pour les altitudes !"
   ]
  },
  {
   "cell_type": "code",
   "execution_count": 18,
   "metadata": {},
   "outputs": [],
   "source": [
    "z=[x[1]-x[0] for x in zip([point.elevation for point in points][1:],[point.elevation for point in points][:-1])]\n",
    "up= reduce(lambda a,b: a+max(b,0),z)\n",
    "down= reduce(lambda a,b: a+max(-b,0),z)"
   ]
  },
  {
   "cell_type": "code",
   "execution_count": 19,
   "metadata": {},
   "outputs": [
    {
     "name": "stdout",
     "output_type": "stream",
     "text": [
      "montée : 1021.9300000000005 , descente : 1021.2300000000005 (mêtres).\n"
     ]
    }
   ],
   "source": [
    "print(\"montée :\",up,\", descente :\",down,\"(mêtres).\")"
   ]
  },
  {
   "cell_type": "markdown",
   "metadata": {},
   "source": [
    "### Vitesse (en km/h) en fonction du temps (en secondes) : ###"
   ]
  },
  {
   "cell_type": "code",
   "execution_count": 20,
   "metadata": {},
   "outputs": [],
   "source": [
    "start= points[0].time\n",
    "z=[((x[0]-x[1]).total_seconds(),x[1]) for x in zip([point.time for point in points][1:], \\\n",
    "                                                   [point.time for point in points][:-1])]\n",
    "d=[x[1].distance_3d(x[0]) for x in zip(points[1:],points[:-1])]\n",
    "vt=[(x[0]/x[1][0],(x[1][1]-start).total_seconds())  for x in zip(d,z) if x[1][0]>0]"
   ]
  },
  {
   "cell_type": "code",
   "execution_count": 21,
   "metadata": {
    "scrolled": true
   },
   "outputs": [
    {
     "data": {
      "text/html": [
       "\n",
       "\n",
       "\n",
       "\n",
       "\n",
       "\n",
       "  <div class=\"bk-root\" id=\"806d9b1f-ea62-4dfa-a84e-f8a63a650edc\" data-root-id=\"1182\"></div>\n"
      ]
     },
     "metadata": {},
     "output_type": "display_data"
    },
    {
     "data": {
      "application/javascript": [
       "(function(root) {\n",
       "  function embed_document(root) {\n",
       "    \n",
       "  var docs_json = {\"adae8116-5722-409f-90c3-61cd58e76b5f\":{\"roots\":{\"references\":[{\"attributes\":{\"below\":[{\"id\":\"1193\"}],\"center\":[{\"id\":\"1196\"},{\"id\":\"1200\"}],\"left\":[{\"id\":\"1197\"}],\"plot_height\":300,\"plot_width\":800,\"renderers\":[{\"id\":\"1218\"}],\"title\":{\"id\":\"1183\"},\"toolbar\":{\"id\":\"1208\"},\"x_range\":{\"id\":\"1185\"},\"x_scale\":{\"id\":\"1189\"},\"y_range\":{\"id\":\"1187\"},\"y_scale\":{\"id\":\"1191\"}},\"id\":\"1182\",\"subtype\":\"Figure\",\"type\":\"Plot\"},{\"attributes\":{},\"id\":\"1187\",\"type\":\"DataRange1d\"},{\"attributes\":{},\"id\":\"1189\",\"type\":\"LinearScale\"},{\"attributes\":{\"axis_label\":\"temps\",\"formatter\":{\"id\":\"1238\"},\"ticker\":{\"id\":\"1194\"}},\"id\":\"1193\",\"type\":\"LinearAxis\"},{\"attributes\":{},\"id\":\"1191\",\"type\":\"LinearScale\"},{\"attributes\":{},\"id\":\"1185\",\"type\":\"DataRange1d\"},{\"attributes\":{},\"id\":\"1194\",\"type\":\"BasicTicker\"},{\"attributes\":{\"axis\":{\"id\":\"1193\"},\"ticker\":null},\"id\":\"1196\",\"type\":\"Grid\"},{\"attributes\":{},\"id\":\"1202\",\"type\":\"WheelZoomTool\"},{\"attributes\":{\"text\":\"Vitesse / temps\"},\"id\":\"1183\",\"type\":\"Title\"},{\"attributes\":{\"axis_label\":\"Vitesse (km/h)\",\"formatter\":{\"id\":\"1240\"},\"ticker\":{\"id\":\"1198\"}},\"id\":\"1197\",\"type\":\"LinearAxis\"},{\"attributes\":{\"axis\":{\"id\":\"1197\"},\"dimension\":1,\"ticker\":null},\"id\":\"1200\",\"type\":\"Grid\"},{\"attributes\":{\"data\":{\"x\":[0.0,10.0,20.0,30.0,40.0,50.0,60.0,70.0,80.0,90.0,100.0,110.0,120.0,130.0,140.0,150.0,160.0,170.0,180.0,190.0,206.0,216.0,226.0,236.0,246.0,256.0,266.0,276.0,286.0,296.0,306.0,316.0,326.0,336.0,346.0,356.0,366.0,376.0,386.0,396.0,406.0,416.0,426.0,436.0,446.0,456.0,466.0,476.0,486.0,496.0,506.0,516.0,526.0,536.0,546.0,556.0,566.0,576.0,586.0,596.0,606.0,616.0,626.0,636.0,646.0,656.0,666.0,676.0,686.0,697.0,707.0,717.0,727.0,737.0,747.0,757.0,767.0,777.0,787.0,797.0,807.0,817.0,827.0,837.0,847.0,857.0,867.0,877.0,887.0,897.0,907.0,917.0,927.0,937.0,947.0,957.0,967.0,977.0,987.0,997.0,1007.0,1023.0,1033.0,1043.0,1053.0,1063.0,1073.0,1083.0,1093.0,1103.0,1113.0,1123.0,1133.0,1143.0,1153.0,1163.0,1173.0,1183.0,1193.0,1203.0,1213.0,1223.0,1233.0,1243.0,1253.0,1263.0,1273.0,1283.0,1293.0,1303.0,1313.0,1323.0,1333.0,1343.0,1353.0,1363.0,1373.0,1383.0,1393.0,1403.0,1413.0,1423.0,1433.0,1443.0,1453.0,1463.0,1473.0,1483.0,1493.0,1503.0,1513.0,1523.0,1533.0,1543.0,1553.0,1563.0,1573.0,1583.0,1593.0,1610.0,1620.0,1711.0,1741.0,1751.0,1761.0,1771.0,1797.0,1807.0,1822.0,1832.0,1842.0,1852.0,1862.0,1872.0,1882.0,1892.0,1902.0,1912.0,1922.0,1932.0,1942.0,1952.0,1962.0,1972.0,1982.0,1992.0,2002.0,2012.0,2022.0,2032.0,2042.0,2052.0,2062.0,2072.0,2082.0,2092.0,2102.0,2112.0,2122.0,2132.0,2142.0,2152.0,2162.0,2172.0,2182.0,2192.0,2202.0,2212.0,2222.0,2232.0,2242.0,2252.0,2262.0,2272.0,2282.0,2292.0,2302.0,2312.0,2322.0,2332.0,2342.0,2352.0,2362.0,2372.0,2382.0,2392.0,2402.0,2412.0,2422.0,2432.0,2442.0,2452.0,2462.0,2472.0,2482.0,2492.0,2502.0,2512.0,2522.0,2532.0,2744.0,2754.0,2764.0,2774.0,2784.0,2794.0,2804.0,2814.0,2824.0,2834.0,2844.0,2854.0,2864.0,2874.0,2884.0,2894.0,2904.0,2914.0,2924.0,2949.0,2959.0,2969.0,2979.0,2989.0,2999.0,3009.0,3019.0,3029.0,3039.0,3049.0,3059.0,3069.0,3079.0,3089.0,3099.0,3109.0,3119.0,3129.0,3139.0,3149.0,3159.0,3169.0,3179.0,3189.0,3212.0,3229.0,3239.0,3249.0,3259.0,3269.0,3279.0,3289.0,3299.0,3309.0,3319.0,3329.0,3339.0,3349.0,3359.0,3369.0,3379.0,3389.0,3399.0,3409.0,3419.0,3429.0,3439.0,3449.0,3459.0,3469.0,3479.0,3501.0,3511.0,3521.0,3531.0,3541.0,3551.0,3561.0,3571.0,3597.0,3607.0,3617.0,3627.0,3637.0,3647.0,3657.0,3667.0,3677.0,3687.0,3697.0,3707.0,3717.0,3727.0,3737.0,3747.0,3757.0,3767.0,3777.0,3787.0,3797.0,3807.0,3817.0,3827.0,3837.0,3847.0,3857.0,3873.0,3883.0,3910.0,3920.0,3930.0,3940.0,3950.0,4246.0,4336.0,4346.0,4356.0,4366.0,4376.0,4386.0,4396.0,4406.0,4416.0,4426.0,4518.0,4528.0,4595.0,4605.0,4615.0,4625.0,4635.0,4645.0,4655.0,4665.0,4675.0,4685.0,4695.0,4705.0,4715.0,4725.0,4735.0,4745.0,4755.0,4765.0,4775.0,4785.0,4795.0,4805.0,4815.0,4825.0,4835.0,4845.0,4855.0,4865.0,4875.0,4885.0,4895.0,4905.0,4915.0,4925.0,4935.0,4945.0,4955.0,4965.0,4975.0,4985.0,4995.0,5005.0,5015.0,5025.0,5035.0,5045.0,5055.0,5149.0,5159.0,5169.0,5179.0,5189.0,5199.0,5234.0,5244.0,5254.0,5301.0,5311.0,5321.0,5331.0,5341.0,5351.0,5361.0,5371.0,5381.0,5391.0,5401.0,5411.0,5421.0,5431.0,5441.0,5451.0,5461.0,5471.0,5481.0,5491.0,5501.0,5511.0,5521.0,5531.0,5541.0,5551.0,5561.0,5571.0,5581.0,5591.0,5601.0,5611.0,5621.0,5631.0,5641.0,5651.0,5661.0,5671.0,5722.0,5732.0,5742.0,5752.0,5762.0,5772.0,5782.0,5792.0,5802.0,5812.0,5822.0,5832.0,5842.0,5852.0,5862.0,5872.0,5882.0,5892.0,5902.0,5912.0,5922.0,5932.0,5942.0,5952.0,5962.0,5972.0,5982.0,5992.0,6002.0,6012.0,6022.0,6032.0,6042.0,6052.0,6062.0,6072.0,6082.0,6092.0,6102.0,6112.0,6122.0,6132.0,6142.0,6152.0,6162.0,6174.0,6184.0,6194.0,6204.0,6214.0,6224.0,6234.0,6244.0,6254.0,6264.0,6274.0,6284.0,6294.0,6304.0,6314.0,6324.0,6334.0,6344.0,6354.0,6364.0,6374.0,6384.0,6394.0,6404.0,6414.0,6437.0,6447.0,6457.0,6467.0,6477.0,6487.0,6497.0,6507.0,6517.0,6527.0,6537.0,6547.0,6557.0,6567.0,6577.0,6587.0,6597.0,6607.0,6617.0,6627.0,6637.0,6656.0,6666.0,6676.0,6686.0,6696.0,6706.0,6716.0,6726.0,6736.0,6746.0,6756.0,6766.0,6776.0,6786.0,6796.0,6806.0,6816.0,6826.0,6836.0,6846.0,6856.0,6866.0,6876.0,6886.0,6896.0,6906.0,6916.0,6926.0,6936.0,6946.0,6956.0,6966.0,6976.0,6986.0,6996.0,7006.0,7016.0,7026.0,7036.0,7046.0,7056.0,7073.0,7083.0,7105.0,7115.0,7131.0,7141.0,7288.0,7298.0,7308.0,7318.0,7338.0,7348.0,7358.0,7368.0,7378.0,7388.0,7398.0,7408.0,7418.0,7428.0,7438.0,7448.0,7458.0,7468.0,7478.0,7488.0,7498.0,7508.0,7518.0,7528.0,7538.0,7548.0,7592.0,7602.0,7612.0,7622.0,7632.0,7642.0,7652.0,7662.0,7672.0,7682.0,7692.0,7702.0,7712.0,7722.0,7732.0,7742.0,7759.0,7769.0,7779.0,7821.0,7831.0,7841.0,7851.0,7861.0,7871.0,7881.0,7891.0,7901.0,7911.0,7921.0,7931.0,7941.0,7951.0,7961.0,7971.0,7981.0,7991.0,8001.0,8011.0,8021.0,8031.0,8041.0,8051.0,8061.0,8071.0,8081.0,8091.0,8101.0,8111.0,8121.0,8135.0,8145.0,8155.0,8165.0,8175.0,8185.0,8195.0,8205.0,8215.0,8225.0,8235.0,8245.0,8255.0,8265.0,8275.0,8285.0,8295.0,8305.0,8315.0,8325.0,8335.0,8345.0,8355.0,8365.0,8375.0,8421.0,8430.999,8440.999,8450.999,8460.999,8470.999,8480.999,8490.999,8500.999,8510.999,8520.999,8575.999,8585.999,8595.999,8605.999,8615.999,8625.999,8635.999,8645.999,8655.999,8665.999,8675.999,8685.999,8695.999,8705.999,8715.999,8725.999,8736.999,8746.999,8756.999,8766.999,8874.999,8884.999,8975.999,8985.999,9031.999,9041.999,9051.999,9061.999,9128.999,9138.999,9148.999,9158.999,9168.999,9178.999,9188.999,9198.999,9208.999,9218.999,9228.999,9238.999,9248.999,9258.999,9268.999,9278.999,9288.999,9298.999,9308.999,9318.999,9328.999,9338.999,9368.999,9435.999,10070.999,10080.999,10209.999,10219.999,10229.999,10239.999,10249.999,10259.999,10269.999,10279.999,10289.999,10299.999,10309.999,10319.999,10329.999,10339.999,10349.999,10359.999,10369.999,10379.999,10389.999,10399.999,10409.999,10419.999,10429.999,10439.999,10449.999,10459.999,10469.999,10479.999,10489.999,10499.999,10580.999,10590.999,10600.999,10610.999,10620.999,10630.999,10640.999,10650.999,10660.999,10670.999,10680.999,10690.999,10700.999,10710.999,10720.999,10730.999,10740.999,10750.999,10760.999,10770.999,10780.999,10790.999,10800.999,10810.999,10820.999,10830.999,10840.999,10850.999,10860.999,10870.999,10880.999,10890.999,10900.999,10924.999,10934.999,10944.999,10954.999,10964.999,10974.999,10984.999,10994.999,11004.999,11014.999,11024.999,11034.999,11044.999,11054.999,11064.999,11074.999,11108.999,11118.999,11128.999,11138.999,11148.999,11158.999,11168.999,11178.999,11188.999,11198.999,11208.999,11218.999,11228.999,11238.999,11248.999,11258.999,11268.999,11278.999,11288.999,11298.999,11308.999,11318.999,11328.999,11338.999,11348.999,11358.999,11368.999,11378.999,11388.999,11398.999,11408.999,11418.999,11436.999,11446.999,11456.999,11466.999,11476.999,11486.999,11496.999,11506.999,11516.999,11526.999,11536.999,11546.999,11556.999,11566.999,11576.999,11586.999,11596.999,11606.999,11616.999,11626.999,11636.999,11646.999,11656.999,11666.999,11676.999,11686.999,11696.999,11706.999,11716.999,11726.999,11736.999,11746.999,11756.999,11766.999,11776.999,11786.999,11796.999,11806.999,11816.999,11826.999,11836.999,11846.999,11856.999,11866.999,11876.999,11886.999,11896.999,11906.999,11916.999,11926.999,11936.999,11946.999,11956.999,11966.999,11976.999,11986.999,11996.999,12006.999,12016.999,12026.999,12036.999,12046.999,12056.999,12066.999,12076.999,12086.999,12162.999,12172.999,12182.999,12192.999,12202.999,12212.999,12222.999,12232.999,12254.999,12264.999,12274.999,12284.999,12324.999,12334.999,12344.999,12354.999,12364.999,12374.999,12384.999,12394.999,12404.999,12414.999,12424.999,12434.999,12444.999,12454.999,12464.999,12474.999,12484.999,12494.999,12504.999,12514.999,12524.999,12534.999,12544.999,12554.999,12564.999,12574.999,12584.999,12594.999,12604.999,12614.999,12624.999,12634.999,12644.999,12654.999,12664.999,12674.999,12684.999,12694.999,12704.999,12714.999,12724.999,12734.999,12744.999,12754.999,12764.999,12774.999,12784.999,12794.999,12804.999,12814.999,12824.999,12834.999,12844.999,12854.999,12864.999,12874.999,12884.999,12894.999,12904.999,12914.999,12924.999,12934.999,12944.999,12954.999,12964.999,12974.999,12984.999,12994.999,13004.999,13014.999,13024.999,13034.999,13044.999,13054.999,13064.999,13074.999,13084.999,13094.999,13104.999,13114.999,13124.999,13134.999,13144.999,13154.999,13164.999,13174.999,13184.999,13194.999,13204.999,13214.999,13224.999,13234.999,13244.999,13254.999,13264.999,13274.999,13284.999,13294.999,13304.999,13314.999,13324.999,13334.999,13344.999,13354.999,13364.999,13374.999,13384.999,13394.999,13404.999,13414.999,13424.999,13434.999,13444.999,13454.999,13464.999,13474.999,13484.999,13494.999,13504.999,13514.999,13524.999,13534.999,13544.999,13554.999,13564.999,13574.999,13584.999,13594.999,13604.999,13614.999,13624.999,13634.999,13644.999,13654.999,13664.999,13674.999,13684.999,13694.999,13704.999,13714.999,13724.999,13734.999,13744.999,13754.999,13764.999,13774.999,13796.999,13806.999,13816.999,13826.999,13836.999,13846.999,13856.999,13866.999,13876.999,13886.999,13896.999,13906.999,13916.999,13926.999,13936.999,13946.999,13956.999,13966.999,13976.999,13986.999,13996.999,14006.999,14016.999,14026.999,14036.999,14046.999,14056.999,14066.999,14076.999,14086.999,14096.999,14106.999,14116.999,14126.999,14136.999,14146.999,14156.999,14166.999,14176.999,14186.999,14196.999,14206.999,14216.999,14226.999,14236.999,14246.999,14256.999,14266.999,14276.999,14286.999,14296.999,14306.999,14316.999,14326.999,14336.999,14346.999,14356.999,14366.999,14376.999,14386.999,14396.999,14406.999,14416.999,14426.999,14436.999,14446.999,14456.999,14466.999,14476.999,14486.999,14496.999,14506.999,14516.999,14526.999,14536.999,14546.999,14556.999,14566.999,14576.999,14586.999,14596.999,14606.999,14616.999,14626.999,14636.999,14646.999,14656.999,14666.999,14676.999,14686.999,14696.999,14706.999,14716.999,14726.999,14736.999,14746.999,14756.999,14766.999,14776.999,14786.999,14796.999,14806.999,14821.999,14831.999,14841.999,14851.999,14861.999,14871.999,14881.999,14891.999,14901.999,14911.999,14921.999,14931.999,14941.999,14951.999,14961.999,14971.999,14981.999,14991.999,15001.999,15011.999,15021.999,15031.999,15041.999,15051.999,15061.999,15071.999,15081.999,15091.999,15101.999,15111.999,15121.999,15131.999,15141.999,15151.999,15161.999,15171.999,15181.999,15191.999,15201.999,15211.999,15221.999,15231.999,15243.999,15253.999,15263.999,15273.999,15292.999,15302.999,15312.999,15322.999,15332.999,15342.999,15352.999,15362.999,15372.999,15382.999,15392.999,15402.999,15412.999,15422.999,15432.999,15442.999,15452.999,15462.999,15472.999,15482.999,15494.999,15504.999,15514.999,15524.999,15534.999,15544.999,15554.999,15564.999,15574.999,15584.999,15594.999,15604.999,15614.999,15624.999,15634.999,15644.999,15654.999,15664.999,15674.999,15684.999,15694.999,15704.999,15714.999,15724.999,15734.999,15744.999,15754.999,15764.999,15774.999,15784.999,15794.999,15804.999,15814.999,15824.999,15834.999,15844.999,15854.999,15864.999,15874.999,15884.999,15894.999,15965.999,15975.999,15985.999,15995.999,16005.999,16015.999,16025.999,16035.999,16045.999,16055.999,16065.999,16075.999,16085.999,16095.999,16105.999,16115.999,16125.999,16135.999,16145.999,16155.999,16165.999,16175.999,16185.999,16195.999,16205.999,16215.999,16225.999,16235.999,16245.999,16255.999,16265.999,16275.999,16285.999,16295.999,16305.999,16315.999,16325.999,16335.999,16345.999,16355.999,16365.999,16375.999,16385.999],\"y\":[4.538755578352124,4.228787160952702,8.061013043053492,7.894443130394357,1.9294389360642028,2.725242759140564,6.9357617331164745,6.054910543013737,5.837990491572004,2.1733753090611314,5.127863679302153,2.195810836819545,3.045436010538031,1.9400706948714503,6.795355166038536,6.2819165413703155,3.386177962624711,3.629593211112028,3.064955587335146,0.4064983530384508,3.1423571567605526,2.98426773897588,2.54107748784011,2.648677085408256,3.893842882671946,3.942411155925906,4.7441703221985465,3.2915285732521635,1.7261646327232478,3.6227176829914463,7.844471662168552,4.662663184886759,4.966914294301779,4.13829544105952,3.2969624888438065,4.239999615719008,4.460536415455524,4.215059044652807,1.6475141059175633,3.0821675700627598,3.3454254859777977,4.861863082980478,4.656306598366391,5.01557394027403,4.670460725680734,3.5651318145213065,2.5520294002538493,5.087786955433628,5.59188267146475,4.3401761505632726,4.845831599737588,4.370165896842984,4.475132339110976,4.794650438608032,4.671110989457801,1.9542786224324626,4.634575390347342,4.106573815948681,5.576421869592196,5.012001045384607,1.4387178545631427,0.94603252582089,3.4791062510113497,4.135507806019615,6.551363814862823,4.73773995305531,5.787973500508303,15.54048628829971,1.2424887145207677,5.666555860458944,3.993290426322086,4.0690431880378775,2.084002812649036,1.2275086981284697,1.2238595301717377,0.9816670041326975,3.1692612655183567,2.635360084155825,4.5289230341338715,4.386974726688863,2.7490544938699975,8.439768524433301,1.358667268957129,1.6481836776671959,4.702739067766764,3.498326702511072,3.114897519684026,4.828761994239634,2.0176511170967544,0.7643632596873036,6.278732863845406,4.932972680221035,2.0628274434509954,2.81873115202874,3.521843766033019,3.478091314475579,3.7916170642555977,4.805128858777288,1.9549805756340726,2.197982523747801,0.7232613588747168,7.700731857294353,3.423888484878614,1.9882994276607238,3.8583084495885225,3.7174216355657617,3.9175157464702286,6.693399111875737,3.9222734589431987,5.2465400980364265,4.8445768094703645,4.999250733451193,4.557913922598462,4.717625943540722,4.34965996999622,4.781681597974361,4.6894700114383605,3.6677899088385324,3.0435148700638543,4.1736848383635765,4.216912641904617,3.6563341003459233,3.8129692983396377,4.886906156633352,4.56238322478121,4.432761572069929,3.45223746240564,3.219162475983943,3.9149312413152777,3.4526338447008786,3.222958348618764,3.8942089614680007,4.378364567907102,4.752974787565239,3.7012968779476876,4.1251296247483085,5.448353470679903,3.8520610568429188,4.705896005136699,4.215375627006235,0.7955972178619116,2.3624091149038997,4.768794800304497,3.8832336763089073,3.8378511800625863,4.188390819926995,3.468347326696887,5.026397849613159,5.526783208508035,6.072609034143691,4.047611804069433,4.158907717146057,4.013333151053048,4.651356747564332,5.225810843056572,5.678320943712676,3.830790750108054,4.695705095170494,0.21329531673749105,0.7896191961240497,0.07201665990761201,0.16205992487309664,5.034654079673493,0.8638378021039193,0.6706544524713641,0.3388073500569887,1.3398171450613092,0.3856666031748408,3.9783387910323738,3.9401296106379413,2.434937474254376,5.9137986327150625,6.322335719554408,3.642731171464986,4.753700969653578,4.244725708774874,4.849453318740859,5.303664143870078,3.992085232736312,5.649766857226805,4.681342664630115,5.3139410661405675,4.737047274442976,4.595038452166859,5.33433403585489,4.270582380149084,5.2925501993181685,5.497349032192691,4.477980337233579,4.805437922716909,5.290725039094901,4.910065185613411,4.081630456034644,5.3767900139638245,5.350232156659924,6.390640559637812,4.079820147790017,4.55550438478322,1.0816517085058777,1.1560987346195613,1.469752847636843,5.525144178323394,4.206786334100218,3.94504459388097,5.609976749478281,4.69696077017809,5.615186663062113,3.82555289345322,4.316707537046731,5.109713566845762,4.790867450687322,3.6574477878608858,0.6580218978916054,1.5810954452574435,3.8157872704792704,5.137215674602863,3.903135869514725,4.829958501818542,4.494618547600493,4.231387624071626,4.956697669858649,3.542749947331403,4.81094326740374,4.325786494487166,4.208878743380756,4.1504970955102545,3.636371078687094,2.866173408214356,3.6211548627634635,4.1759607169620105,3.812400823647243,4.29878316691401,4.1250713887645984,4.815979818977598,3.958300995420997,3.6091903354998283,2.076322409189453,3.3465866996538716,0.7213997288849004,0.028793807415848197,3.946066073544872,3.743617925666288,1.8562073768584735,2.47899021189454,2.6349854253829066,4.720206075307557,4.869362958007408,1.8460395484129022,0.9960439112543875,0.8623471908421916,0.5378796426132072,1.0522274851202646,5.103072089031032,1.5873256237141684,2.2773417230779285,1.1503693364237677,4.247918753431792,3.624779117676879,0.16361846821330553,2.8980989514406064,1.7456509851037572,1.9332266047340836,2.619309040901974,2.5512455598427253,3.289588774066487,2.046408006203176,3.580325891921919,2.5301848932463264,1.6140290605477563,1.1400599351348633,0.990958107752847,1.9220439376834926,2.643705129676093,1.8419894098895357,2.380271062971184,1.0002273825223005,3.2593264891090095,1.276582156449461,2.459579512523607,2.189798904092057,3.0722111296950483,2.5992453096746524,1.8011360006122565,0.1977576168964269,0.4633239710756799,3.0296739633372365,2.2338900245401128,2.9528149970376543,4.067205749258464,4.029803722334939,3.8920019051472003,3.312961846464901,2.7083686406305834,3.377413229710432,3.4488382547400858,2.8128686570111534,2.9634749175070763,2.7727160508106907,3.8063784867571533,3.080612980403184,3.5666440385972558,4.341777563395394,2.9613050802125946,3.362567868749646,4.087320258716979,2.949778744379136,3.730293591543799,3.245431957825967,2.597312737871716,1.8763648553054975,0.1695878609287493,0.7243517584226532,0.8854083247500464,3.179594373368273,3.4060612453340964,3.637034882179482,4.067985355634096,1.3000441152134492,0.2612697733402548,4.597546982418496,3.0130397880236424,3.2440962282296195,4.022413687203579,3.295876198615794,4.019890263334363,3.8382761468017987,3.0136452081311518,4.117848275380481,3.801457551496407,3.691405366086864,2.4967172051180975,3.0130184811623986,3.9473696922416277,4.30959783689372,2.783676256371137,3.765140313871287,3.775903082254492,3.6360111110365807,0.3916664927930196,0.5384937246141709,3.6986939814380246,3.6298888278693724,4.106502517024831,3.9118872946281704,3.83715840045835,0.2683667574010463,1.4196344697434977,0.28593197673792703,3.174578100308752,0.8311710467081257,4.710335290952077,0.5411881652498893,0.012399319137187932,0.07672701678511515,2.828558286480471,3.735072118978936,3.999082404424726,4.15283773010867,2.554541604573272,4.094583312938529,1.5026152751120145,2.455346438685338,1.9270845536358345,0.0603857795101015,0.49434551281769246,0.10689884507683102,4.376610190998522,3.774146146846895,2.138909038033239,2.569761675167986,4.1701653216679535,4.384693852529809,3.4502821638871644,3.7144439060467667,4.335342601712499,4.526053731479122,3.53424793027673,3.136773163887024,2.9226224320757934,2.347771324544344,3.810089118499213,3.3146177578571767,3.241412967640068,4.462775953114753,3.4883568268277543,4.019475490855963,2.731288683021537,2.8654062367576594,3.5835729810360415,3.206249223348879,2.7060348436081703,4.051156858112373,3.8315400590765507,3.6990488569006974,4.473015058090092,3.773702690679236,3.1787161070896643,4.2568661409290165,3.946963550931654,4.323616557897946,3.520677513930112,3.127840793747613,3.518324581156378,3.133444353308443,4.004708274292142,4.339131781426737,2.8625420126126215,3.484737563918508,0.5599754357675989,1.254684458465614,1.8733292119037195,1.3426155012847445,0.05347675482643397,3.752986872445387,3.9171492685644442,3.1217500515710697,3.9290479532647544,3.947137825969693,0.3523551718478137,2.019642651249468,1.0864439194209792,0.08485694649811862,2.7032612878879267,2.6610608789077026,5.383004537946327,3.9118505480223194,3.9129413964337707,3.9291606853779415,3.2990397235343645,4.153518773563145,3.1728734985000173,3.4437332075421687,2.3543983140831237,2.9174666774537026,3.643824927830391,3.9305214464418374,2.4819831224233138,3.1153124107365544,3.8007209701381717,2.7683478529985046,2.9131154378434103,4.022740969704563,3.9997901166376946,1.9229818567349413,3.3352382577090993,3.635103897437205,3.846667202894487,4.23685958824543,4.044551128273507,2.589880893885646,4.13985960698205,1.945667571454974,2.731435810430613,3.4499790257854266,3.1107679913423865,3.4865544731194813,4.08972376529392,3.449430875682648,0.6739153639515684,0.2502570467079619,3.9154232836569594,3.391085896409183,3.4675892975192246,3.602576152084377,3.060969917953234,1.7045749468946774,3.188886238431387,2.882888596657015,3.5464631902010892,3.2689291775674474,3.1972706539420734,4.334572352967378,4.615803196123994,4.683519093357848,3.919605015040707,3.7204386845292614,4.5983512529629476,3.6366778088092855,3.7593430635250864,2.6912097555777383,3.1219010743989224,2.3769813849697825,2.462783264556274,3.2633229420412078,4.078159796485309,3.271870762619431,3.3810254211511115,4.660743483291465,4.144625180837422,2.7098364143270253,1.0013910067905871,2.9619171063474803,3.6571903475789056,3.8558991336007735,3.376509863135703,1.944462935361645,5.024712638582839,4.256762179350493,4.579496770351258,4.216429741360082,3.9774405700093487,3.8136241117205727,3.579824527672197,2.4042342563612187,0.7346733613182891,3.3253364587046175,0.6207597472656238,2.1239641168732177,2.843441317151064,3.0298963478855687,3.431036279625424,3.632316032276659,4.151296392689648,4.186662097961531,4.107968443387389,4.124423871682825,3.9640519051613676,3.8902870605768785,4.089684306068313,3.151897937761807,3.8187659527895246,3.084996151640069,4.135844671880273,3.2402002906405425,4.720631541123474,4.338214394957819,4.57629953547623,3.8009061179760972,1.9499181426677878,0.3174027527212708,4.739199747460199,3.4227589320239473,4.38008074218477,4.009666732674558,4.220115410628915,2.723585112771906,4.498814378281958,3.754816389087502,3.421321788886515,3.013151776380863,5.05270786543994,4.747838063123533,4.311357449321241,4.716282020100522,4.927982385257361,5.444250205003433,4.479248518825822,3.852523470051343,3.709376541963759,3.3550255894273047,0.1952754013179889,3.6107571083611854,3.6808174760328725,4.617651460027037,4.387608212174544,2.675430028225621,1.2512300603949518,3.621962906757255,3.4995186983981674,3.845371140893924,4.135165805993561,3.526066279572358,3.8825817261439117,4.328747485091705,3.8673266480764483,3.1333183092479557,3.944754070590682,3.474856201322973,3.4369995789194103,3.378672804547015,4.438978736169842,4.741906730494121,4.0615761292489365,4.370069857638299,3.7594277826941487,3.5838326930004625,4.1796775610286625,3.4360583113736443,4.372218901923146,3.7539732988891594,3.6459169924531296,3.3242451339307917,3.9733224110580667,3.3106232944726064,4.254427371456127,3.748880432386217,4.187375822887598,3.0900785753233624,3.2148946495855597,2.699674570410905,0.9825858081747451,0.22725059515940432,1.198530820368821,0.18888110569574365,0.8118900229290871,0.42222460479133317,1.3186806601468104,0.04219787915652685,1.0623076347190825,0.46850385870596295,2.553916950107132,0.18702661804924148,4.007630747812941,3.5594953535464975,2.8946987168286764,2.963962388969892,3.5712634876091314,4.492158099356138,5.044730720668374,4.424279461283001,4.113499010124526,2.3498516938945264,3.0314502044732494,4.338636484924523,3.412000750586394,3.7283289258949135,4.9822416405341325,4.433322337524653,4.554374438984414,2.4860129936546347,0.8878612899336222,0.6884345684391241,0.6828718435420073,0.11873627000367638,3.516024238134289,3.2283696885126294,2.7817082475737664,4.538626512451945,3.7669099151696455,4.091835270867904,4.4921743810158015,4.906722283902073,4.258716960141408,4.332870169578899,4.362869770578866,4.29428886353845,4.34522317975114,3.3532523903230786,2.6653552680080796,0.2545077157446891,3.187049506175343,3.955078004223506,0.1081802022058395,3.9460509318987573,3.347239911250665,3.8850178431019096,3.8950584995410655,3.3161462183356094,3.48576550043809,4.0996467878508,4.2768586173355105,3.4978427447131515,3.8973628443434127,3.676479879266133,4.235626810251103,3.80943892843082,3.3568847502696793,3.5391388915305155,3.2365024511084663,1.4501613840060417,2.898404409195083,3.910467675587279,4.231632617025627,3.440367901799142,5.067890832774914,3.9936115096644724,3.8254269591444676,3.256135974567764,4.226767252679851,3.854278548781501,2.9888879669584933,4.199476787827574,0.7906785180590655,0.5009308119241785,3.4527420540601064,3.510098976523457,3.2379559524311894,3.4961077841343684,3.1928652247669915,3.672183622690407,2.8188450236173237,3.780769698996914,3.4139692192415465,3.995268943010328,3.7670488414587773,3.9946090220585244,3.758967546256224,2.064533665114111,3.86769942387933,3.4343865862228116,4.909248900568181,5.488022978760564,4.998496585638036,3.572388281099645,3.8073266360067546,3.6735191366299884,3.8438602941799833,3.202186779123097,0.08680013559692648,3.5946923252121668,3.3330299840061848,4.208137221623563,3.989900469063411,3.4177521676293856,2.993725762108122,4.23418779581672,4.175097513054251,4.0316417686344455,3.425100031293203,0.10783599256407216,1.5427518857546638,2.5742740891637323,2.893048855988024,1.756355928693079,3.258331821118471,3.8427542038590228,3.849078694254817,3.9953142409798743,4.036611295955463,1.4089128103402173,1.7035790099307497,0.7817914529268233,1.993044324755324,0.907655450707671,3.1362554807574132,0.5566061025555669,2.851204115741793,0.9295326638305632,0.9754078391328282,0.0594967328169401,1.5871270887822333,0.05110429960339711,0.8818127106907052,0.14326057378898335,1.7022777221647178,2.0108443152209903,1.8227643985977278,0.1049201100010891,3.6766313406675057,3.8623054769171734,4.323071002721673,4.102116557246523,3.638197819084452,4.536735715257166,4.593136546732571,3.947681323455524,4.860152428074067,4.829847090434087,4.025681825094375,4.3177366106872235,3.8966158426466224,4.714047484729583,2.925023794842492,5.223861638533138,4.246078292023266,4.910251624009436,2.4011387080028275,3.4579285639758073,2.42145505224784,0.1776829604559644,0.09766030189647772,0.006381029757277176,1.5527463332107625,0.04708858071916038,3.1031879806427756,3.3766230126429027,5.375439754971458,4.3772214478548745,5.507272988347828,4.168265442126473,1.7892677267195893,2.6277456752036263,4.234004235352803,4.332027575357214,3.957406920697069,4.634535271643405,4.276637140027802,4.252740288186722,4.471851685673942,4.941539478963631,5.499900325842203,4.0089762820056905,4.376117544263499,5.0141718474874395,4.399713827550591,5.450229165359985,4.812944635264248,4.656004170018495,4.736349814484965,6.04766483418958,5.06402506501903,5.155414996099793,3.060726654372681,0.055077809046190765,2.008846545024556,0.4640541940990984,3.1190118687471253,3.476875688380298,3.893993010664439,5.1433375082457955,4.102064235988305,4.942880742082094,4.847045403696698,4.569013606916833,5.17110880935485,5.838195943619896,4.960371834541435,5.395855735019372,5.944130918458173,4.043404650866419,3.19648821489818,4.990153383697124,4.771073083235284,5.681733611898566,4.053433644282283,5.061227896586971,3.8805503740536706,5.9014374324992644,5.172793113777792,5.648012358451946,5.7020068120929,5.354372572283048,3.8556092087739273,0.7304908124617022,2.5219739779072086,0.6476571922669543,0.2003936945606356,3.7645143306375655,4.5431847545679,4.603819862093497,3.8771163610074857,4.109875514971379,4.208793755606671,5.197575831517495,4.789784624195944,5.053731491033499,5.4257584171230295,5.342560083454646,5.65744813116098,4.385784632692032,4.852908931810457,2.5262253353597517,0.13316273336736892,2.7292737344960565,3.93422429177082,4.546359127527975,5.497053506238346,5.861166748723568,4.9182467524561515,5.242902481477861,4.93573488389462,5.009451422199442,4.1897241704747294,4.235384860068828,5.0832392685653165,4.868947240611268,5.319607239938263,5.042778119906392,4.939881967915798,5.075536551312883,4.986840750113153,5.089486886560765,4.775619733647057,5.457151854223366,4.697286849588861,4.821344184363073,6.6668031320596235,4.824089318764785,4.987502320935174,4.718865089631373,5.294341685462597,5.293611711744684,4.661566068878544,3.1967707507011727,0.22029225511642658,3.681757807980081,4.336059321771002,4.15522858018629,4.156872303452125,3.7553668619740335,5.031591636561104,3.582736895718337,5.100913761604032,4.918981542172894,5.493554699275341,5.192582796616836,5.297048893708851,5.465125339511446,5.4111321075139855,4.56631100219349,5.643851438995282,4.762034166883378,4.3421091982288065,5.581102538700874,5.352269108929357,3.493381945859392,5.60070934616528,5.088373168976644,5.064130932723109,5.000634177944112,7.331871595675507,5.451972044462253,4.236224896424621,5.463411313772586,6.220600983946283,5.783282779165067,5.314423677874898,3.8598444865895636,3.887867522656895,4.1008994895159585,4.557213386036826,4.049557685689454,7.140333403602878,6.170264387464837,5.010561200663554,4.155610855914109,5.288800708155114,5.150809359934465,3.7012737212295423,4.257344205328829,4.768067214647123,5.358107131858401,4.684219615707061,6.77393578331578,6.7222063805614125,4.8575096512874705,5.075585664377354,4.661452109930643,4.989245171572815,4.182174355733253,4.790812833357211,4.358899891489951,4.979333137934329,6.85364775818933,4.560190491389905,3.6526537468323146,1.9085672318899256,4.266466681040779,2.9900073647473557,0.5257477366635704,0.08374047010230593,2.791339432249949,5.2149461993435,4.962830931555432,5.706624696271414,4.3545474506795525,4.206844154175375,2.9225844147658755,0.2520161526649067,4.821384003444871,4.205798184917075,4.960565849589738,0.15737482672902658,4.0455082748483955,4.048575884006229,4.033903163345383,4.422251245565628,4.586974650365776,4.717400143383296,4.638257580399939,5.263951003087819,3.7385596206826452,4.1087683307967335,4.36854433736718,4.628062364467309,5.268997019648849,4.421598760536284,4.074210187304986,3.346188273593013,4.850257239253223,4.736879054916471,5.379426369916597,5.014742119669796,5.103415591867867,1.8725060485060998,1.8434714061330435,2.5746187458708705,0.8411385136997398,3.3462623534986,4.0780797205094546,3.469237094640827,3.991732637109536,5.061105317996357,4.04269393666586,3.8519300199850766,4.035064603893664,4.665331522291394,3.943959445011273,4.6592446870790605,5.471416797870381,4.568429006582214,4.37248913049659,2.733477927281132,5.2437747920101305,4.777329192177986,3.9677482316268775,4.900754384228312,4.396479198621652,4.937311150585568,4.829639175446907,4.739236005517523,4.904156665116027,4.412153617562069,4.4956800546478695,5.401809725880123,5.191189815488926,4.606978066372199,5.3415932876132,5.703751582104237,6.387943217564595,4.162426935370638,4.698303924231573,4.075770514777665,4.7592643997735316,5.238737584311489,5.183103991231816,4.366912289847342,4.9977034310725585,3.913984579835082,5.068468591405825,4.48401826413368,3.303454422181973,4.648447989768361,4.4359478090561835,0.9369392532715679,4.842103951928073,3.819644906886768,3.7606793700209495,3.9664388132974815,4.1540841735885845,4.590637698174881,4.071688325453764,4.417388856274396,3.1175306392471103,3.541819640716778,5.4192545049456955,5.108376845005612,4.717632519788869,4.418813246574071,3.96418270954151,4.374588084150028,4.6491392682858725,4.201755239697952,3.9741627329973617,3.6701940847367043,5.112899450713701,5.672826840713847,4.754606236956266,4.846815452134544,4.342761546485031,4.673695946081112,4.9904518182212545,4.829765641444311,4.446974991851097,4.701894505769942,4.373344514045635,4.638553290907111,5.510520011109171,5.7541173647734185,3.6331129868048047,4.860791367150627,5.508419538601085,4.5546308903718415,4.587168320136764,5.9712790663542625,4.661075954878859,4.4710616970483175,5.0266047660850335,6.040524763378106,5.282780052288426,1.6022928785203328,4.758495331418542,4.732141631787141,4.1098845598055505,3.8326020898994226,5.304945866265021,4.7348275716977914,4.466916031672733,4.266679690633917,4.428216749234369,4.928964282368103,5.016074872750925,5.20181749499353,5.021737912700669,4.286019747520783,4.457717777230906,3.9914002302575016,4.819701527747714,2.669263844505474,4.383202955652846,4.226375734345427,4.56461448928683,2.3073304218307626,6.072122970292171,4.9214081410633845,3.2156071293799413,4.398456885016141,3.9228135359207537,0.28841288437016416,4.35245063710608,4.847490456117512,3.818816231595718,3.8569557756815827,4.283942424124745,3.881837704101051,4.681543027977407,3.986472035487067,3.558481238042573,2.6580239857592907,4.5792006361097615,5.071952902993757,5.232116446613847,4.8008751811638435,4.337923997075082,2.937261379745298,2.56103054901757,4.3683414276129,5.096574046808508,4.289017951037353,4.475362999816911,3.9054100567301173,3.356590523994297,5.633941032427814,4.99749577227931,3.9691967519102724,4.9022813879849245,3.6608953075029986,3.9571782752322315,3.691586288602521,3.440439631468915,2.4028411061200945,1.8722363292725581,3.929589413393079,3.5179431972271806,4.095460181371367,4.244480109453483,3.97757186949314,4.290327815665962,5.409385688458774,3.6152461526845396,4.747529756955874,4.856047642656425,5.572557902232859,5.461115975475839,4.247372549813035,4.870346828462709,4.163444611992379,4.420742544415644,6.283454354416574,5.217912781990826,4.729936256034775,5.480486805386009,6.549169742006085,6.045502955556701,4.086419659851132,4.248929571729512,3.99718430907665,4.9910819144246075,4.31377289965743,4.6315207658431605,5.504844440092999,5.80560244009233,5.389453717461787,4.566772400870772,4.468693677340936,4.754943688681005,5.18187653044589,4.797378208174032,5.8964409314151975,5.47346263457494,4.3420302688476395,5.078254125725723,6.249121564950307,4.542868650471889,4.863657517959694,4.734343684605058,5.8644024440531695,5.8601770177624,3.996974429819881,7.1441473134817395,4.617202994592565,4.488524250828863,5.889358942618647,4.019932880669252,3.503544668734152,5.230478540197668,4.296946058288306,3.1123524355958896,4.999851688444544,3.9823103428623483,6.059635656463031,3.7619496194854,4.08713604191849,2.384771841319554,4.168568549475766,4.089993734735349,4.316521767649798,2.9426218032077123,2.198445001931092,3.1124080242468937,0.462099203092947,3.2112992112546155,6.4017818460607945,4.004548250706931,5.39665040952011,2.654297885484248,3.9929943842354096,4.325970500748098,3.5827836390798806,4.272578692461766,3.0936694586823794,2.9942075407362,3.845037036837612,2.83685698730108,2.9023029775379525,3.5324787710727956,2.2661348805864234,1.9004927698921514,3.3938886684163796,3.0133104828156068,4.684146803985027,4.22712725640749,2.2001042193417346,2.1073806846095806,5.862231744449135,6.36306320308514,3.79169280832837,0.45666592481530904,3.262014149535032,0.7313945814801932,2.872203668675277,3.152931632472031,2.0276106002566885,3.485294171408852,6.670254054152508,5.332454457802756,4.026304470654944,0.7686223509571622,2.5266352019477725,4.079610141252202,2.4153163892964895,0.9201327326975655,0.5111590072064638,2.872721506772305,3.3335492882584674,1.3710393985076523,0.40614333427347904,2.958120194098344,1.792665490738556,1.3176487369875272,0.9153226435954536,3.7284239201040372,3.4899645477845453,1.2153792209735679,1.7842735862042276,2.0363809383267264,2.6643384462057895,5.034186272095384,2.70454413820766,2.3096683627737438,2.7145840009923115,2.930877178169622,3.4365943020880287,1.7176773843018183,5.773913556756483,2.9622792949043544,0.4728242122007651,6.2478956120771505,1.3787046216136891,2.1926000404075117,2.9337107230809663,2.8408680040554826,3.609836561355066,0.7235810491381482,0.975547981323343,1.539783365738838,1.6457321923902433,3.329850221240599,2.6066326658384917,2.3916885364416642,3.607365451992672,0.9367406097263727,2.688605413358256,3.2292887620403037,1.5381477473400003,1.8601267552797278,1.804963389344598,2.319710605896315,2.8458840312778095,2.1555435848707964,2.742821946650296,3.454193107410771,3.38517207474151,4.31934307032488,4.283896214615727,3.8523185578516257,3.9220490172648224,3.9259265528282867,3.7634878173776714,3.7665208517347777,5.139142616500784,3.625279154813939,3.4822279477056077,4.236719350612879,3.1471941155532033,3.116225440773422,1.0413523033515297,0.06218785726956706,2.203220976307219,3.0688394170787787,3.3178194716805884,4.593755830034356,3.3377381812981137,2.8854124922445057,3.3276743686550074,3.825019856780842,3.519946506987799,3.655833595986211,4.005655846674993,3.585638278436758,2.9472614898717375,0.9733638954181528,6.162748990049111,3.51173303468103,2.703586325865674,2.8217059967705813,3.508333857006555,4.734786647917096,4.082516708097511,4.659549075435917,2.290068648181363,3.443675207020502,4.341735480113389,4.256482830745867,4.332132462986893,5.066018523459048,3.60855264340382,3.3167146291516643,2.0948465689146154,1.428922301258434,4.310168078125924,6.20720220601168,2.0364858336272613,2.421632016154364,4.265729429401585,2.978584292170768,4.03615590781577,10.615718649845064,0.8944271786531013,1.8297162866266445,0.0]},\"selected\":{\"id\":\"1241\"},\"selection_policy\":{\"id\":\"1242\"}},\"id\":\"1215\",\"type\":\"ColumnDataSource\"},{\"attributes\":{},\"id\":\"1238\",\"type\":\"BasicTickFormatter\"},{\"attributes\":{},\"id\":\"1198\",\"type\":\"BasicTicker\"},{\"attributes\":{},\"id\":\"1240\",\"type\":\"BasicTickFormatter\"},{\"attributes\":{},\"id\":\"1206\",\"type\":\"HelpTool\"},{\"attributes\":{\"active_drag\":\"auto\",\"active_inspect\":\"auto\",\"active_multi\":null,\"active_scroll\":\"auto\",\"active_tap\":\"auto\",\"tools\":[{\"id\":\"1201\"},{\"id\":\"1202\"},{\"id\":\"1203\"},{\"id\":\"1204\"},{\"id\":\"1205\"},{\"id\":\"1206\"}]},\"id\":\"1208\",\"type\":\"Toolbar\"},{\"attributes\":{},\"id\":\"1201\",\"type\":\"PanTool\"},{\"attributes\":{\"overlay\":{\"id\":\"1207\"}},\"id\":\"1203\",\"type\":\"BoxZoomTool\"},{\"attributes\":{},\"id\":\"1204\",\"type\":\"SaveTool\"},{\"attributes\":{},\"id\":\"1205\",\"type\":\"ResetTool\"},{\"attributes\":{\"line_alpha\":0.1,\"line_color\":\"#1f77b4\",\"line_width\":2,\"x\":{\"field\":\"x\"},\"y\":{\"field\":\"y\"}},\"id\":\"1217\",\"type\":\"Line\"},{\"attributes\":{\"line_color\":\"#1f77b4\",\"line_width\":2,\"x\":{\"field\":\"x\"},\"y\":{\"field\":\"y\"}},\"id\":\"1216\",\"type\":\"Line\"},{\"attributes\":{\"source\":{\"id\":\"1215\"}},\"id\":\"1219\",\"type\":\"CDSView\"},{\"attributes\":{},\"id\":\"1241\",\"type\":\"Selection\"},{\"attributes\":{\"data_source\":{\"id\":\"1215\"},\"glyph\":{\"id\":\"1216\"},\"hover_glyph\":null,\"muted_glyph\":null,\"nonselection_glyph\":{\"id\":\"1217\"},\"selection_glyph\":null,\"view\":{\"id\":\"1219\"}},\"id\":\"1218\",\"type\":\"GlyphRenderer\"},{\"attributes\":{},\"id\":\"1242\",\"type\":\"UnionRenderers\"},{\"attributes\":{\"bottom_units\":\"screen\",\"fill_alpha\":0.5,\"fill_color\":\"lightgrey\",\"left_units\":\"screen\",\"level\":\"overlay\",\"line_alpha\":1.0,\"line_color\":\"black\",\"line_dash\":[4,4],\"line_width\":2,\"right_units\":\"screen\",\"top_units\":\"screen\"},\"id\":\"1207\",\"type\":\"BoxAnnotation\"}],\"root_ids\":[\"1182\"]},\"title\":\"Bokeh Application\",\"version\":\"2.2.1\"}};\n",
       "  var render_items = [{\"docid\":\"adae8116-5722-409f-90c3-61cd58e76b5f\",\"root_ids\":[\"1182\"],\"roots\":{\"1182\":\"806d9b1f-ea62-4dfa-a84e-f8a63a650edc\"}}];\n",
       "  root.Bokeh.embed.embed_items_notebook(docs_json, render_items);\n",
       "\n",
       "  }\n",
       "  if (root.Bokeh !== undefined) {\n",
       "    embed_document(root);\n",
       "  } else {\n",
       "    var attempts = 0;\n",
       "    var timer = setInterval(function(root) {\n",
       "      if (root.Bokeh !== undefined) {\n",
       "        clearInterval(timer);\n",
       "        embed_document(root);\n",
       "      } else {\n",
       "        attempts++;\n",
       "        if (attempts > 100) {\n",
       "          clearInterval(timer);\n",
       "          console.log(\"Bokeh: ERROR: Unable to run BokehJS code because BokehJS library is missing\");\n",
       "        }\n",
       "      }\n",
       "    }, 10, root)\n",
       "  }\n",
       "})(window);"
      ],
      "application/vnd.bokehjs_exec.v0+json": ""
     },
     "metadata": {
      "application/vnd.bokehjs_exec.v0+json": {
       "id": "1182"
      }
     },
     "output_type": "display_data"
    }
   ],
   "source": [
    "pv = figure(title=\"Vitesse / temps\", x_axis_label='temps', y_axis_label='Vitesse (km/h)',width=800,height=300)\n",
    "pv.line([v[1] for v in vt],[v[0]*3.6 for v in vt],  line_width=2)\n",
    "show(pv)"
   ]
  },
  {
   "cell_type": "markdown",
   "metadata": {},
   "source": [
    "### Vitesse moyenne : ###"
   ]
  },
  {
   "cell_type": "code",
   "execution_count": 22,
   "metadata": {},
   "outputs": [
    {
     "name": "stdout",
     "output_type": "stream",
     "text": [
      "    3.04 km/h.\n"
     ]
    }
   ],
   "source": [
    "print(\"%8.2f\"% (3.6*distance_parcourue/(points[-1].time - points[0].time).total_seconds()),\"km/h.\")"
   ]
  },
  {
   "cell_type": "markdown",
   "metadata": {},
   "source": [
    "Vitesse en fonction de la déclivité"
   ]
  },
  {
   "cell_type": "code",
   "execution_count": 23,
   "metadata": {},
   "outputs": [
    {
     "data": {
      "text/html": [
       "\n",
       "\n",
       "\n",
       "\n",
       "\n",
       "\n",
       "  <div class=\"bk-root\" id=\"ea1b5795-4e36-4dde-9cce-8689f1f5c79e\" data-root-id=\"1284\"></div>\n"
      ]
     },
     "metadata": {},
     "output_type": "display_data"
    },
    {
     "data": {
      "application/javascript": [
       "(function(root) {\n",
       "  function embed_document(root) {\n",
       "    \n",
       "  var docs_json = {\"8ee65783-a0bc-42b6-a2e5-08b2bab3ed29\":{\"roots\":{\"references\":[{\"attributes\":{\"below\":[{\"id\":\"1295\"}],\"center\":[{\"id\":\"1298\"},{\"id\":\"1302\"}],\"left\":[{\"id\":\"1299\"}],\"plot_height\":300,\"plot_width\":800,\"renderers\":[{\"id\":\"1320\"}],\"title\":{\"id\":\"1285\"},\"toolbar\":{\"id\":\"1310\"},\"x_range\":{\"id\":\"1287\"},\"x_scale\":{\"id\":\"1291\"},\"y_range\":{\"id\":\"1289\"},\"y_scale\":{\"id\":\"1293\"}},\"id\":\"1284\",\"subtype\":\"Figure\",\"type\":\"Plot\"},{\"attributes\":{},\"id\":\"1300\",\"type\":\"BasicTicker\"},{\"attributes\":{\"axis_label\":\"Vitesse (km/h)\",\"formatter\":{\"id\":\"1350\"},\"ticker\":{\"id\":\"1300\"}},\"id\":\"1299\",\"type\":\"LinearAxis\"},{\"attributes\":{},\"id\":\"1293\",\"type\":\"LinearScale\"},{\"attributes\":{},\"id\":\"1289\",\"type\":\"DataRange1d\"},{\"attributes\":{\"bottom_units\":\"screen\",\"fill_alpha\":0.5,\"fill_color\":\"lightgrey\",\"left_units\":\"screen\",\"level\":\"overlay\",\"line_alpha\":1.0,\"line_color\":\"black\",\"line_dash\":[4,4],\"line_width\":2,\"right_units\":\"screen\",\"top_units\":\"screen\"},\"id\":\"1309\",\"type\":\"BoxAnnotation\"},{\"attributes\":{},\"id\":\"1287\",\"type\":\"DataRange1d\"},{\"attributes\":{},\"id\":\"1348\",\"type\":\"BasicTickFormatter\"},{\"attributes\":{\"active_drag\":\"auto\",\"active_inspect\":\"auto\",\"active_multi\":null,\"active_scroll\":\"auto\",\"active_tap\":\"auto\",\"tools\":[{\"id\":\"1303\"},{\"id\":\"1304\"},{\"id\":\"1305\"},{\"id\":\"1306\"},{\"id\":\"1307\"},{\"id\":\"1308\"}]},\"id\":\"1310\",\"type\":\"Toolbar\"},{\"attributes\":{\"data\":{\"x\":[4.139999999999873,1.8700000000001182,5.829999999999927,4.839999999999918,1.9100000000000819,-1.9600000000000364,-7.2999999999999545,-2.3199999999999363,-3.3200000000001637,-4.490000000000009,1.2200000000000273,2.380000000000109,3.7200000000000273,3.5,6.9099999999998545,0.9700000000000273,-3.0499999999999545,-2.3299999999999272,-6.720000000000027,-0.6000000000001364,-2.589999999999918,0.09999999999990905,3.4200000000000728,1.8099999999999454,0.790000000000191,1.6599999999998545,-0.009999999999990905,0.01999999999998181,3.8700000000001182,0.8699999999998909,0.31999999999993634,-0.709999999999809,0.6899999999998272,1.75,-0.07999999999992724,3.3700000000001182,-0.020000000000209184,-1.5399999999999636,-0.1899999999998272,2.9099999999998545,1.3700000000001182,-1.0,-0.75,-0.060000000000172804,-2.7899999999999636,6.210000000000036,3.4500000000000455,-0.5399999999999636,0.7300000000000182,-0.7699999999999818,-0.44000000000005457,-1.6400000000001,2.490000000000009,2.5399999999999636,-0.4800000000000182,2.410000000000082,2.240000000000009,1.4600000000000364,2.0399999999999636,4.370000000000118,-0.9800000000000182,-0.75,3.5399999999999636,3.2000000000000455,-3.040000000000191,-2.229999999999791,-1.5100000000002183,-3.619999999999891,-3.259999999999991,-1.1400000000001,3.650000000000091,1.4500000000000455,1.1900000000000546,0.8999999999998636,2.0,2.2200000000000273,-1.740000000000009,-2.740000000000009,3.3700000000001182,2.349999999999909,-4.7000000000000455,2.380000000000109,1.740000000000009,0.9499999999998181,1.2800000000002,0.33999999999991815,-3.8700000000001182,2.2100000000000364,2.310000000000173,-0.14000000000010004,3.5599999999999454,1.9100000000000819,1.6099999999999,1.7899999999999636,-0.4099999999998545,0.4800000000000182,0.16999999999984539,-2.490000000000009,-0.33999999999991815,-0.8999999999998636,0.38999999999987267,3.490000000000009,0.16000000000008185,-0.9700000000000273,0.2300000000000182,0.35999999999989996,-0.8199999999999363,-0.6800000000000637,2.1100000000001273,4.8599999999999,3.339999999999918,2.910000000000082,-1.7300000000000182,2.230000000000018,1.5499999999999545,-2.2799999999999727,-2.2899999999999636,-0.049999999999954525,2.3799999999998818,0.8100000000001728,0.25,-0.3500000000001364,2.9500000000000455,0.8299999999999272,1.5,1.0700000000001637,1.0199999999999818,-1.4600000000000364,0.36999999999989086,4.3900000000001,-1.7100000000000364,-3.089999999999918,-4.5900000000001455,-1.2000000000000455,-1.3899999999998727,-2.5399999999999636,-6.580000000000155,-3.009999999999991,-5.169999999999845,-0.41000000000008185,0.5299999999999727,3.3600000000001273,1.5,3.3099999999999454,4.619999999999891,2.9600000000000364,-0.8099999999999454,-0.5699999999999363,2.1399999999998727,5.8400000000001455,4.519999999999982,4.709999999999809,1.990000000000009,2.5700000000001637,2.25,3.9299999999998363,0.9800000000000182,-5.439999999999827,0.049999999999954525,-1.6700000000000728,-0.30999999999994543,0.16000000000008185,2.209999999999809,-0.5699999999999363,-0.5799999999999272,-0.22000000000002728,2.2100000000000364,0.4299999999998363,2.8600000000001273,-0.12000000000011823,0.5600000000001728,1.6099999999999,0.15000000000009095,2.2200000000000273,-1.4200000000000728,-3.2100000000000364,-2.589999999999918,-0.650000000000091,-1.400000000000091,-3.089999999999918,-4.180000000000064,-3.0,-0.1999999999998181,-1.3100000000001728,-0.25,2.3200000000001637,6.679999999999836,2.259999999999991,-0.8999999999998636,2.0599999999999454,-0.7699999999999818,0.17000000000007276,0.8299999999999272,-3.6099999999999,2.75,6.779999999999973,7.490000000000009,5.129999999999882,1.8399999999999181,-1.0299999999999727,-1.1799999999998363,-2.6100000000001273,-2.1800000000000637,-2.7999999999999545,-5.089999999999918,-4.4500000000000455,-4.319999999999936,-0.17000000000007276,-1.4500000000000455,-3.740000000000009,0.060000000000172804,-0.14000000000010004,-0.6199999999998909,-0.75,0.4199999999998454,0.5099999999999909,-0.11999999999989086,1.1700000000000728,5.039999999999964,4.149999999999864,2.5700000000001637,-2.3600000000001273,-1.009999999999991,1.4400000000000546,2.349999999999909,-0.849999999999909,-1.4100000000000819,-1.0499999999999545,-1.7799999999999727,-1.2200000000000273,-3.1700000000000728,-2.7899999999999636,-3.2200000000000273,-4.679999999999836,-2.25,-2.4400000000000546,2.3899999999998727,1.9800000000000182,0.0,-0.009999999999990905,-2.1099999999999,-1.1100000000001273,0.17000000000007276,2.990000000000009,3.5499999999999545,5.190000000000055,5.470000000000027,1.0699999999999363,0.7000000000000455,-0.08999999999991815,-0.0500000000001819,-0.01999999999998181,0.8100000000001728,0.03999999999996362,-3.019999999999982,-1.2200000000000273,-8.710000000000036,-7.440000000000055,0.03999999999996362,0.650000000000091,3.759999999999991,0.06999999999993634,-3.3799999999998818,-4.1400000000001,-7.329999999999927,-2.1800000000000637,0.049999999999954525,2.009999999999991,1.0600000000001728,1.009999999999991,-0.5500000000001819,0.4700000000000273,-0.9900000000000091,-1.8599999999999,-3.7000000000000455,-1.759999999999991,-3.990000000000009,-1.509999999999991,-4.690000000000055,-4.619999999999891,-6.779999999999973,-1.8200000000001637,-2.5699999999999363,-0.5599999999999454,-1.7899999999999636,-3.009999999999991,-3.3600000000001273,-3.8199999999999363,-2.0599999999999454,-0.6300000000001091,-2.3599999999999,-3.660000000000082,0.41000000000008185,-1.7300000000000182,0.6800000000000637,0.7799999999999727,-5.529999999999973,1.759999999999991,2.339999999999918,-0.21000000000003638,-1.6199999999998909,-1.0700000000001637,-1.9700000000000273,-0.22999999999979082,-0.4700000000000273,-0.4800000000000182,-0.37000000000011823,-1.7699999999999818,-1.5899999999999181,-0.20000000000004547,0.01999999999998181,0.05999999999994543,-0.05999999999994543,0.4900000000000091,-0.09999999999990905,-0.060000000000172804,0.6000000000001364,-0.5199999999999818,-0.7000000000000455,-1.9800000000000182,-1.2000000000000455,-2.2799999999999727,-2.230000000000018,-1.2699999999999818,-2.490000000000009,-1.0499999999999545,0.33999999999991815,-0.6999999999998181,-1.5900000000001455,-2.5599999999999454,-2.6200000000001182,-1.2299999999997908,2.869999999999891,1.400000000000091,0.2199999999997999,-0.6399999999998727,-2.490000000000009,-1.740000000000009,-0.25,-0.7699999999999818,1.0699999999999363,0.900000000000091,0.8699999999998909,-0.38999999999987267,-0.5800000000001546,-0.009999999999990905,2.0700000000001637,-0.6200000000001182,-2.6299999999998818,-1.3600000000001273,-1.1599999999998545,-0.5600000000001728,-0.06999999999993634,-0.2599999999999909,-0.41000000000008185,-2.6699999999998454,-4.690000000000055,-4.019999999999982,-1.900000000000091,-2.75,-0.5199999999999818,0.9700000000000273,0.9200000000000728,0.8599999999999,0.25,0.20000000000004547,-1.3099999999999454,-0.08000000000015461,0.6100000000001273,2.4200000000000728,1.2899999999999636,-1.900000000000091,-0.5,-1.8899999999998727,-2.0700000000001637,-3.1900000000000546,-2.8099999999999454,-0.7799999999999727,-1.5799999999999272,-1.1400000000001,-1.1099999999999,1.5699999999999363,1.5799999999999272,0.3000000000001819,-0.8300000000001546,-0.5799999999999272,0.18000000000006366,0.07999999999992724,-0.40000000000009095,-0.4199999999998454,-0.37000000000011823,-0.6299999999998818,-0.6200000000001182,-1.8799999999998818,-1.8400000000001455,-2.3199999999999363,-0.6399999999998727,-0.9600000000000364,-0.8000000000001819,-0.9299999999998363,-0.39000000000010004,-0.7000000000000455,-1.1699999999998454,-0.7699999999999818,0.16999999999984539,-1.75,-2.0499999999999545,-2.099999999999909,-1.0900000000001455,1.0900000000001455,1.8999999999998636,0.9300000000000637,0.14000000000010004,-1.150000000000091,-2.2000000000000455,-0.4099999999998545,0.5099999999999909,1.1099999999999,3.0499999999999545,-0.16999999999984539,-0.4800000000000182,-0.3300000000001546,-1.3099999999999454,-0.9500000000000455,-3.519999999999982,-1.9700000000000273,-0.4099999999998545,-0.6000000000001364,-3.5,-3.869999999999891,-2.4500000000000455,-0.8099999999999454,0.5399999999999636,0.5799999999999272,0.2400000000000091,-3.1299999999998818,-2.740000000000009,-2.269999999999982,1.3399999999999181,0.6099999999999,-0.009999999999990905,-0.2199999999997999,-4.0,-1.5800000000001546,-0.8899999999998727,0.03999999999996362,2.1599999999998545,0.8000000000001819,-0.9100000000000819,-1.0799999999999272,-0.6900000000000546,-1.0199999999999818,-1.2799999999999727,1.9800000000000182,1.4199999999998454,0.12000000000011823,1.2100000000000364,-0.41000000000008185,-0.44000000000005457,-0.09999999999990905,-0.6000000000001364,0.5900000000001455,-0.049999999999954525,-2.009999999999991,-2.1400000000001,-0.900000000000091,-2.0399999999999636,-0.33999999999991815,-2.730000000000018,-3.2799999999999727,-2.5900000000001455,-0.07999999999992724,0.9800000000000182,-1.7200000000000273,-0.599999999999909,-2.8900000000001,-1.9400000000000546,-1.3999999999998636,-2.8700000000001182,-1.5499999999999545,-0.8299999999999272,-0.05999999999994543,0.9700000000000273,0.09999999999990905,-2.3099999999999454,-3.2000000000000455,-1.3099999999999454,-1.740000000000009,-1.6300000000001091,0.30999999999994543,-0.8299999999999272,-1.3099999999999454,0.4500000000000455,-1.1600000000000819,-1.8199999999999363,-0.41000000000008185,-1.8699999999998909,0.03999999999996362,-0.5599999999999454,-0.6300000000001091,-1.9300000000000637,-1.4800000000000182,-1.7799999999999727,-0.5299999999999727,-0.9500000000000455,-0.8199999999999363,-0.2699999999999818,-0.32999999999992724,-1.400000000000091,-3.5799999999999272,-0.7400000000000091,-1.0399999999999636,-0.9100000000000819,0.4900000000000091,-1.1700000000000728,-2.6299999999998818,-1.009999999999991,-1.509999999999991,-1.0,-1.7699999999999818,-0.3400000000001455,-1.5699999999999363,-0.20000000000004547,-1.3999999999998636,-2.310000000000173,-0.4900000000000091,1.2300000000000182,-1.740000000000009,-1.7999999999999545,0.31999999999993634,1.1800000000000637,-1.6299999999998818,-0.540000000000191,0.10000000000013642,0.06999999999993634,-0.7999999999999545,-1.8299999999999272,-0.040000000000190994,-0.9299999999998363,-1.300000000000182,-0.8999999999998636,-2.400000000000091,-1.6099999999999,-0.01999999999998181,2.009999999999991,-0.37000000000011823,-1.2799999999999727,-1.0299999999999727,-1.3699999999998909,-0.3300000000001546,-0.009999999999990905,-0.36999999999989086,-2.1000000000001364,-1.7999999999999545,0.01999999999998181,-0.01999999999998181,-0.17000000000007276,-1.6599999999998545,-2.1000000000001364,-1.8599999999999,-2.900000000000091,-3.2999999999999545,-1.1199999999998909,0.4399999999998272,-0.15999999999985448,-1.4200000000000728,-1.5799999999999272,-1.240000000000009,-0.7100000000000364,-0.6600000000000819,-0.8699999999998909,-0.6400000000001,0.10000000000013642,-0.2999999999999545,-1.1900000000000546,-2.5299999999999727,-0.9300000000000637,0.9200000000000728,-0.01999999999998181,-0.5099999999999909,-0.9900000000000091,-0.41000000000008185,-2.259999999999991,-1.900000000000091,-1.2200000000000273,-1.1099999999999,-1.4500000000000455,-0.30999999999994543,-0.6700000000000728,-0.75,-0.5499999999999545,0.06999999999993634,-0.6399999999998727,0.22000000000002728,0.5799999999999272,-0.33999999999991815,-1.790000000000191,0.09000000000014552,0.43000000000006366,0.09999999999990905,0.34999999999990905,-0.1799999999998363,-0.5099999999999909,0.12999999999988177,-0.7200000000000273,-0.37999999999988177,-0.009999999999990905,-2.1800000000000637,-2.400000000000091,-2.0399999999999636,-2.769999999999982,-0.2999999999999545,0.19000000000005457,-1.9200000000000728,-0.9900000000000091,-0.22000000000002728,0.30999999999994543,0.20000000000004547,1.4100000000000819,0.6699999999998454,-0.029999999999972715,-0.8099999999999454,-0.12999999999988177,-0.16000000000008185,-0.6200000000001182,0.6400000000001,-1.009999999999991,-1.5599999999999454,-1.3700000000001182,-0.38999999999987267,-1.8200000000001637,-2.1099999999999,0.0,-0.33999999999991815,0.2400000000000091,0.14999999999986358,-0.2599999999999909,-0.8399999999999181,-0.8500000000001364,0.3200000000001637,-2.7100000000000364,-3.4500000000000455,0.2599999999999909,-0.7300000000000182,-1.4099999999998545,-1.8200000000001637,-1.9400000000000546,-0.25,-2.7999999999999545,-0.15999999999985448,0.16999999999984539,-0.7799999999999727,-1.509999999999991,-0.4600000000000364,0.6700000000000728,-0.7300000000000182,-2.480000000000018,-1.4800000000000182,-0.01999999999998181,1.9200000000000728,-0.5699999999999363,-1.4400000000000546,-1.8500000000001364,-1.6099999999999,-1.0399999999999636,-0.6300000000001091,-0.21000000000003638,-1.599999999999909,-0.5399999999999636,0.2699999999999818,-0.8900000000001,-1.3799999999998818,-0.7300000000000182,-0.5599999999999454,-1.75,-1.2300000000000182,-1.6300000000001091,0.009999999999990905,-1.1399999999998727,-0.4500000000000455,0.9300000000000637,-0.42000000000007276,0.09999999999990905,-0.849999999999909,-1.8299999999999272,-1.6100000000001273,-1.0,-0.13999999999987267,-0.5299999999999727,-1.8100000000001728,0.4800000000000182,-2.4299999999998363,-4.120000000000118,-0.25,-0.07999999999992724,-0.7100000000000364,-1.150000000000091,-0.6799999999998363,-0.060000000000172804,-0.14999999999986358,-1.8200000000001637,-2.2199999999998,-0.6100000000001273,-1.25,-0.6399999999998727,-1.2200000000000273,-3.0700000000001637,0.25,0.3000000000001819,0.8299999999999272,-0.8399999999999181,-2.910000000000082,-1.0399999999999636,0.14999999999986358,0.8700000000001182,1.0199999999999818,-1.5,-0.049999999999954525,0.03999999999996362,-0.36000000000012733,-0.31999999999993634,0.09000000000014552,0.2899999999999636,0.5399999999999636,1.0,0.37999999999988177,1.4500000000000455,-0.25,-0.4800000000000182,-0.7200000000000273,-0.07999999999992724,0.19000000000005457,0.6199999999998909,-0.4800000000000182,0.3000000000001819,0.4199999999998454,0.21000000000003638,0.41000000000008185,2.519999999999982,-1.5399999999999636,1.240000000000009,0.75,1.2699999999999818,0.5799999999999272,2.099999999999909,0.5500000000001819,-0.2699999999999818,-0.010000000000218279,-0.6399999999998727,-1.1200000000001182,-0.08999999999991815,-0.75,-0.16000000000008185,-1.1299999999998818,1.0799999999999272,1.240000000000009,-1.1800000000000637,2.150000000000091,4.839999999999918,-0.209999999999809,-0.9500000000000455,0.12999999999988177,0.2300000000000182,-0.8899999999998727,0.03999999999996362,-0.2799999999999727,-0.22000000000002728,-0.7799999999999727,0.2400000000000091,0.6499999999998636,0.650000000000091,2.009999999999991,2.650000000000091,2.2899999999999636,1.2300000000000182,1.5,1.3699999999998909,1.9200000000000728,2.769999999999982,2.259999999999991,1.8399999999999181,1.3700000000001182,0.33999999999991815,-1.8699999999998909,-0.9600000000000364,-0.5700000000001637,0.15000000000009095,0.5299999999999727,-0.15999999999985448,1.8599999999999,3.7200000000000273,3.349999999999909,0.8100000000001728,0.14999999999986358,-0.20000000000004547,-0.32999999999992724,-1.6199999999998909,1.099999999999909,0.5399999999999636,0.44000000000005457,0.2899999999999636,2.089999999999918,-0.7799999999999727,-0.4600000000000364,1.3100000000001728,4.429999999999836,2.4200000000000728,0.9800000000000182,1.3799999999998818,3.1200000000001182,1.599999999999909,2.259999999999991,1.0600000000001728,0.2899999999999636,1.7699999999999818,0.7699999999999818,0.41000000000008185,1.8999999999998636,2.0399999999999636,2.1200000000001182,2.4700000000000273,1.0399999999999636,1.3899999999998727,0.2400000000000091,0.8800000000001091,0.0,0.25,1.1099999999999,1.6600000000000819,1.3199999999999363,-1.9500000000000455,-1.199999999999818,1.0,0.35999999999989996,1.3399999999999181,1.2200000000000273,1.8600000000001273,0.9800000000000182,1.6099999999999,5.110000000000127,4.349999999999909,1.3199999999999363,-0.09999999999990905,-1.2999999999999545,0.1799999999998363,1.4700000000000273,0.6600000000000819,-0.34999999999990905,-0.7300000000000182,0.459999999999809,-0.9299999999998363,0.14999999999986358,0.8000000000001819,1.4099999999998545,1.6400000000001,0.4299999999998363,1.8300000000001546,4.0,1.1499999999998636,0.43000000000006366,-0.06999999999993634,-0.4600000000000364,-3.259999999999991,-0.38000000000010914,2.6200000000001182,2.1900000000000546,0.7400000000000091,2.4299999999998363,1.3200000000001637,0.459999999999809,2.8600000000001273,2.349999999999909,1.6700000000000728,2.869999999999891,0.3100000000001728,3.3999999999998636,1.0199999999999818,0.040000000000190994,0.9299999999998363,1.3700000000001182,2.1099999999999,-0.17000000000007276,-0.4299999999998363,0.9199999999998454,1.7000000000000455,2.6000000000001364,0.459999999999809,1.2300000000000182,3.9600000000000364,1.009999999999991,1.3400000000001455,-0.900000000000091,1.4300000000000637,1.6499999999998636,1.400000000000091,0.9900000000000091,-0.12000000000011823,-0.05999999999994543,-3.3099999999999454,-1.9300000000000637,0.5599999999999454,2.540000000000191,0.6599999999998545,2.400000000000091,4.2999999999999545,2.5399999999999636,3.5900000000001455,2.8099999999999454,2.369999999999891,0.7100000000000364,-0.6900000000000546,0.6800000000000637,0.5399999999999636,2.8400000000001455,2.9199999999998454,2.009999999999991,3.560000000000173,0.4800000000000182,-0.08000000000015461,0.43000000000006366,3.150000000000091,0.07999999999992724,-0.2699999999999818,1.1599999999998545,1.5700000000001637,0.5499999999999545,0.7400000000000091,1.5,2.7100000000000364,4.329999999999927,2.880000000000109,1.7299999999997908,2.1700000000000728,1.9100000000000819,3.2100000000000364,2.1499999999998636,1.5199999999999818,1.3500000000001364,-0.8000000000001819,0.7400000000000091,0.38000000000010914,0.2400000000000091,0.7300000000000182,2.8999999999998636,3.660000000000082,-1.3699999999998909,0.2799999999999727,1.4199999999998454,-0.4299999999998363,-3.410000000000082,0.21000000000003638,1.1700000000000728,0.25,2.7199999999998,2.2800000000002,1.449999999999818,-0.4900000000000091,-1.1699999999998454,-0.3300000000001546,1.2000000000000455,-1.0599999999999454,-1.259999999999991,0.5299999999999727,2.0799999999999272,1.0800000000001546,-1.8500000000001364,-0.32999999999992724,0.36999999999989086,5.0300000000002,3.2199999999998,0.790000000000191,2.7199999999998,6.170000000000073,4.7999999999999545,1.5800000000001546,1.6099999999999,2.0399999999999636,0.2599999999999909,-0.2300000000000182,0.6300000000001091,1.4800000000000182,0.4500000000000455,-0.7400000000000091,1.2999999999999545,-0.2300000000000182,-1.1900000000000546,-1.5499999999999545,-2.9300000000000637,-1.4199999999998454,1.3199999999999363,0.9100000000000819,-1.3500000000001364,0.5099999999999909,5.430000000000064,5.980000000000018,4.309999999999945,5.349999999999909,1.8500000000001364,2.619999999999891,1.25,1.8900000000001,0.33999999999991815,1.2899999999999636,0.8900000000001,-2.599999999999909,-3.4300000000000637,-4.220000000000027,-4.400000000000091,-2.2200000000000273,2.230000000000018,1.6700000000000728,2.75,0.7300000000000182,2.2200000000000273,2.3899999999998727,1.5900000000001455,2.8199999999999363,2.380000000000109,4.929999999999836,5.769999999999982,4.190000000000055,0.650000000000091,2.0699999999999363,1.9400000000000546,0.8999999999998636,0.09000000000014552,-0.8200000000001637,0.6000000000001364,1.25,-0.2300000000000182,1.0699999999999363,0.3300000000001546,2.589999999999918,-0.37000000000011823,0.3300000000001546,1.1799999999998363,2.040000000000191,3.0799999999999272,2.5799999999999272,2.650000000000091,0.8199999999999363,2.2899999999999636,2.900000000000091,0.6800000000000637,-1.1400000000001,-0.16000000000008185,-0.8999999999998636,-1.9300000000000637,-1.0299999999999727,-0.7100000000000364,-0.5499999999999545,0.43000000000006366,-1.1000000000001364,-1.6899999999998272,0.4099999999998545,0.41000000000008185,2.009999999999991,5.319999999999936,4.120000000000118,2.1799999999998363,2.9300000000000637,2.900000000000091,0.959999999999809,2.020000000000209,-4.170000000000073,0.5799999999999272,3.7899999999999636,6.240000000000009,4.3400000000001455,0.009999999999990905,0.5499999999999545,3.0299999999999727,-0.5099999999999909,1.9200000000000728,1.4399999999998272,0.3100000000001728,0.8999999999998636,0.6400000000001,-0.2799999999999727,0.6699999999998454,1.8700000000001182,1.1399999999998727,1.6200000000001182,1.5,1.4300000000000637,0.7400000000000091,0.2899999999999636,1.9099999999998545,0.5500000000001819,-0.8100000000001728,-0.32999999999992724,0.7699999999999818,1.4400000000000546,0.849999999999909,2.4700000000000273,1.6300000000001091,0.8699999999998909,0.41000000000008185,-0.05999999999994543,0.7599999999999909,-1.0199999999999818,-0.22000000000002728,-1.1000000000001364,-1.6199999999998909,0.6099999999999,0.38000000000010914,1.0,5.210000000000036,2.479999999999791,1.8800000000001091,-0.6300000000001091,2.6800000000000637,4.430000000000064,-0.5299999999999727,-2.910000000000082,0.42000000000007276,1.2100000000000364,1.199999999999818,2.4700000000000273,2.550000000000182,-0.2400000000000091,-1.3900000000001,-0.9100000000000819,2.060000000000173,2.9099999999998545,-1.7999999999999545,0.2599999999999909,1.5399999999999636,-1.0,2.6000000000001364,0.33999999999991815,-0.599999999999909,-2.6900000000000546,0.009999999999990905,1.8099999999999454,-0.009999999999990905,-0.75,-2.9200000000000728,4.240000000000009,2.6700000000000728,2.599999999999909,4.460000000000036,-0.5399999999999636,-0.05999999999994543,1.2300000000000182,2.480000000000018,5.259999999999991,3.490000000000009,2.4500000000000455,0.2799999999999727,-1.1200000000001182,0.049999999999954525,-1.6899999999998272,-2.3300000000001546,-0.5699999999999363,-0.5499999999999545,-1.400000000000091,-0.30999999999994543,1.5899999999999181,2.5,3.1900000000000546,1.5499999999999545,-1.1699999999998454,-0.42000000000007276,2.6400000000001,0.2799999999999727,2.3799999999998818,4.75,0.8700000000001182,-1.3800000000001091,-1.1700000000000728,-2.769999999999982,-1.349999999999909,2.3900000000001,0.13999999999987267,1.0599999999999454,-2.5299999999999727,-3.9600000000000364,-0.5699999999999363,-1.8099999999999454,-0.41000000000008185,-1.0399999999999636,-4.759999999999991,-2.019999999999982,-0.34999999999990905,-4.120000000000118,-0.5799999999999272,1.1699999999998454,-2.8799999999998818,-0.9300000000000637,0.009999999999990905,1.259999999999991,-0.22000000000002728,0.8000000000001819,2.519999999999982,0.7200000000000273,-1.1800000000000637,-1.490000000000009,-0.38000000000010914,-1.9199999999998454,0.11999999999989086,0.38000000000010914,-0.6200000000001182,-0.5399999999999636,-0.8399999999999181,-1.2200000000000273,3.4299999999998363,1.2800000000002,0.1899999999998272,-0.209999999999809,-1.050000000000182,0.8100000000001728,-1.0900000000001455,-2.0499999999999545,-1.6300000000001091,-1.4099999999998545,-2.2000000000000455,-0.7100000000000364,-0.6199999999998909,0.33999999999991815,-1.1900000000000546,0.7699999999999818,-0.6699999999998454,-0.42000000000007276,-2.3799999999998818,-2.520000000000209,-1.7999999999999545,-0.25,-0.8999999999998636,-0.3000000000001819,-0.4699999999997999,-0.3500000000001364,0.2799999999999727,0.08000000000015461,-3.0900000000001455,2.6700000000000728,-0.32999999999992724,-0.14000000000010004,-1.5,2.2899999999999636,1.9200000000000728,1.1900000000000546,-0.8800000000001091,-4.160000000000082,-4.089999999999918,0.5399999999999636,0.14000000000010004,-0.9900000000000091,-1.8600000000001273,-1.349999999999909,-0.5399999999999636,-4.470000000000027,-3.369999999999891,-1.1700000000000728,-0.13000000000010914,-1.1499999999998636,-0.5,-1.990000000000009,-0.2999999999999545,-0.37000000000011823,-0.9700000000000273,0.15000000000009095,-1.5699999999999363,-0.03000000000020009,-0.2999999999999545,-0.4099999999998545,-0.09000000000014552,-1.5399999999999636,-0.4500000000000455,-2.259999999999991,-1.2000000000000455,0.7100000000000364,-1.1199999999998909,-0.5,-1.2699999999999818,-2.259999999999991,-0.9600000000000364,-0.31999999999993634,-0.8400000000001455,-1.5499999999999545,-0.10999999999989996,0.33999999999991815,-1.6000000000001364,0.5500000000001819,-2.160000000000082,-0.9400000000000546,-2.0399999999999636,-2.6099999999999,-1.8100000000001728,5.070000000000164,0.38999999999987267,-2.509999999999991,-2.619999999999891,-3.130000000000109,-2.6900000000000546,-2.1699999999998454,0.07999999999992724,1.75,1.4800000000000182,-0.9500000000000455,-6.720000000000027,-1.9800000000000182,-3.229999999999791,-0.7600000000002183,3.660000000000082,3.0699999999999363,-0.6399999999998727,0.11999999999989086,0.5099999999999909,-1.7799999999999727,0.15000000000009095,3.119999999999891,0.8300000000001546,-0.9500000000000455,-0.09000000000014552,0.43000000000006366,1.7999999999999545,0.9200000000000728,-0.4600000000000364,0.22000000000002728,-0.6399999999998727,1.0,1.4299999999998363,-0.9500000000000455,0.44000000000005457,-1.6599999999998545,-1.5900000000001455,0.6900000000000546,-1.2300000000000182,5.529999999999973,2.1000000000001364,-2.009999999999991,0.2199999999997999,-2.2199999999998,-2.160000000000082,-1.8399999999999181,-0.75,0.2899999999999636,0.2699999999999818,1.1599999999998545,0.9300000000000637,1.2200000000000273,-0.16000000000008185,-1.849999999999909,0.20000000000004547,0.3999999999998636,1.7000000000000455,1.7100000000000364,1.3599999999999,-1.6199999999998909,0.0],\"y\":[4.538755578352124,4.228787160952702,8.061013043053492,7.894443130394357,1.9294389360642028,2.725242759140564,6.9357617331164745,6.054910543013737,5.837990491572004,2.1733753090611314,5.127863679302153,2.195810836819545,3.045436010538031,1.9400706948714503,6.795355166038536,6.2819165413703155,3.386177962624711,3.629593211112028,3.064955587335146,0.4064983530384508,3.1423571567605526,2.98426773897588,2.54107748784011,2.648677085408256,3.893842882671946,3.942411155925906,4.7441703221985465,3.2915285732521635,1.7261646327232478,3.6227176829914463,7.844471662168552,4.662663184886759,4.966914294301779,4.13829544105952,3.2969624888438065,4.239999615719008,4.460536415455524,4.215059044652807,1.6475141059175633,3.0821675700627598,3.3454254859777977,4.861863082980478,4.656306598366391,5.01557394027403,4.670460725680734,3.5651318145213065,2.5520294002538493,5.087786955433628,5.59188267146475,4.3401761505632726,4.845831599737588,4.370165896842984,4.475132339110976,4.794650438608032,4.671110989457801,1.9542786224324626,4.634575390347342,4.106573815948681,5.576421869592196,5.012001045384607,1.4387178545631427,0.94603252582089,3.4791062510113497,4.135507806019615,6.551363814862823,4.73773995305531,5.787973500508303,15.54048628829971,1.2424887145207677,5.666555860458944,3.993290426322086,4.0690431880378775,2.084002812649036,1.2275086981284697,1.2238595301717377,0.9816670041326975,3.1692612655183567,2.635360084155825,4.5289230341338715,4.386974726688863,2.7490544938699975,8.439768524433301,1.358667268957129,1.6481836776671959,4.702739067766764,3.498326702511072,3.114897519684026,4.828761994239634,2.0176511170967544,0.7643632596873036,6.278732863845406,4.932972680221035,2.0628274434509954,2.81873115202874,3.521843766033019,3.478091314475579,3.7916170642555977,4.805128858777288,1.9549805756340726,2.197982523747801,0.7232613588747168,7.700731857294353,3.423888484878614,1.9882994276607238,3.8583084495885225,3.7174216355657617,3.9175157464702286,6.693399111875737,3.9222734589431987,5.2465400980364265,4.8445768094703645,4.999250733451193,4.557913922598462,4.717625943540722,4.34965996999622,4.781681597974361,4.6894700114383605,3.6677899088385324,3.0435148700638543,4.1736848383635765,4.216912641904617,3.6563341003459233,3.8129692983396377,4.886906156633352,4.56238322478121,4.432761572069929,3.45223746240564,3.219162475983943,3.9149312413152777,3.4526338447008786,3.222958348618764,3.8942089614680007,4.378364567907102,4.752974787565239,3.7012968779476876,4.1251296247483085,5.448353470679903,3.8520610568429188,4.705896005136699,4.215375627006235,0.7955972178619116,2.3624091149038997,4.768794800304497,3.8832336763089073,3.8378511800625863,4.188390819926995,3.468347326696887,5.026397849613159,5.526783208508035,6.072609034143691,4.047611804069433,4.158907717146057,4.013333151053048,4.651356747564332,5.225810843056572,5.678320943712676,3.830790750108054,4.695705095170494,0.21329531673749105,0.7896191961240497,0.07201665990761201,0.16205992487309664,5.034654079673493,0.8638378021039193,0.6706544524713641,0.3388073500569887,1.3398171450613092,0.3856666031748408,3.9783387910323738,3.9401296106379413,2.434937474254376,5.9137986327150625,6.322335719554408,3.642731171464986,4.753700969653578,4.244725708774874,4.849453318740859,5.303664143870078,3.992085232736312,5.649766857226805,4.681342664630115,5.3139410661405675,4.737047274442976,4.595038452166859,5.33433403585489,4.270582380149084,5.2925501993181685,5.497349032192691,4.477980337233579,4.805437922716909,5.290725039094901,4.910065185613411,4.081630456034644,5.3767900139638245,5.350232156659924,6.390640559637812,4.079820147790017,4.55550438478322,1.0816517085058777,1.1560987346195613,1.469752847636843,5.525144178323394,4.206786334100218,3.94504459388097,5.609976749478281,4.69696077017809,5.615186663062113,3.82555289345322,4.316707537046731,5.109713566845762,4.790867450687322,3.6574477878608858,0.6580218978916054,1.5810954452574435,3.8157872704792704,5.137215674602863,3.903135869514725,4.829958501818542,4.494618547600493,4.231387624071626,4.956697669858649,3.542749947331403,4.81094326740374,4.325786494487166,4.208878743380756,4.1504970955102545,3.636371078687094,2.866173408214356,3.6211548627634635,4.1759607169620105,3.812400823647243,4.29878316691401,4.1250713887645984,4.815979818977598,3.958300995420997,3.6091903354998283,2.076322409189453,3.3465866996538716,0.7213997288849004,0.028793807415848197,3.946066073544872,3.743617925666288,1.8562073768584735,2.47899021189454,2.6349854253829066,4.720206075307557,4.869362958007408,1.8460395484129022,0.9960439112543875,0.8623471908421916,0.5378796426132072,1.0522274851202646,5.103072089031032,1.5873256237141684,2.2773417230779285,1.1503693364237677,4.247918753431792,3.624779117676879,0.16361846821330553,2.8980989514406064,1.7456509851037572,1.9332266047340836,2.619309040901974,2.5512455598427253,3.289588774066487,2.046408006203176,3.580325891921919,2.5301848932463264,1.6140290605477563,1.1400599351348633,0.990958107752847,1.9220439376834926,2.643705129676093,1.8419894098895357,2.380271062971184,1.0002273825223005,3.2593264891090095,1.276582156449461,2.459579512523607,2.189798904092057,3.0722111296950483,2.5992453096746524,1.8011360006122565,0.1977576168964269,0.4633239710756799,3.0296739633372365,2.2338900245401128,2.9528149970376543,4.067205749258464,4.029803722334939,3.8920019051472003,3.312961846464901,2.7083686406305834,3.377413229710432,3.4488382547400858,2.8128686570111534,2.9634749175070763,2.7727160508106907,3.8063784867571533,3.080612980403184,3.5666440385972558,4.341777563395394,2.9613050802125946,3.362567868749646,4.087320258716979,2.949778744379136,3.730293591543799,3.245431957825967,2.597312737871716,1.8763648553054975,0.1695878609287493,0.7243517584226532,0.8854083247500464,3.179594373368273,3.4060612453340964,3.637034882179482,4.067985355634096,1.3000441152134492,0.2612697733402548,4.597546982418496,3.0130397880236424,3.2440962282296195,4.022413687203579,3.295876198615794,4.019890263334363,3.8382761468017987,3.0136452081311518,4.117848275380481,3.801457551496407,3.691405366086864,2.4967172051180975,3.0130184811623986,3.9473696922416277,4.30959783689372,2.783676256371137,3.765140313871287,3.775903082254492,3.6360111110365807,0.3916664927930196,0.5384937246141709,3.6986939814380246,3.6298888278693724,4.106502517024831,3.9118872946281704,3.83715840045835,0.2683667574010463,1.4196344697434977,0.28593197673792703,3.174578100308752,0.8311710467081257,4.710335290952077,0.5411881652498893,0.012399319137187932,0.07672701678511515,2.828558286480471,3.735072118978936,3.999082404424726,4.15283773010867,2.554541604573272,4.094583312938529,1.5026152751120145,2.455346438685338,1.9270845536358345,0.0603857795101015,0.49434551281769246,0.10689884507683102,4.376610190998522,3.774146146846895,2.138909038033239,2.569761675167986,4.1701653216679535,4.384693852529809,3.4502821638871644,3.7144439060467667,4.335342601712499,4.526053731479122,3.53424793027673,3.136773163887024,2.9226224320757934,2.347771324544344,3.810089118499213,3.3146177578571767,3.241412967640068,4.462775953114753,3.4883568268277543,4.019475490855963,2.731288683021537,2.8654062367576594,3.5835729810360415,3.206249223348879,2.7060348436081703,4.051156858112373,3.8315400590765507,3.6990488569006974,4.473015058090092,3.773702690679236,3.1787161070896643,4.2568661409290165,3.946963550931654,4.323616557897946,3.520677513930112,3.127840793747613,3.518324581156378,3.133444353308443,4.004708274292142,4.339131781426737,2.8625420126126215,3.484737563918508,0.5599754357675989,1.254684458465614,1.8733292119037195,1.3426155012847445,0.05347675482643397,3.752986872445387,3.9171492685644442,3.1217500515710697,3.9290479532647544,3.947137825969693,0.3523551718478137,2.019642651249468,1.0864439194209792,0.08485694649811862,2.7032612878879267,2.6610608789077026,5.383004537946327,3.9118505480223194,3.9129413964337707,3.9291606853779415,3.2990397235343645,4.153518773563145,3.1728734985000173,3.4437332075421687,2.3543983140831237,2.9174666774537026,3.643824927830391,3.9305214464418374,2.4819831224233138,3.1153124107365544,3.8007209701381717,2.7683478529985046,2.9131154378434103,4.022740969704563,3.9997901166376946,1.9229818567349413,3.3352382577090993,3.635103897437205,3.846667202894487,4.23685958824543,4.044551128273507,2.589880893885646,4.13985960698205,1.945667571454974,2.731435810430613,3.4499790257854266,3.1107679913423865,3.4865544731194813,4.08972376529392,3.449430875682648,0.6739153639515684,0.2502570467079619,3.9154232836569594,3.391085896409183,3.4675892975192246,3.602576152084377,3.060969917953234,1.7045749468946774,3.188886238431387,2.882888596657015,3.5464631902010892,3.2689291775674474,3.1972706539420734,4.334572352967378,4.615803196123994,4.683519093357848,3.919605015040707,3.7204386845292614,4.5983512529629476,3.6366778088092855,3.7593430635250864,2.6912097555777383,3.1219010743989224,2.3769813849697825,2.462783264556274,3.2633229420412078,4.078159796485309,3.271870762619431,3.3810254211511115,4.660743483291465,4.144625180837422,2.7098364143270253,1.0013910067905871,2.9619171063474803,3.6571903475789056,3.8558991336007735,3.376509863135703,1.944462935361645,5.024712638582839,4.256762179350493,4.579496770351258,4.216429741360082,3.9774405700093487,3.8136241117205727,3.579824527672197,2.4042342563612187,0.7346733613182891,3.3253364587046175,0.6207597472656238,2.1239641168732177,2.843441317151064,3.0298963478855687,3.431036279625424,3.632316032276659,4.151296392689648,4.186662097961531,4.107968443387389,4.124423871682825,3.9640519051613676,3.8902870605768785,4.089684306068313,3.151897937761807,3.8187659527895246,3.084996151640069,4.135844671880273,3.2402002906405425,4.720631541123474,4.338214394957819,4.57629953547623,3.8009061179760972,1.9499181426677878,0.3174027527212708,4.739199747460199,3.4227589320239473,4.38008074218477,4.009666732674558,4.220115410628915,2.723585112771906,4.498814378281958,3.754816389087502,3.421321788886515,3.013151776380863,5.05270786543994,4.747838063123533,4.311357449321241,4.716282020100522,4.927982385257361,5.444250205003433,4.479248518825822,3.852523470051343,3.709376541963759,3.3550255894273047,0.1952754013179889,3.6107571083611854,3.6808174760328725,4.617651460027037,4.387608212174544,2.675430028225621,1.2512300603949518,3.621962906757255,3.4995186983981674,3.845371140893924,4.135165805993561,3.526066279572358,3.8825817261439117,4.328747485091705,3.8673266480764483,3.1333183092479557,3.944754070590682,3.474856201322973,3.4369995789194103,3.378672804547015,4.438978736169842,4.741906730494121,4.0615761292489365,4.370069857638299,3.7594277826941487,3.5838326930004625,4.1796775610286625,3.4360583113736443,4.372218901923146,3.7539732988891594,3.6459169924531296,3.3242451339307917,3.9733224110580667,3.3106232944726064,4.254427371456127,3.748880432386217,4.187375822887598,3.0900785753233624,3.2148946495855597,2.699674570410905,0.9825858081747451,0.22725059515940432,1.198530820368821,0.18888110569574365,0.8118900229290871,0.42222460479133317,1.3186806601468104,0.04219787915652685,1.0623076347190825,0.46850385870596295,2.553916950107132,0.18702661804924148,4.007630747812941,3.5594953535464975,2.8946987168286764,2.963962388969892,3.5712634876091314,4.492158099356138,5.044730720668374,4.424279461283001,4.113499010124526,2.3498516938945264,3.0314502044732494,4.338636484924523,3.412000750586394,3.7283289258949135,4.9822416405341325,4.433322337524653,4.554374438984414,2.4860129936546347,0.8878612899336222,0.6884345684391241,0.6828718435420073,0.11873627000367638,3.516024238134289,3.2283696885126294,2.7817082475737664,4.538626512451945,3.7669099151696455,4.091835270867904,4.4921743810158015,4.906722283902073,4.258716960141408,4.332870169578899,4.362869770578866,4.29428886353845,4.34522317975114,3.3532523903230786,2.6653552680080796,0.2545077157446891,3.187049506175343,3.955078004223506,0.1081802022058395,3.9460509318987573,3.347239911250665,3.8850178431019096,3.8950584995410655,3.3161462183356094,3.48576550043809,4.0996467878508,4.2768586173355105,3.4978427447131515,3.8973628443434127,3.676479879266133,4.235626810251103,3.80943892843082,3.3568847502696793,3.5391388915305155,3.2365024511084663,1.4501613840060417,2.898404409195083,3.910467675587279,4.231632617025627,3.440367901799142,5.067890832774914,3.9936115096644724,3.8254269591444676,3.256135974567764,4.226767252679851,3.854278548781501,2.9888879669584933,4.199476787827574,0.7906785180590655,0.5009308119241785,3.4527420540601064,3.510098976523457,3.2379559524311894,3.4961077841343684,3.1928652247669915,3.672183622690407,2.8188450236173237,3.780769698996914,3.4139692192415465,3.995268943010328,3.7670488414587773,3.9946090220585244,3.758967546256224,2.064533665114111,3.86769942387933,3.4343865862228116,4.909248900568181,5.488022978760564,4.998496585638036,3.572388281099645,3.8073266360067546,3.6735191366299884,3.8438602941799833,3.202186779123097,0.08680013559692648,3.5946923252121668,3.3330299840061848,4.208137221623563,3.989900469063411,3.4177521676293856,2.993725762108122,4.23418779581672,4.175097513054251,4.0316417686344455,3.425100031293203,0.10783599256407216,1.5427518857546638,2.5742740891637323,2.893048855988024,1.756355928693079,3.258331821118471,3.8427542038590228,3.849078694254817,3.9953142409798743,4.036611295955463,1.4089128103402173,1.7035790099307497,0.7817914529268233,1.993044324755324,0.907655450707671,3.1362554807574132,0.5566061025555669,2.851204115741793,0.9295326638305632,0.9754078391328282,0.0594967328169401,1.5871270887822333,0.05110429960339711,0.8818127106907052,0.14326057378898335,1.7022777221647178,2.0108443152209903,1.8227643985977278,0.1049201100010891,3.6766313406675057,3.8623054769171734,4.323071002721673,4.102116557246523,3.638197819084452,4.536735715257166,4.593136546732571,3.947681323455524,4.860152428074067,4.829847090434087,4.025681825094375,4.3177366106872235,3.8966158426466224,4.714047484729583,2.925023794842492,5.223861638533138,4.246078292023266,4.910251624009436,2.4011387080028275,3.4579285639758073,2.42145505224784,0.1776829604559644,0.09766030189647772,0.006381029757277176,1.5527463332107625,0.04708858071916038,3.1031879806427756,3.3766230126429027,5.375439754971458,4.3772214478548745,5.507272988347828,4.168265442126473,1.7892677267195893,2.6277456752036263,4.234004235352803,4.332027575357214,3.957406920697069,4.634535271643405,4.276637140027802,4.252740288186722,4.471851685673942,4.941539478963631,5.499900325842203,4.0089762820056905,4.376117544263499,5.0141718474874395,4.399713827550591,5.450229165359985,4.812944635264248,4.656004170018495,4.736349814484965,6.04766483418958,5.06402506501903,5.155414996099793,3.060726654372681,0.055077809046190765,2.008846545024556,0.4640541940990984,3.1190118687471253,3.476875688380298,3.893993010664439,5.1433375082457955,4.102064235988305,4.942880742082094,4.847045403696698,4.569013606916833,5.17110880935485,5.838195943619896,4.960371834541435,5.395855735019372,5.944130918458173,4.043404650866419,3.19648821489818,4.990153383697124,4.771073083235284,5.681733611898566,4.053433644282283,5.061227896586971,3.8805503740536706,5.9014374324992644,5.172793113777792,5.648012358451946,5.7020068120929,5.354372572283048,3.8556092087739273,0.7304908124617022,2.5219739779072086,0.6476571922669543,0.2003936945606356,3.7645143306375655,4.5431847545679,4.603819862093497,3.8771163610074857,4.109875514971379,4.208793755606671,5.197575831517495,4.789784624195944,5.053731491033499,5.4257584171230295,5.342560083454646,5.65744813116098,4.385784632692032,4.852908931810457,2.5262253353597517,0.13316273336736892,2.7292737344960565,3.93422429177082,4.546359127527975,5.497053506238346,5.861166748723568,4.9182467524561515,5.242902481477861,4.93573488389462,5.009451422199442,4.1897241704747294,4.235384860068828,5.0832392685653165,4.868947240611268,5.319607239938263,5.042778119906392,4.939881967915798,5.075536551312883,4.986840750113153,5.089486886560765,4.775619733647057,5.457151854223366,4.697286849588861,4.821344184363073,6.6668031320596235,4.824089318764785,4.987502320935174,4.718865089631373,5.294341685462597,5.293611711744684,4.661566068878544,3.1967707507011727,0.22029225511642658,3.681757807980081,4.336059321771002,4.15522858018629,4.156872303452125,3.7553668619740335,5.031591636561104,3.582736895718337,5.100913761604032,4.918981542172894,5.493554699275341,5.192582796616836,5.297048893708851,5.465125339511446,5.4111321075139855,4.56631100219349,5.643851438995282,4.762034166883378,4.3421091982288065,5.581102538700874,5.352269108929357,3.493381945859392,5.60070934616528,5.088373168976644,5.064130932723109,5.000634177944112,7.331871595675507,5.451972044462253,4.236224896424621,5.463411313772586,6.220600983946283,5.783282779165067,5.314423677874898,3.8598444865895636,3.887867522656895,4.1008994895159585,4.557213386036826,4.049557685689454,7.140333403602878,6.170264387464837,5.010561200663554,4.155610855914109,5.288800708155114,5.150809359934465,3.7012737212295423,4.257344205328829,4.768067214647123,5.358107131858401,4.684219615707061,6.77393578331578,6.7222063805614125,4.8575096512874705,5.075585664377354,4.661452109930643,4.989245171572815,4.182174355733253,4.790812833357211,4.358899891489951,4.979333137934329,6.85364775818933,4.560190491389905,3.6526537468323146,1.9085672318899256,4.266466681040779,2.9900073647473557,0.5257477366635704,0.08374047010230593,2.791339432249949,5.2149461993435,4.962830931555432,5.706624696271414,4.3545474506795525,4.206844154175375,2.9225844147658755,0.2520161526649067,4.821384003444871,4.205798184917075,4.960565849589738,0.15737482672902658,4.0455082748483955,4.048575884006229,4.033903163345383,4.422251245565628,4.586974650365776,4.717400143383296,4.638257580399939,5.263951003087819,3.7385596206826452,4.1087683307967335,4.36854433736718,4.628062364467309,5.268997019648849,4.421598760536284,4.074210187304986,3.346188273593013,4.850257239253223,4.736879054916471,5.379426369916597,5.014742119669796,5.103415591867867,1.8725060485060998,1.8434714061330435,2.5746187458708705,0.8411385136997398,3.3462623534986,4.0780797205094546,3.469237094640827,3.991732637109536,5.061105317996357,4.04269393666586,3.8519300199850766,4.035064603893664,4.665331522291394,3.943959445011273,4.6592446870790605,5.471416797870381,4.568429006582214,4.37248913049659,2.733477927281132,5.2437747920101305,4.777329192177986,3.9677482316268775,4.900754384228312,4.396479198621652,4.937311150585568,4.829639175446907,4.739236005517523,4.904156665116027,4.412153617562069,4.4956800546478695,5.401809725880123,5.191189815488926,4.606978066372199,5.3415932876132,5.703751582104237,6.387943217564595,4.162426935370638,4.698303924231573,4.075770514777665,4.7592643997735316,5.238737584311489,5.183103991231816,4.366912289847342,4.9977034310725585,3.913984579835082,5.068468591405825,4.48401826413368,3.303454422181973,4.648447989768361,4.4359478090561835,0.9369392532715679,4.842103951928073,3.819644906886768,3.7606793700209495,3.9664388132974815,4.1540841735885845,4.590637698174881,4.071688325453764,4.417388856274396,3.1175306392471103,3.541819640716778,5.4192545049456955,5.108376845005612,4.717632519788869,4.418813246574071,3.96418270954151,4.374588084150028,4.6491392682858725,4.201755239697952,3.9741627329973617,3.6701940847367043,5.112899450713701,5.672826840713847,4.754606236956266,4.846815452134544,4.342761546485031,4.673695946081112,4.9904518182212545,4.829765641444311,4.446974991851097,4.701894505769942,4.373344514045635,4.638553290907111,5.510520011109171,5.7541173647734185,3.6331129868048047,4.860791367150627,5.508419538601085,4.5546308903718415,4.587168320136764,5.9712790663542625,4.661075954878859,4.4710616970483175,5.0266047660850335,6.040524763378106,5.282780052288426,1.6022928785203328,4.758495331418542,4.732141631787141,4.1098845598055505,3.8326020898994226,5.304945866265021,4.7348275716977914,4.466916031672733,4.266679690633917,4.428216749234369,4.928964282368103,5.016074872750925,5.20181749499353,5.021737912700669,4.286019747520783,4.457717777230906,3.9914002302575016,4.819701527747714,2.669263844505474,4.383202955652846,4.226375734345427,4.56461448928683,2.3073304218307626,6.072122970292171,4.9214081410633845,3.2156071293799413,4.398456885016141,3.9228135359207537,0.28841288437016416,4.35245063710608,4.847490456117512,3.818816231595718,3.8569557756815827,4.283942424124745,3.881837704101051,4.681543027977407,3.986472035487067,3.558481238042573,2.6580239857592907,4.5792006361097615,5.071952902993757,5.232116446613847,4.8008751811638435,4.337923997075082,2.937261379745298,2.56103054901757,4.3683414276129,5.096574046808508,4.289017951037353,4.475362999816911,3.9054100567301173,3.356590523994297,5.633941032427814,4.99749577227931,3.9691967519102724,4.9022813879849245,3.6608953075029986,3.9571782752322315,3.691586288602521,3.440439631468915,2.4028411061200945,1.8722363292725581,3.929589413393079,3.5179431972271806,4.095460181371367,4.244480109453483,3.97757186949314,4.290327815665962,5.409385688458774,3.6152461526845396,4.747529756955874,4.856047642656425,5.572557902232859,5.461115975475839,4.247372549813035,4.870346828462709,4.163444611992379,4.420742544415644,6.283454354416574,5.217912781990826,4.729936256034775,5.480486805386009,6.549169742006085,6.045502955556701,4.086419659851132,4.248929571729512,3.99718430907665,4.9910819144246075,4.31377289965743,4.6315207658431605,5.504844440092999,5.80560244009233,5.389453717461787,4.566772400870772,4.468693677340936,4.754943688681005,5.18187653044589,4.797378208174032,5.8964409314151975,5.47346263457494,4.3420302688476395,5.078254125725723,6.249121564950307,4.542868650471889,4.863657517959694,4.734343684605058,5.8644024440531695,5.8601770177624,3.996974429819881,7.1441473134817395,4.617202994592565,4.488524250828863,5.889358942618647,4.019932880669252,3.503544668734152,5.230478540197668,4.296946058288306,3.1123524355958896,4.999851688444544,3.9823103428623483,6.059635656463031,3.7619496194854,4.08713604191849,2.384771841319554,4.168568549475766,4.089993734735349,4.316521767649798,2.9426218032077123,2.198445001931092,3.1124080242468937,0.462099203092947,3.2112992112546155,6.4017818460607945,4.004548250706931,5.39665040952011,2.654297885484248,3.9929943842354096,4.325970500748098,3.5827836390798806,4.272578692461766,3.0936694586823794,2.9942075407362,3.845037036837612,2.83685698730108,2.9023029775379525,3.5324787710727956,2.2661348805864234,1.9004927698921514,3.3938886684163796,3.0133104828156068,4.684146803985027,4.22712725640749,2.2001042193417346,2.1073806846095806,5.862231744449135,6.36306320308514,3.79169280832837,0.45666592481530904,3.262014149535032,0.7313945814801932,2.872203668675277,3.152931632472031,2.0276106002566885,3.485294171408852,6.670254054152508,5.332454457802756,4.026304470654944,0.7686223509571622,2.5266352019477725,4.079610141252202,2.4153163892964895,0.9201327326975655,0.5111590072064638,2.872721506772305,3.3335492882584674,1.3710393985076523,0.40614333427347904,2.958120194098344,1.792665490738556,1.3176487369875272,0.9153226435954536,3.7284239201040372,3.4899645477845453,1.2153792209735679,1.7842735862042276,2.0363809383267264,2.6643384462057895,5.034186272095384,2.70454413820766,2.3096683627737438,2.7145840009923115,2.930877178169622,3.4365943020880287,1.7176773843018183,5.773913556756483,2.9622792949043544,0.4728242122007651,6.2478956120771505,1.3787046216136891,2.1926000404075117,2.9337107230809663,2.8408680040554826,3.609836561355066,0.7235810491381482,0.975547981323343,1.539783365738838,1.6457321923902433,3.329850221240599,2.6066326658384917,2.3916885364416642,3.607365451992672,0.9367406097263727,2.688605413358256,3.2292887620403037,1.5381477473400003,1.8601267552797278,1.804963389344598,2.319710605896315,2.8458840312778095,2.1555435848707964,2.742821946650296,3.454193107410771,3.38517207474151,4.31934307032488,4.283896214615727,3.8523185578516257,3.9220490172648224,3.9259265528282867,3.7634878173776714,3.7665208517347777,5.139142616500784,3.625279154813939,3.4822279477056077,4.236719350612879,3.1471941155532033,3.116225440773422,1.0413523033515297,0.06218785726956706,2.203220976307219,3.0688394170787787,3.3178194716805884,4.593755830034356,3.3377381812981137,2.8854124922445057,3.3276743686550074,3.825019856780842,3.519946506987799,3.655833595986211,4.005655846674993,3.585638278436758,2.9472614898717375,0.9733638954181528,6.162748990049111,3.51173303468103,2.703586325865674,2.8217059967705813,3.508333857006555,4.734786647917096,4.082516708097511,4.659549075435917,2.290068648181363,3.443675207020502,4.341735480113389,4.256482830745867,4.332132462986893,5.066018523459048,3.60855264340382,3.3167146291516643,2.0948465689146154,1.428922301258434,4.310168078125924,6.20720220601168,2.0364858336272613,2.421632016154364,4.265729429401585,2.978584292170768,4.03615590781577,10.615718649845064,0.8944271786531013,1.8297162866266445,0.0]},\"selected\":{\"id\":\"1351\"},\"selection_policy\":{\"id\":\"1352\"}},\"id\":\"1317\",\"type\":\"ColumnDataSource\"},{\"attributes\":{},\"id\":\"1350\",\"type\":\"BasicTickFormatter\"},{\"attributes\":{\"overlay\":{\"id\":\"1309\"}},\"id\":\"1305\",\"type\":\"BoxZoomTool\"},{\"attributes\":{\"data_source\":{\"id\":\"1317\"},\"glyph\":{\"id\":\"1318\"},\"hover_glyph\":null,\"muted_glyph\":null,\"nonselection_glyph\":{\"id\":\"1319\"},\"selection_glyph\":null,\"view\":{\"id\":\"1321\"}},\"id\":\"1320\",\"type\":\"GlyphRenderer\"},{\"attributes\":{\"axis\":{\"id\":\"1295\"},\"ticker\":null},\"id\":\"1298\",\"type\":\"Grid\"},{\"attributes\":{},\"id\":\"1306\",\"type\":\"SaveTool\"},{\"attributes\":{\"axis_label\":\"declivit\\u00e9\",\"formatter\":{\"id\":\"1348\"},\"ticker\":{\"id\":\"1296\"}},\"id\":\"1295\",\"type\":\"LinearAxis\"},{\"attributes\":{},\"id\":\"1308\",\"type\":\"HelpTool\"},{\"attributes\":{},\"id\":\"1351\",\"type\":\"Selection\"},{\"attributes\":{},\"id\":\"1291\",\"type\":\"LinearScale\"},{\"attributes\":{\"fill_alpha\":{\"value\":0.1},\"fill_color\":{\"value\":\"red\"},\"line_alpha\":{\"value\":0.1},\"line_color\":{\"value\":\"red\"},\"size\":{\"units\":\"screen\",\"value\":6},\"x\":{\"field\":\"x\"},\"y\":{\"field\":\"y\"}},\"id\":\"1319\",\"type\":\"Circle\"},{\"attributes\":{},\"id\":\"1303\",\"type\":\"PanTool\"},{\"attributes\":{},\"id\":\"1352\",\"type\":\"UnionRenderers\"},{\"attributes\":{\"source\":{\"id\":\"1317\"}},\"id\":\"1321\",\"type\":\"CDSView\"},{\"attributes\":{},\"id\":\"1304\",\"type\":\"WheelZoomTool\"},{\"attributes\":{\"fill_alpha\":{\"value\":0.5},\"fill_color\":{\"value\":\"red\"},\"line_alpha\":{\"value\":0.5},\"line_color\":{\"value\":\"red\"},\"size\":{\"units\":\"screen\",\"value\":6},\"x\":{\"field\":\"x\"},\"y\":{\"field\":\"y\"}},\"id\":\"1318\",\"type\":\"Circle\"},{\"attributes\":{},\"id\":\"1307\",\"type\":\"ResetTool\"},{\"attributes\":{\"axis\":{\"id\":\"1299\"},\"dimension\":1,\"ticker\":null},\"id\":\"1302\",\"type\":\"Grid\"},{\"attributes\":{\"text\":\"Vitesse / d\\u00e9clivit\\u00e9 \"},\"id\":\"1285\",\"type\":\"Title\"},{\"attributes\":{},\"id\":\"1296\",\"type\":\"BasicTicker\"}],\"root_ids\":[\"1284\"]},\"title\":\"Bokeh Application\",\"version\":\"2.2.1\"}};\n",
       "  var render_items = [{\"docid\":\"8ee65783-a0bc-42b6-a2e5-08b2bab3ed29\",\"root_ids\":[\"1284\"],\"roots\":{\"1284\":\"ea1b5795-4e36-4dde-9cce-8689f1f5c79e\"}}];\n",
       "  root.Bokeh.embed.embed_items_notebook(docs_json, render_items);\n",
       "\n",
       "  }\n",
       "  if (root.Bokeh !== undefined) {\n",
       "    embed_document(root);\n",
       "  } else {\n",
       "    var attempts = 0;\n",
       "    var timer = setInterval(function(root) {\n",
       "      if (root.Bokeh !== undefined) {\n",
       "        clearInterval(timer);\n",
       "        embed_document(root);\n",
       "      } else {\n",
       "        attempts++;\n",
       "        if (attempts > 100) {\n",
       "          clearInterval(timer);\n",
       "          console.log(\"Bokeh: ERROR: Unable to run BokehJS code because BokehJS library is missing\");\n",
       "        }\n",
       "      }\n",
       "    }, 10, root)\n",
       "  }\n",
       "})(window);"
      ],
      "application/vnd.bokehjs_exec.v0+json": ""
     },
     "metadata": {
      "application/vnd.bokehjs_exec.v0+json": {
       "id": "1284"
      }
     },
     "output_type": "display_data"
    }
   ],
   "source": [
    "dec0= [x[1]-x[0] for x in zip([point.elevation for point in points[1:]],[point.elevation for point in points[:-1]])]\n",
    "dec = [x[0] for x in zip(dec0,z) if x[1][0]>0]\n",
    "pdec= figure(title=\"Vitesse / déclivité \", x_axis_label='declivité', y_axis_label='Vitesse (km/h)',width=800,height=300)\n",
    "pdec.circle(dec,[3.6*x[0] for x in vt],size=6, color=\"red\", alpha=0.5)\n",
    "show(pdec)"
   ]
  },
  {
   "cell_type": "code",
   "execution_count": null,
   "metadata": {},
   "outputs": [],
   "source": []
  }
 ],
 "metadata": {
  "@webio": {
   "lastCommId": null,
   "lastKernelId": null
  },
  "hide_input": false,
  "kernelspec": {
   "display_name": "Python 3",
   "language": "python",
   "name": "python3"
  },
  "language_info": {
   "codemirror_mode": {
    "name": "ipython",
    "version": 3
   },
   "file_extension": ".py",
   "mimetype": "text/x-python",
   "name": "python",
   "nbconvert_exporter": "python",
   "pygments_lexer": "ipython3",
   "version": "3.8.6"
  }
 },
 "nbformat": 4,
 "nbformat_minor": 4
}
