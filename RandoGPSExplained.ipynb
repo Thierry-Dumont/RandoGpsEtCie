{
 "cells": [
  {
   "cell_type": "code",
   "execution_count": 1,
   "metadata": {},
   "outputs": [
    {
     "data": {
      "text/html": [
       "\n",
       "    <div class=\"bk-root\">\n",
       "        <a href=\"https://bokeh.org\" target=\"_blank\" class=\"bk-logo bk-logo-small bk-logo-notebook\"></a>\n",
       "        <span id=\"1001\">Loading BokehJS ...</span>\n",
       "    </div>"
      ]
     },
     "metadata": {},
     "output_type": "display_data"
    },
    {
     "data": {
      "application/javascript": [
       "\n",
       "(function(root) {\n",
       "  function now() {\n",
       "    return new Date();\n",
       "  }\n",
       "\n",
       "  var force = true;\n",
       "\n",
       "  if (typeof root._bokeh_onload_callbacks === \"undefined\" || force === true) {\n",
       "    root._bokeh_onload_callbacks = [];\n",
       "    root._bokeh_is_loading = undefined;\n",
       "  }\n",
       "\n",
       "  var JS_MIME_TYPE = 'application/javascript';\n",
       "  var HTML_MIME_TYPE = 'text/html';\n",
       "  var EXEC_MIME_TYPE = 'application/vnd.bokehjs_exec.v0+json';\n",
       "  var CLASS_NAME = 'output_bokeh rendered_html';\n",
       "\n",
       "  /**\n",
       "   * Render data to the DOM node\n",
       "   */\n",
       "  function render(props, node) {\n",
       "    var script = document.createElement(\"script\");\n",
       "    node.appendChild(script);\n",
       "  }\n",
       "\n",
       "  /**\n",
       "   * Handle when an output is cleared or removed\n",
       "   */\n",
       "  function handleClearOutput(event, handle) {\n",
       "    var cell = handle.cell;\n",
       "\n",
       "    var id = cell.output_area._bokeh_element_id;\n",
       "    var server_id = cell.output_area._bokeh_server_id;\n",
       "    // Clean up Bokeh references\n",
       "    if (id != null && id in Bokeh.index) {\n",
       "      Bokeh.index[id].model.document.clear();\n",
       "      delete Bokeh.index[id];\n",
       "    }\n",
       "\n",
       "    if (server_id !== undefined) {\n",
       "      // Clean up Bokeh references\n",
       "      var cmd = \"from bokeh.io.state import curstate; print(curstate().uuid_to_server['\" + server_id + \"'].get_sessions()[0].document.roots[0]._id)\";\n",
       "      cell.notebook.kernel.execute(cmd, {\n",
       "        iopub: {\n",
       "          output: function(msg) {\n",
       "            var id = msg.content.text.trim();\n",
       "            if (id in Bokeh.index) {\n",
       "              Bokeh.index[id].model.document.clear();\n",
       "              delete Bokeh.index[id];\n",
       "            }\n",
       "          }\n",
       "        }\n",
       "      });\n",
       "      // Destroy server and session\n",
       "      var cmd = \"import bokeh.io.notebook as ion; ion.destroy_server('\" + server_id + \"')\";\n",
       "      cell.notebook.kernel.execute(cmd);\n",
       "    }\n",
       "  }\n",
       "\n",
       "  /**\n",
       "   * Handle when a new output is added\n",
       "   */\n",
       "  function handleAddOutput(event, handle) {\n",
       "    var output_area = handle.output_area;\n",
       "    var output = handle.output;\n",
       "\n",
       "    // limit handleAddOutput to display_data with EXEC_MIME_TYPE content only\n",
       "    if ((output.output_type != \"display_data\") || (!output.data.hasOwnProperty(EXEC_MIME_TYPE))) {\n",
       "      return\n",
       "    }\n",
       "\n",
       "    var toinsert = output_area.element.find(\".\" + CLASS_NAME.split(' ')[0]);\n",
       "\n",
       "    if (output.metadata[EXEC_MIME_TYPE][\"id\"] !== undefined) {\n",
       "      toinsert[toinsert.length - 1].firstChild.textContent = output.data[JS_MIME_TYPE];\n",
       "      // store reference to embed id on output_area\n",
       "      output_area._bokeh_element_id = output.metadata[EXEC_MIME_TYPE][\"id\"];\n",
       "    }\n",
       "    if (output.metadata[EXEC_MIME_TYPE][\"server_id\"] !== undefined) {\n",
       "      var bk_div = document.createElement(\"div\");\n",
       "      bk_div.innerHTML = output.data[HTML_MIME_TYPE];\n",
       "      var script_attrs = bk_div.children[0].attributes;\n",
       "      for (var i = 0; i < script_attrs.length; i++) {\n",
       "        toinsert[toinsert.length - 1].firstChild.setAttribute(script_attrs[i].name, script_attrs[i].value);\n",
       "        toinsert[toinsert.length - 1].firstChild.textContent = bk_div.children[0].textContent\n",
       "      }\n",
       "      // store reference to server id on output_area\n",
       "      output_area._bokeh_server_id = output.metadata[EXEC_MIME_TYPE][\"server_id\"];\n",
       "    }\n",
       "  }\n",
       "\n",
       "  function register_renderer(events, OutputArea) {\n",
       "\n",
       "    function append_mime(data, metadata, element) {\n",
       "      // create a DOM node to render to\n",
       "      var toinsert = this.create_output_subarea(\n",
       "        metadata,\n",
       "        CLASS_NAME,\n",
       "        EXEC_MIME_TYPE\n",
       "      );\n",
       "      this.keyboard_manager.register_events(toinsert);\n",
       "      // Render to node\n",
       "      var props = {data: data, metadata: metadata[EXEC_MIME_TYPE]};\n",
       "      render(props, toinsert[toinsert.length - 1]);\n",
       "      element.append(toinsert);\n",
       "      return toinsert\n",
       "    }\n",
       "\n",
       "    /* Handle when an output is cleared or removed */\n",
       "    events.on('clear_output.CodeCell', handleClearOutput);\n",
       "    events.on('delete.Cell', handleClearOutput);\n",
       "\n",
       "    /* Handle when a new output is added */\n",
       "    events.on('output_added.OutputArea', handleAddOutput);\n",
       "\n",
       "    /**\n",
       "     * Register the mime type and append_mime function with output_area\n",
       "     */\n",
       "    OutputArea.prototype.register_mime_type(EXEC_MIME_TYPE, append_mime, {\n",
       "      /* Is output safe? */\n",
       "      safe: true,\n",
       "      /* Index of renderer in `output_area.display_order` */\n",
       "      index: 0\n",
       "    });\n",
       "  }\n",
       "\n",
       "  // register the mime type if in Jupyter Notebook environment and previously unregistered\n",
       "  if (root.Jupyter !== undefined) {\n",
       "    var events = require('base/js/events');\n",
       "    var OutputArea = require('notebook/js/outputarea').OutputArea;\n",
       "\n",
       "    if (OutputArea.prototype.mime_types().indexOf(EXEC_MIME_TYPE) == -1) {\n",
       "      register_renderer(events, OutputArea);\n",
       "    }\n",
       "  }\n",
       "\n",
       "  \n",
       "  if (typeof (root._bokeh_timeout) === \"undefined\" || force === true) {\n",
       "    root._bokeh_timeout = Date.now() + 5000;\n",
       "    root._bokeh_failed_load = false;\n",
       "  }\n",
       "\n",
       "  var NB_LOAD_WARNING = {'data': {'text/html':\n",
       "     \"<div style='background-color: #fdd'>\\n\"+\n",
       "     \"<p>\\n\"+\n",
       "     \"BokehJS does not appear to have successfully loaded. If loading BokehJS from CDN, this \\n\"+\n",
       "     \"may be due to a slow or bad network connection. Possible fixes:\\n\"+\n",
       "     \"</p>\\n\"+\n",
       "     \"<ul>\\n\"+\n",
       "     \"<li>re-rerun `output_notebook()` to attempt to load from CDN again, or</li>\\n\"+\n",
       "     \"<li>use INLINE resources instead, as so:</li>\\n\"+\n",
       "     \"</ul>\\n\"+\n",
       "     \"<code>\\n\"+\n",
       "     \"from bokeh.resources import INLINE\\n\"+\n",
       "     \"output_notebook(resources=INLINE)\\n\"+\n",
       "     \"</code>\\n\"+\n",
       "     \"</div>\"}};\n",
       "\n",
       "  function display_loaded() {\n",
       "    var el = document.getElementById(\"1001\");\n",
       "    if (el != null) {\n",
       "      el.textContent = \"BokehJS is loading...\";\n",
       "    }\n",
       "    if (root.Bokeh !== undefined) {\n",
       "      if (el != null) {\n",
       "        el.textContent = \"BokehJS \" + root.Bokeh.version + \" successfully loaded.\";\n",
       "      }\n",
       "    } else if (Date.now() < root._bokeh_timeout) {\n",
       "      setTimeout(display_loaded, 100)\n",
       "    }\n",
       "  }\n",
       "\n",
       "\n",
       "  function run_callbacks() {\n",
       "    try {\n",
       "      root._bokeh_onload_callbacks.forEach(function(callback) {\n",
       "        if (callback != null)\n",
       "          callback();\n",
       "      });\n",
       "    } finally {\n",
       "      delete root._bokeh_onload_callbacks\n",
       "    }\n",
       "    console.debug(\"Bokeh: all callbacks have finished\");\n",
       "  }\n",
       "\n",
       "  function load_libs(css_urls, js_urls, callback) {\n",
       "    if (css_urls == null) css_urls = [];\n",
       "    if (js_urls == null) js_urls = [];\n",
       "\n",
       "    root._bokeh_onload_callbacks.push(callback);\n",
       "    if (root._bokeh_is_loading > 0) {\n",
       "      console.debug(\"Bokeh: BokehJS is being loaded, scheduling callback at\", now());\n",
       "      return null;\n",
       "    }\n",
       "    if (js_urls == null || js_urls.length === 0) {\n",
       "      run_callbacks();\n",
       "      return null;\n",
       "    }\n",
       "    console.debug(\"Bokeh: BokehJS not loaded, scheduling load and callback at\", now());\n",
       "    root._bokeh_is_loading = css_urls.length + js_urls.length;\n",
       "\n",
       "    function on_load() {\n",
       "      root._bokeh_is_loading--;\n",
       "      if (root._bokeh_is_loading === 0) {\n",
       "        console.debug(\"Bokeh: all BokehJS libraries/stylesheets loaded\");\n",
       "        run_callbacks()\n",
       "      }\n",
       "    }\n",
       "\n",
       "    function on_error() {\n",
       "      console.error(\"failed to load \" + url);\n",
       "    }\n",
       "\n",
       "    for (var i = 0; i < css_urls.length; i++) {\n",
       "      var url = css_urls[i];\n",
       "      const element = document.createElement(\"link\");\n",
       "      element.onload = on_load;\n",
       "      element.onerror = on_error;\n",
       "      element.rel = \"stylesheet\";\n",
       "      element.type = \"text/css\";\n",
       "      element.href = url;\n",
       "      console.debug(\"Bokeh: injecting link tag for BokehJS stylesheet: \", url);\n",
       "      document.body.appendChild(element);\n",
       "    }\n",
       "\n",
       "    const hashes = {\"https://cdn.bokeh.org/bokeh/release/bokeh-2.0.2.min.js\": \"ufR9RFnRs6lniiaFvtJziE0YeidtAgBRH6ux2oUItHw5WTvE1zuk9uzhUU/FJXDp\", \"https://cdn.bokeh.org/bokeh/release/bokeh-widgets-2.0.2.min.js\": \"8QM/PGWBT+IssZuRcDcjzwIh1mkOmJSoNMmyYDZbCfXJg3Ap1lEvdVgFuSAwhb/J\", \"https://cdn.bokeh.org/bokeh/release/bokeh-tables-2.0.2.min.js\": \"Jm8cH3Rg0P6UeZhVY5cLy1WzKajUT9KImCY+76hEqrcJt59/d8GPvFHjCkYgnSIn\", \"https://cdn.bokeh.org/bokeh/release/bokeh-gl-2.0.2.min.js\": \"Ozhzj+SI7ywm74aOI/UajcWz+C0NjsPunEVyVIrxzYkB+jA+2tUw8x5xJCbVtK5I\"};\n",
       "\n",
       "    for (var i = 0; i < js_urls.length; i++) {\n",
       "      var url = js_urls[i];\n",
       "      var element = document.createElement('script');\n",
       "      element.onload = on_load;\n",
       "      element.onerror = on_error;\n",
       "      element.async = false;\n",
       "      element.src = url;\n",
       "      if (url in hashes) {\n",
       "        element.crossOrigin = \"anonymous\";\n",
       "        element.integrity = \"sha384-\" + hashes[url];\n",
       "      }\n",
       "      console.debug(\"Bokeh: injecting script tag for BokehJS library: \", url);\n",
       "      document.head.appendChild(element);\n",
       "    }\n",
       "  };\n",
       "\n",
       "  function inject_raw_css(css) {\n",
       "    const element = document.createElement(\"style\");\n",
       "    element.appendChild(document.createTextNode(css));\n",
       "    document.body.appendChild(element);\n",
       "  }\n",
       "\n",
       "  \n",
       "  var js_urls = [\"https://cdn.bokeh.org/bokeh/release/bokeh-2.0.2.min.js\", \"https://cdn.bokeh.org/bokeh/release/bokeh-widgets-2.0.2.min.js\", \"https://cdn.bokeh.org/bokeh/release/bokeh-tables-2.0.2.min.js\", \"https://cdn.bokeh.org/bokeh/release/bokeh-gl-2.0.2.min.js\"];\n",
       "  var css_urls = [];\n",
       "  \n",
       "\n",
       "  var inline_js = [\n",
       "    function(Bokeh) {\n",
       "      Bokeh.set_log_level(\"info\");\n",
       "    },\n",
       "    function(Bokeh) {\n",
       "    \n",
       "    \n",
       "    }\n",
       "  ];\n",
       "\n",
       "  function run_inline_js() {\n",
       "    \n",
       "    if (root.Bokeh !== undefined || force === true) {\n",
       "      \n",
       "    for (var i = 0; i < inline_js.length; i++) {\n",
       "      inline_js[i].call(root, root.Bokeh);\n",
       "    }\n",
       "    if (force === true) {\n",
       "        display_loaded();\n",
       "      }} else if (Date.now() < root._bokeh_timeout) {\n",
       "      setTimeout(run_inline_js, 100);\n",
       "    } else if (!root._bokeh_failed_load) {\n",
       "      console.log(\"Bokeh: BokehJS failed to load within specified timeout.\");\n",
       "      root._bokeh_failed_load = true;\n",
       "    } else if (force !== true) {\n",
       "      var cell = $(document.getElementById(\"1001\")).parents('.cell').data().cell;\n",
       "      cell.output_area.append_execute_result(NB_LOAD_WARNING)\n",
       "    }\n",
       "\n",
       "  }\n",
       "\n",
       "  if (root._bokeh_is_loading === 0) {\n",
       "    console.debug(\"Bokeh: BokehJS loaded, going straight to plotting\");\n",
       "    run_inline_js();\n",
       "  } else {\n",
       "    load_libs(css_urls, js_urls, function() {\n",
       "      console.debug(\"Bokeh: BokehJS plotting callback run at\", now());\n",
       "      run_inline_js();\n",
       "    });\n",
       "  }\n",
       "}(window));"
      ],
      "application/vnd.bokehjs_load.v0+json": "\n(function(root) {\n  function now() {\n    return new Date();\n  }\n\n  var force = true;\n\n  if (typeof root._bokeh_onload_callbacks === \"undefined\" || force === true) {\n    root._bokeh_onload_callbacks = [];\n    root._bokeh_is_loading = undefined;\n  }\n\n  \n\n  \n  if (typeof (root._bokeh_timeout) === \"undefined\" || force === true) {\n    root._bokeh_timeout = Date.now() + 5000;\n    root._bokeh_failed_load = false;\n  }\n\n  var NB_LOAD_WARNING = {'data': {'text/html':\n     \"<div style='background-color: #fdd'>\\n\"+\n     \"<p>\\n\"+\n     \"BokehJS does not appear to have successfully loaded. If loading BokehJS from CDN, this \\n\"+\n     \"may be due to a slow or bad network connection. Possible fixes:\\n\"+\n     \"</p>\\n\"+\n     \"<ul>\\n\"+\n     \"<li>re-rerun `output_notebook()` to attempt to load from CDN again, or</li>\\n\"+\n     \"<li>use INLINE resources instead, as so:</li>\\n\"+\n     \"</ul>\\n\"+\n     \"<code>\\n\"+\n     \"from bokeh.resources import INLINE\\n\"+\n     \"output_notebook(resources=INLINE)\\n\"+\n     \"</code>\\n\"+\n     \"</div>\"}};\n\n  function display_loaded() {\n    var el = document.getElementById(\"1001\");\n    if (el != null) {\n      el.textContent = \"BokehJS is loading...\";\n    }\n    if (root.Bokeh !== undefined) {\n      if (el != null) {\n        el.textContent = \"BokehJS \" + root.Bokeh.version + \" successfully loaded.\";\n      }\n    } else if (Date.now() < root._bokeh_timeout) {\n      setTimeout(display_loaded, 100)\n    }\n  }\n\n\n  function run_callbacks() {\n    try {\n      root._bokeh_onload_callbacks.forEach(function(callback) {\n        if (callback != null)\n          callback();\n      });\n    } finally {\n      delete root._bokeh_onload_callbacks\n    }\n    console.debug(\"Bokeh: all callbacks have finished\");\n  }\n\n  function load_libs(css_urls, js_urls, callback) {\n    if (css_urls == null) css_urls = [];\n    if (js_urls == null) js_urls = [];\n\n    root._bokeh_onload_callbacks.push(callback);\n    if (root._bokeh_is_loading > 0) {\n      console.debug(\"Bokeh: BokehJS is being loaded, scheduling callback at\", now());\n      return null;\n    }\n    if (js_urls == null || js_urls.length === 0) {\n      run_callbacks();\n      return null;\n    }\n    console.debug(\"Bokeh: BokehJS not loaded, scheduling load and callback at\", now());\n    root._bokeh_is_loading = css_urls.length + js_urls.length;\n\n    function on_load() {\n      root._bokeh_is_loading--;\n      if (root._bokeh_is_loading === 0) {\n        console.debug(\"Bokeh: all BokehJS libraries/stylesheets loaded\");\n        run_callbacks()\n      }\n    }\n\n    function on_error() {\n      console.error(\"failed to load \" + url);\n    }\n\n    for (var i = 0; i < css_urls.length; i++) {\n      var url = css_urls[i];\n      const element = document.createElement(\"link\");\n      element.onload = on_load;\n      element.onerror = on_error;\n      element.rel = \"stylesheet\";\n      element.type = \"text/css\";\n      element.href = url;\n      console.debug(\"Bokeh: injecting link tag for BokehJS stylesheet: \", url);\n      document.body.appendChild(element);\n    }\n\n    const hashes = {\"https://cdn.bokeh.org/bokeh/release/bokeh-2.0.2.min.js\": \"ufR9RFnRs6lniiaFvtJziE0YeidtAgBRH6ux2oUItHw5WTvE1zuk9uzhUU/FJXDp\", \"https://cdn.bokeh.org/bokeh/release/bokeh-widgets-2.0.2.min.js\": \"8QM/PGWBT+IssZuRcDcjzwIh1mkOmJSoNMmyYDZbCfXJg3Ap1lEvdVgFuSAwhb/J\", \"https://cdn.bokeh.org/bokeh/release/bokeh-tables-2.0.2.min.js\": \"Jm8cH3Rg0P6UeZhVY5cLy1WzKajUT9KImCY+76hEqrcJt59/d8GPvFHjCkYgnSIn\", \"https://cdn.bokeh.org/bokeh/release/bokeh-gl-2.0.2.min.js\": \"Ozhzj+SI7ywm74aOI/UajcWz+C0NjsPunEVyVIrxzYkB+jA+2tUw8x5xJCbVtK5I\"};\n\n    for (var i = 0; i < js_urls.length; i++) {\n      var url = js_urls[i];\n      var element = document.createElement('script');\n      element.onload = on_load;\n      element.onerror = on_error;\n      element.async = false;\n      element.src = url;\n      if (url in hashes) {\n        element.crossOrigin = \"anonymous\";\n        element.integrity = \"sha384-\" + hashes[url];\n      }\n      console.debug(\"Bokeh: injecting script tag for BokehJS library: \", url);\n      document.head.appendChild(element);\n    }\n  };\n\n  function inject_raw_css(css) {\n    const element = document.createElement(\"style\");\n    element.appendChild(document.createTextNode(css));\n    document.body.appendChild(element);\n  }\n\n  \n  var js_urls = [\"https://cdn.bokeh.org/bokeh/release/bokeh-2.0.2.min.js\", \"https://cdn.bokeh.org/bokeh/release/bokeh-widgets-2.0.2.min.js\", \"https://cdn.bokeh.org/bokeh/release/bokeh-tables-2.0.2.min.js\", \"https://cdn.bokeh.org/bokeh/release/bokeh-gl-2.0.2.min.js\"];\n  var css_urls = [];\n  \n\n  var inline_js = [\n    function(Bokeh) {\n      Bokeh.set_log_level(\"info\");\n    },\n    function(Bokeh) {\n    \n    \n    }\n  ];\n\n  function run_inline_js() {\n    \n    if (root.Bokeh !== undefined || force === true) {\n      \n    for (var i = 0; i < inline_js.length; i++) {\n      inline_js[i].call(root, root.Bokeh);\n    }\n    if (force === true) {\n        display_loaded();\n      }} else if (Date.now() < root._bokeh_timeout) {\n      setTimeout(run_inline_js, 100);\n    } else if (!root._bokeh_failed_load) {\n      console.log(\"Bokeh: BokehJS failed to load within specified timeout.\");\n      root._bokeh_failed_load = true;\n    } else if (force !== true) {\n      var cell = $(document.getElementById(\"1001\")).parents('.cell').data().cell;\n      cell.output_area.append_execute_result(NB_LOAD_WARNING)\n    }\n\n  }\n\n  if (root._bokeh_is_loading === 0) {\n    console.debug(\"Bokeh: BokehJS loaded, going straight to plotting\");\n    run_inline_js();\n  } else {\n    load_libs(css_urls, js_urls, function() {\n      console.debug(\"Bokeh: BokehJS plotting callback run at\", now());\n      run_inline_js();\n    });\n  }\n}(window));"
     },
     "metadata": {},
     "output_type": "display_data"
    }
   ],
   "source": [
    "from ipyleaflet import Map, Marker,Polyline, FullScreenControl, WidgetControl, MarkerCluster, CircleMarker, basemaps, AntPath\n",
    "from ipywidgets import IntSlider,jslink\n",
    "import gpxpy\n",
    "import geopy.distance as distance\n",
    "from bokeh.plotting import figure, output_file, show\n",
    "from bokeh.io import output_notebook\n",
    "from bokeh.layouts import row, column\n",
    "from functools import reduce\n",
    "from chooser import get_gpx, choose\n",
    "\n",
    "output_notebook()"
   ]
  },
  {
   "cell_type": "markdown",
   "metadata": {},
   "source": [
    "Les cartes qu'on va utiliser :"
   ]
  },
  {
   "cell_type": "code",
   "execution_count": 3,
   "metadata": {},
   "outputs": [
    {
     "name": "stdout",
     "output_type": "stream",
     "text": [
      "Cartes disponibles :\n",
      "0 :  OpenStreetMap\n",
      "1 :  TopoMap\n",
      "2 :  HikeBike\n",
      "3 :  MtbMap\n",
      "Carte: rang ? (0 par défaut) :1\n",
      "carte: TopoMap\n"
     ]
    }
   ],
   "source": [
    "maps={\"OpenStreetMap\":basemaps.OpenStreetMap.Mapnik,\"TopoMap\":basemaps.OpenTopoMap,\\\n",
    "      \"HikeBike\":basemaps.HikeBike,\"MtbMap\":basemaps.MtbMap}\n",
    "name_map,usedmap= choose(maps)\n",
    "print(\"carte:\",name_map)"
   ]
  },
  {
   "cell_type": "markdown",
   "metadata": {},
   "source": [
    "Le fichier des traces gps :"
   ]
  },
  {
   "cell_type": "code",
   "execution_count": 4,
   "metadata": {},
   "outputs": [
    {
     "name": "stdout",
     "output_type": "stream",
     "text": [
      "0 :  ./26_avr._2020_14_20_01.gpx\n",
      "1 :  ./2020-05-04_14-23-26.gpx\n",
      "2 :  ./2020-05-03_14-31-08.gpx\n",
      "3 :  ./2020-04-29_13-47-10.gpx\n",
      "4 :  ./2020-04-28_13-27-38.gpx\n",
      "Fichier.gpx: rang ? 1\n"
     ]
    }
   ],
   "source": [
    "filegpx= get_gpx()"
   ]
  },
  {
   "cell_type": "markdown",
   "metadata": {},
   "source": [
    "On lit le fichier des positions gps, et on récupère les positions sous forme d'une liste de couples (latitude,longitude) :"
   ]
  },
  {
   "cell_type": "code",
   "execution_count": 5,
   "metadata": {},
   "outputs": [],
   "source": [
    "gpx_file= open(filegpx,\"r\")\n",
    "gpx = gpxpy.parse(gpx_file)\n",
    "points=gpx.tracks[0].segments[0].points"
   ]
  },
  {
   "cell_type": "code",
   "execution_count": 5,
   "metadata": {},
   "outputs": [
    {
     "name": "stdout",
     "output_type": "stream",
     "text": [
      "Heure de début : 2020-05-03 12:31:15.478000+00:00 Heure de fin : 2020-05-03 13:37:11.047000+00:00\n"
     ]
    }
   ],
   "source": [
    "print(\"Heure de début :\",gpx.get_time_bounds().start_time,\"Heure de fin :\",gpx.get_time_bounds().end_time)"
   ]
  },
  {
   "cell_type": "markdown",
   "metadata": {},
   "source": [
    "Il faut centrer la carte. Pour cela on calcule la moyenne des latitudes et des longitudes:"
   ]
  },
  {
   "cell_type": "code",
   "execution_count": 6,
   "metadata": {},
   "outputs": [],
   "source": [
    "l=[(p.latitude,p.longitude) for p in points]\n",
    "c=[sum(x) for x in zip(*l)]\n",
    "center=(c[0]/len(l),c[1]/len(l))# le \"centre\" (la moyenne)."
   ]
  },
  {
   "cell_type": "markdown",
   "metadata": {},
   "source": [
    "Et on crée la carte, centrée en \"center\". Le facteur de zoom initial est un peu pifométrique: "
   ]
  },
  {
   "cell_type": "code",
   "execution_count": 7,
   "metadata": {},
   "outputs": [],
   "source": [
    "m = Map(basemap=usedmap,center=center, zoom=15)"
   ]
  },
  {
   "cell_type": "markdown",
   "metadata": {},
   "source": [
    "On ajoute une petite tirette pour le zoom:"
   ]
  },
  {
   "cell_type": "code",
   "execution_count": 8,
   "metadata": {},
   "outputs": [],
   "source": [
    "zoom_slider = IntSlider(description='Zoom:', min=12, max=30, value=15)\n",
    "jslink((zoom_slider, 'value'), (m, 'zoom'))\n",
    "widget_control1 = WidgetControl(widget=zoom_slider, position='topright')\n",
    "m.add_control(widget_control1)"
   ]
  },
  {
   "cell_type": "markdown",
   "metadata": {},
   "source": [
    "Bien. Maintenant on ajoute la trajectoire, qu'on a déja calculée. On ajoute aussi un bouton \"Plein écran\"."
   ]
  },
  {
   "cell_type": "code",
   "execution_count": 9,
   "metadata": {},
   "outputs": [],
   "source": [
    "type_line= \"Ant\" # type de ligne pour la trajectoire (toute autre avaleur que \"Ant\" produit une \"PolyLine\") "
   ]
  },
  {
   "cell_type": "code",
   "execution_count": 10,
   "metadata": {},
   "outputs": [],
   "source": [
    "if type_line == \"Ant\":\n",
    "    line= AntPath(\n",
    "        locations= l,\n",
    "        dash_array=[1, 10],\n",
    "        delay=2000,\n",
    "        color='red',\n",
    "        pulse_color='black'\n",
    "    )\n",
    "else:\n",
    "    line = Polyline(\n",
    "        locations=l,\n",
    "        color=\"red\" ,\n",
    "        fill=False, weight=3\n",
    "    )\n",
    "\n",
    "m.add_control(FullScreenControl())\n",
    "m.add_layer(line)"
   ]
  },
  {
   "cell_type": "markdown",
   "metadata": {},
   "source": [
    "### Quelques calculs: ###\n",
    "\n",
    "- Les distances entre les points successifs. C'est un service fourni par geopy (géodésiques sur l'ellipsoïde terrestre).\n",
    "- La distance globale porcourue.\n",
    "- Un \"marker\" tous les \"delta\" mêtres. "
   ]
  },
  {
   "cell_type": "code",
   "execution_count": 11,
   "metadata": {},
   "outputs": [],
   "source": [
    "delta=1000. # 1 km."
   ]
  },
  {
   "cell_type": "code",
   "execution_count": 12,
   "metadata": {},
   "outputs": [],
   "source": [
    "distance_parcourue=0.0\n",
    "dists=[0.]\n",
    "next = 0.0\n",
    "marks=[]\n",
    "\n",
    "for i,point in enumerate(points[1:]):\n",
    "    new=(point.latitude,point.longitude)\n",
    "    old=(points[i].latitude,points[i].longitude)\n",
    "    d=distance.geodesic(new,old).m\n",
    "    distance_parcourue += d\n",
    "    dists.append(distance_parcourue)\n",
    "    if distance_parcourue >= next:\n",
    "        next += delta\n",
    "        marks.append(Marker(location=(point.latitude,point.longitude)))"
   ]
  },
  {
   "cell_type": "code",
   "execution_count": 13,
   "metadata": {},
   "outputs": [
    {
     "name": "stdout",
     "output_type": "stream",
     "text": [
      "Distance totale parcourue : 2389.5117003176942 mêtres.\n"
     ]
    }
   ],
   "source": [
    "print(\"Distance totale parcourue :\",distance_parcourue,\"mêtres.\")"
   ]
  },
  {
   "cell_type": "markdown",
   "metadata": {},
   "source": [
    "Placer les marqueurs sur la carte:"
   ]
  },
  {
   "cell_type": "code",
   "execution_count": 14,
   "metadata": {},
   "outputs": [],
   "source": [
    "marker_cluster = MarkerCluster(\n",
    "    markers=marks\n",
    ")\n",
    "m.add_layer(marker_cluster);"
   ]
  },
  {
   "cell_type": "markdown",
   "metadata": {},
   "source": [
    "Des marqueurs pour le début et la fin du parcours :"
   ]
  },
  {
   "cell_type": "code",
   "execution_count": 15,
   "metadata": {},
   "outputs": [],
   "source": [
    "circle_marker1 = CircleMarker()\n",
    "circle_marker1.location = (points[-1].latitude,points[-1].longitude)\n",
    "circle_marker1.radius = 7\n",
    "circle_marker1.color = \"red\"\n",
    "circle_marker1.fill_color = \"white\"\n",
    "circle_marker2 = CircleMarker()\n",
    "circle_marker2.location = (points[0].latitude,points[0].longitude)\n",
    "circle_marker2.radius = 7\n",
    "circle_marker2.color = \"green\"\n",
    "circle_marker2.fill_color = \"green\"\n",
    "m.add_layer(circle_marker2)\n",
    "m.add_layer(circle_marker1)"
   ]
  },
  {
   "cell_type": "markdown",
   "metadata": {},
   "source": [
    "### La carte : ###\n",
    "\n",
    "_(zoomez éventuellement pour voir tous les marqueurs)._"
   ]
  },
  {
   "cell_type": "code",
   "execution_count": 16,
   "metadata": {},
   "outputs": [
    {
     "data": {
      "application/vnd.jupyter.widget-view+json": {
       "model_id": "296823a8c52c465cb3190fd964a1f48a",
       "version_major": 2,
       "version_minor": 0
      },
      "text/plain": [
       "Map(center=[45.7702225609756, 4.878134042682927], controls=(ZoomControl(options=['position', 'zoom_in_text', '…"
      ]
     },
     "metadata": {},
     "output_type": "display_data"
    }
   ],
   "source": [
    "m"
   ]
  },
  {
   "cell_type": "markdown",
   "metadata": {},
   "source": [
    "### L'altitude au cours du parcours : ###"
   ]
  },
  {
   "cell_type": "code",
   "execution_count": 17,
   "metadata": {},
   "outputs": [
    {
     "data": {
      "text/html": [
       "\n",
       "\n",
       "\n",
       "\n",
       "\n",
       "\n",
       "  <div class=\"bk-root\" id=\"413b50e2-195a-4654-9d18-9fc078732df0\" data-root-id=\"1002\"></div>\n"
      ]
     },
     "metadata": {},
     "output_type": "display_data"
    },
    {
     "data": {
      "application/javascript": [
       "(function(root) {\n",
       "  function embed_document(root) {\n",
       "    \n",
       "  var docs_json = {\"938c2187-cf2b-4c07-9b40-7ee18e5f8589\":{\"roots\":{\"references\":[{\"attributes\":{\"below\":[{\"id\":\"1013\"}],\"center\":[{\"id\":\"1016\"},{\"id\":\"1020\"},{\"id\":\"1046\"}],\"left\":[{\"id\":\"1017\"}],\"plot_height\":300,\"plot_width\":800,\"renderers\":[{\"id\":\"1038\"}],\"title\":{\"id\":\"1003\"},\"toolbar\":{\"id\":\"1028\"},\"x_range\":{\"id\":\"1005\"},\"x_scale\":{\"id\":\"1009\"},\"y_range\":{\"id\":\"1007\"},\"y_scale\":{\"id\":\"1011\"}},\"id\":\"1002\",\"subtype\":\"Figure\",\"type\":\"Plot\"},{\"attributes\":{\"active_drag\":\"auto\",\"active_inspect\":\"auto\",\"active_multi\":null,\"active_scroll\":\"auto\",\"active_tap\":\"auto\",\"tools\":[{\"id\":\"1021\"},{\"id\":\"1022\"},{\"id\":\"1023\"},{\"id\":\"1024\"},{\"id\":\"1025\"},{\"id\":\"1026\"}]},\"id\":\"1028\",\"type\":\"Toolbar\"},{\"attributes\":{},\"id\":\"1009\",\"type\":\"LinearScale\"},{\"attributes\":{},\"id\":\"1042\",\"type\":\"BasicTickFormatter\"},{\"attributes\":{},\"id\":\"1044\",\"type\":\"BasicTickFormatter\"},{\"attributes\":{},\"id\":\"1025\",\"type\":\"ResetTool\"},{\"attributes\":{\"data\":{\"x\":[0.0,13.147567320589598,18.811556490179,29.845675275108263,41.99598460455116,66.8246015393416,82.56013224315362,108.14575007223412,127.22898515783383,140.71058520268147,157.48976367460338,172.0189439882093,184.6189501582595,196.15493398163767,208.48791041119992,226.72620346341978,241.89311692088884,256.69780967830627,277.15394836597636,291.26557871813253,305.8255121078737,323.8625462134958,337.8832893710983,354.56850298771946,367.63822561386166,382.04956008320346,396.7668165710166,417.7496212035586,432.72463969754017,450.3285370860707,471.11012461587626,486.56518026783147,504.92436101174115,521.2246361131783,535.4436287838089,554.6213752239929,571.8784119206746,584.0665275831774,606.7129975910466,627.1675760324806,643.8834663703193,660.8905347762551,676.2170388261583,695.8753227230044,710.0691014539875,721.3090096956474,731.7704049987464,744.4134734438106,758.5703312544705,775.9968067225545,796.9497430862316,812.2209827532362,830.0075973114515,842.2054421504395,858.6601615675694,878.3385665673517,891.9805076207466,906.0033667247878,922.3693758922262,935.9927152969392,953.9557629066926,974.4883474530686,992.3353274604127,1009.8872848763057,1028.3996278213494,1049.7824903795533,1061.277212030327,1076.1766198203545,1088.9183668579772,1110.1210946351796,1125.7680750288944,1136.0505061354518,1138.6043890713897,1147.9727527854316,1158.683759812943,1165.9864554795126,1177.7653614792714,1189.1100309979727,1207.464783227541,1227.8007853511363,1248.4557270620492,1264.5650597699344,1288.9576120577685,1313.0595309826122,1332.653487212385,1347.3746628914337,1358.7601955833527,1381.3956531854537,1392.3544191322567,1412.1367096999493,1431.3280349679028,1447.356332089665,1459.7905524739879,1474.2691230521825,1496.456319567341,1509.1452414089256,1515.96605429669,1530.1115602779134,1544.9413869861585,1562.9772600257834,1581.3279234588783,1593.3909968073854,1607.3332064767267,1616.045107910458,1625.6244518650255,1641.4011645926917,1660.1376810049032,1680.1042818759627,1699.369232510774,1719.4515054005496,1734.579986154547,1745.0423395154749,1766.855466839323,1782.8888851063343,1794.7656511665111,1809.0452581455834,1820.8392004132727,1830.9433310708725,1858.3024780402136,1868.8595899468166,1883.6579067265284,1900.0777533034498,1915.3302246388582,1934.6197213516061,1952.5937375952071,1963.474488476263,1985.4114082431577,2002.9858693751964,2011.7989504715924,2027.3299734468874,2043.8994275261148,2062.265866280985,2077.3426296036323,2095.153718307917,2110.305977611555,2126.081553404134,2140.6614952991017,2156.602805969125,2173.0398331865954,2188.5570381757298,2208.4337606794084,2224.7464349866104,2240.109979667858,2248.8982168703033,2262.334333492197,2280.7498504044997,2294.2096911465014,2310.3872571759316,2328.609849415969,2340.100761723072,2346.524724879101,2351.3983510610024,2353.6609178135295,2355.1100110006214,2362.1711364972016,2375.108376266513,2376.33100115436,2378.874726398075,2379.960031466091,2381.4523260161004,2385.4039330022833,2386.7669684003035,2389.5117003176942,2389.5117003176942],\"y\":[172.45,174.28,178.08,178.98,179.58,176.96,172.64,175.85,176.1,171.1,169.83,169.59,169.55,169.73,169.41,169.35,169.67,170.09,169.65,169.58,169.56,169.63,169.65,169.66,169.66,169.55,169.46,169.51,169.61,169.57,169.51,169.34,169.32,169.35,169.33,173.51,177.11,171.07,169.35,171.14,172.3,172.99,170.79,169.78,169.53,169.48,169.47,169.52,169.56,169.56,169.84,170.17,170.29,170.47,170.66,170.58,170.42,170.38,170.37,170.44,170.48,170.43,170.4,170.38,170.5,170.54,170.49,170.51,170.48,170.58,170.82,171.02,171.13,171.43,171.28,171.21,171.18,179.56,189.18,174.8,172.09,171.58,170.87,174.86,172.05,171.03,170.78,171.23,171.48,170.83,170.71,170.76,171.01,173.0,175.14,172.4,171.37,173.86,174.63,171.17,170.61,170.51,170.49,170.49,170.48,170.48,172.88,173.62,172.15,171.41,171.09,170.91,170.82,170.88,170.97,171.12,171.4,171.47,172.6,172.09,173.65,175.67,175.49,175.8,179.13,177.9,175.45,178.16,180.72,176.37,180.78,184.52,178.14,173.84,174.95,172.81,172.76,174.37,178.36,173.62,172.56,178.32,180.14,180.45,180.56,180.6,180.6,178.51,173.24,172.28,173.82,172.66,172.23,174.65,173.42,176.52,176.67,181.61,180.38,176.72,178.27,183.74,180.72,177.21]},\"selected\":{\"id\":\"1053\"},\"selection_policy\":{\"id\":\"1054\"}},\"id\":\"1035\",\"type\":\"ColumnDataSource\"},{\"attributes\":{\"label\":{\"value\":\"Altitude (m\\u00e8tres)\"},\"renderers\":[{\"id\":\"1038\"}]},\"id\":\"1047\",\"type\":\"LegendItem\"},{\"attributes\":{\"bottom_units\":\"screen\",\"fill_alpha\":0.5,\"fill_color\":\"lightgrey\",\"left_units\":\"screen\",\"level\":\"overlay\",\"line_alpha\":1.0,\"line_color\":\"black\",\"line_dash\":[4,4],\"line_width\":2,\"render_mode\":\"css\",\"right_units\":\"screen\",\"top_units\":\"screen\"},\"id\":\"1027\",\"type\":\"BoxAnnotation\"},{\"attributes\":{},\"id\":\"1005\",\"type\":\"DataRange1d\"},{\"attributes\":{\"axis\":{\"id\":\"1017\"},\"dimension\":1,\"ticker\":null},\"id\":\"1020\",\"type\":\"Grid\"},{\"attributes\":{},\"id\":\"1026\",\"type\":\"HelpTool\"},{\"attributes\":{},\"id\":\"1054\",\"type\":\"UnionRenderers\"},{\"attributes\":{\"overlay\":{\"id\":\"1027\"}},\"id\":\"1023\",\"type\":\"BoxZoomTool\"},{\"attributes\":{},\"id\":\"1053\",\"type\":\"Selection\"},{\"attributes\":{},\"id\":\"1014\",\"type\":\"BasicTicker\"},{\"attributes\":{},\"id\":\"1021\",\"type\":\"PanTool\"},{\"attributes\":{},\"id\":\"1022\",\"type\":\"WheelZoomTool\"},{\"attributes\":{},\"id\":\"1007\",\"type\":\"DataRange1d\"},{\"attributes\":{\"text\":\"Altitude /distance\"},\"id\":\"1003\",\"type\":\"Title\"},{\"attributes\":{\"items\":[{\"id\":\"1047\"}]},\"id\":\"1046\",\"type\":\"Legend\"},{\"attributes\":{},\"id\":\"1018\",\"type\":\"BasicTicker\"},{\"attributes\":{\"data_source\":{\"id\":\"1035\"},\"glyph\":{\"id\":\"1036\"},\"hover_glyph\":null,\"muted_glyph\":null,\"nonselection_glyph\":{\"id\":\"1037\"},\"selection_glyph\":null,\"view\":{\"id\":\"1039\"}},\"id\":\"1038\",\"type\":\"GlyphRenderer\"},{\"attributes\":{\"source\":{\"id\":\"1035\"}},\"id\":\"1039\",\"type\":\"CDSView\"},{\"attributes\":{\"line_alpha\":0.1,\"line_color\":\"#1f77b4\",\"line_width\":2,\"x\":{\"field\":\"x\"},\"y\":{\"field\":\"y\"}},\"id\":\"1037\",\"type\":\"Line\"},{\"attributes\":{\"axis_label\":\"altitude\",\"formatter\":{\"id\":\"1044\"},\"ticker\":{\"id\":\"1018\"}},\"id\":\"1017\",\"type\":\"LinearAxis\"},{\"attributes\":{},\"id\":\"1011\",\"type\":\"LinearScale\"},{\"attributes\":{\"line_color\":\"#1f77b4\",\"line_width\":2,\"x\":{\"field\":\"x\"},\"y\":{\"field\":\"y\"}},\"id\":\"1036\",\"type\":\"Line\"},{\"attributes\":{},\"id\":\"1024\",\"type\":\"SaveTool\"},{\"attributes\":{\"axis_label\":\"Distance parcourue\",\"formatter\":{\"id\":\"1042\"},\"ticker\":{\"id\":\"1014\"}},\"id\":\"1013\",\"type\":\"LinearAxis\"},{\"attributes\":{\"axis\":{\"id\":\"1013\"},\"ticker\":null},\"id\":\"1016\",\"type\":\"Grid\"}],\"root_ids\":[\"1002\"]},\"title\":\"Bokeh Application\",\"version\":\"2.0.2\"}};\n",
       "  var render_items = [{\"docid\":\"938c2187-cf2b-4c07-9b40-7ee18e5f8589\",\"root_ids\":[\"1002\"],\"roots\":{\"1002\":\"413b50e2-195a-4654-9d18-9fc078732df0\"}}];\n",
       "  root.Bokeh.embed.embed_items_notebook(docs_json, render_items);\n",
       "\n",
       "  }\n",
       "  if (root.Bokeh !== undefined) {\n",
       "    embed_document(root);\n",
       "  } else {\n",
       "    var attempts = 0;\n",
       "    var timer = setInterval(function(root) {\n",
       "      if (root.Bokeh !== undefined) {\n",
       "        clearInterval(timer);\n",
       "        embed_document(root);\n",
       "      } else {\n",
       "        attempts++;\n",
       "        if (attempts > 100) {\n",
       "          clearInterval(timer);\n",
       "          console.log(\"Bokeh: ERROR: Unable to run BokehJS code because BokehJS library is missing\");\n",
       "        }\n",
       "      }\n",
       "    }, 10, root)\n",
       "  }\n",
       "})(window);"
      ],
      "application/vnd.bokehjs_exec.v0+json": ""
     },
     "metadata": {
      "application/vnd.bokehjs_exec.v0+json": {
       "id": "1002"
      }
     },
     "output_type": "display_data"
    }
   ],
   "source": [
    "#p=pplot.plot(dists,[point.elevation for point in points])\n",
    "p = figure(title=\"Altitude /distance\", x_axis_label='Distance parcourue', y_axis_label='altitude',\n",
    "           width=800,height=300)\n",
    "p.line(dists,[point.elevation for point in points] , legend_label=\"Altitude (mètres)\", line_width=2)\n",
    "show(p)"
   ]
  },
  {
   "cell_type": "markdown",
   "metadata": {},
   "source": [
    "#### Cumul des montées et des descentes : ####\n",
    "\n",
    "Attention le gps n'est pas très précis pour les altitudes !"
   ]
  },
  {
   "cell_type": "code",
   "execution_count": 18,
   "metadata": {},
   "outputs": [],
   "source": [
    "z=[x[1]-x[0] for x in zip([point.elevation for point in points][1:],[point.elevation for point in points][:-1])]\n",
    "up= reduce(lambda a,b: a+max(b,0),z)\n",
    "down= reduce(lambda a,b: a+max(-b,0),z)"
   ]
  },
  {
   "cell_type": "code",
   "execution_count": 19,
   "metadata": {},
   "outputs": [
    {
     "name": "stdout",
     "output_type": "stream",
     "text": [
      "montée : 108.91 , descente : 111.84 (mêtres).\n"
     ]
    }
   ],
   "source": [
    "print(\"montée :\",up,\", descente :\",down,\"(mêtres).\")"
   ]
  },
  {
   "cell_type": "markdown",
   "metadata": {},
   "source": [
    "### Vitesse (en km/h) en fonction du temps (en secondes) : ###"
   ]
  },
  {
   "cell_type": "code",
   "execution_count": 20,
   "metadata": {},
   "outputs": [],
   "source": [
    "start= points[0].time\n",
    "z=[((x[0]-x[1]).total_seconds(),x[1]) for x in zip([point.time for point in points][1:], \\\n",
    "                                                   [point.time for point in points][:-1])]\n",
    "d=[distance.geodesic((x[1].latitude,x[1].longitude),(x[0].latitude,x[0].longitude)).m \\\n",
    "   for x in zip(points[1:],points[:-1])]\n",
    "vt=[(x[0]/x[1][0],(x[1][1]-start).total_seconds())  for x in zip(d,z) if x[1][0]>0]"
   ]
  },
  {
   "cell_type": "code",
   "execution_count": 21,
   "metadata": {
    "scrolled": true
   },
   "outputs": [
    {
     "data": {
      "text/html": [
       "\n",
       "\n",
       "\n",
       "\n",
       "\n",
       "\n",
       "  <div class=\"bk-root\" id=\"6745db65-19f2-42d9-8965-d2e27568fc55\" data-root-id=\"1104\"></div>\n"
      ]
     },
     "metadata": {},
     "output_type": "display_data"
    },
    {
     "data": {
      "application/javascript": [
       "(function(root) {\n",
       "  function embed_document(root) {\n",
       "    \n",
       "  var docs_json = {\"3be99d0e-543c-445a-8ef1-cf7466dec1d2\":{\"roots\":{\"references\":[{\"attributes\":{\"below\":[{\"id\":\"1115\"}],\"center\":[{\"id\":\"1118\"},{\"id\":\"1122\"},{\"id\":\"1148\"}],\"left\":[{\"id\":\"1119\"}],\"plot_height\":300,\"plot_width\":800,\"renderers\":[{\"id\":\"1140\"}],\"title\":{\"id\":\"1105\"},\"toolbar\":{\"id\":\"1130\"},\"x_range\":{\"id\":\"1107\"},\"x_scale\":{\"id\":\"1111\"},\"y_range\":{\"id\":\"1109\"},\"y_scale\":{\"id\":\"1113\"}},\"id\":\"1104\",\"subtype\":\"Figure\",\"type\":\"Plot\"},{\"attributes\":{},\"id\":\"1116\",\"type\":\"BasicTicker\"},{\"attributes\":{},\"id\":\"1120\",\"type\":\"BasicTicker\"},{\"attributes\":{},\"id\":\"1111\",\"type\":\"LinearScale\"},{\"attributes\":{\"overlay\":{\"id\":\"1129\"}},\"id\":\"1125\",\"type\":\"BoxZoomTool\"},{\"attributes\":{\"bottom_units\":\"screen\",\"fill_alpha\":0.5,\"fill_color\":\"lightgrey\",\"left_units\":\"screen\",\"level\":\"overlay\",\"line_alpha\":1.0,\"line_color\":\"black\",\"line_dash\":[4,4],\"line_width\":2,\"render_mode\":\"css\",\"right_units\":\"screen\",\"top_units\":\"screen\"},\"id\":\"1129\",\"type\":\"BoxAnnotation\"},{\"attributes\":{\"axis_label\":\"temps\",\"formatter\":{\"id\":\"1143\"},\"ticker\":{\"id\":\"1116\"}},\"id\":\"1115\",\"type\":\"LinearAxis\"},{\"attributes\":{},\"id\":\"1113\",\"type\":\"LinearScale\"},{\"attributes\":{},\"id\":\"1107\",\"type\":\"DataRange1d\"},{\"attributes\":{\"data_source\":{\"id\":\"1137\"},\"glyph\":{\"id\":\"1138\"},\"hover_glyph\":null,\"muted_glyph\":null,\"nonselection_glyph\":{\"id\":\"1139\"},\"selection_glyph\":null,\"view\":{\"id\":\"1141\"}},\"id\":\"1140\",\"type\":\"GlyphRenderer\"},{\"attributes\":{},\"id\":\"1145\",\"type\":\"BasicTickFormatter\"},{\"attributes\":{\"axis\":{\"id\":\"1115\"},\"ticker\":null},\"id\":\"1118\",\"type\":\"Grid\"},{\"attributes\":{\"text\":\"Vitesse / temps\"},\"id\":\"1105\",\"type\":\"Title\"},{\"attributes\":{\"data\":{\"x\":[0.0,9.112,19.562,29.522,39.477,48.522,58.522,69.316,78.399,87.522,98.522,108.522,117.617,127.522,136.755,146.522,156.28,165.522,175.522,184.78,194.522,204.522,213.655,224.522,236.522,247.522,257.522,267.522,277.522,287.522,297.522,307.339,316.522,325.634,335.522,346.522,356.522,367.522,377.522,387.522,398.522,408.522,417.621,427.522,436.58,448.522,457.773,467.522,477.522,488.522,499.522,509.522,518.782,529.522,539.522,549.522,559.522,569.522,579.522,588.631,599.522,609.417,619.522,630.522,640.522,650.522,660.657,669.799,679.576,690.522,699.796,709.522,719.522,729.522,739.522,749.522,758.54,769.522,779.522,790.522,801.522,811.522,820.68,830.522,840.522,850.201,859.522,869.259,879.522,888.714,897.718,907.522,918.522,928.522,937.572,946.575,956.7,965.732,975.522,984.793,994.522,1005.522,1014.779,1026.522,1037.522,1047.615,1058.522,1068.522,1078.522,1089.522,1099.522,1110.522,1120.522,1130.132,1139.522,1149.522,1160.522,1170.052,1179.522,1189.522,1200.522,1211.522,1222.522,1233.522,1243.522,1254.522,1263.631,1272.753,1282.352,1291.522,1300.696,1310.522,1320.522,1331.522,1342.522,1352.472,1361.522,1371.522,1381.522,1390.797,1400.298,1409.522,1418.72,1429.522,1439.522,1449.522,1460.522,1470.522,1480.522,1489.774,1500.522,1509.676,1519.522,1529.522,1539.522,1549.321,1558.522,1569.522,1580.522,1591.522,1601.522,1611.522,1621.522,1632.522,1643.522,1653.522,1664.522,1675.522,1685.291,1694.522,1706.522,1716.522,1726.522,1736.522,1747.522,1756.78,1766.522,1776.522,1785.736,1795.236,1804.522,1813.539,1824.522,1834.522,1845.522,1855.522,1865.522,1875.522,1885.522,1895.522,1905.522,1915.156,1924.522,1934.115,1944.522,1955.522,1965.522,1976.522,1986.522,1996.522,2005.716,2015.522,2025.522,2035.522,2045.16,2054.522,2064.522,2075.522,2085.522,2095.522,2104.638,2114.522,2124.522,2134.522,2145.522,2155.522,2165.522,2176.522,2185.78,2195.522,2205.522,2215.522,2225.522,2235.522,2245.522,2257.522,2266.637,2276.522,2287.522,2297.14,2307.522,2318.522,2329.522,2339.522,2351.522,2361.522,2370.695,2380.522,2390.522,2400.522,2411.522,2421.522,2432.522,2442.522,2453.522,2463.522,2473.522,2484.522,2494.522,2504.392,2513.522,2523.658,2533.522,2543.522,2554.522,2564.655,2574.522,2584.523,2594.523,2604.523,2614.523,2624.523,2635.523,2645.692,2655.523,2665.523,2676.523,2686.192,2696.523,2706.523,2716.359,2725.523,2735.523,2745.412,2754.523,2764.523,2774.523,2783.718,2794.523,2804.523,2814.523,2824.495,2834.523,2845.523,2856.523,2867.523,2877.523,2887.523,2896.68,2906.523,2916.672,2926.522,2935.523,2944.594,2955.523,2965.36,2974.523,2984.523,2994.523,3003.795,3013.195,3023.523,3032.782,3042.523,3052.394,3063.523,3075.523,3086.523,3096.523,3108.523,3118.454,3128.523,3138.523,3147.638,3156.681,3166.522,3177.523,3186.757,3196.355,3206.523,3215.712,3225.523,3235.523,3244.697,3253.977,3264.523,3273.672,3283.523,3293.237,3302.523,3313.523,3324.523,3334.372,3344.523,3355.523,3364.537,3374.523,3384.459,3393.523,3402.714,3413.523,3424.523,3435.523,3445.523,3455.523,3465.523,3475.523,3486.523,3495.635,3504.796,3514.117,3523.523,3533.523,3542.817,3552.523,3561.734,3572.523,3582.523,3592.123,3601.523,3611.261,3621.523,3631.523,3641.523,3651.523,3661.523,3671.523,3680.7,3690.523,3699.541,3710.523,3720.522,3729.523,3739.523,3748.697,3758.523,3769.523,3779.523,3789.523,3798.675,3809.523,3820.523,3830.523,3840.522,3849.523,3859.316,3868.416,3877.523,3887.523,3898.523,3909.523,3919.523,3929.523,3938.933],\"y\":[4.418668042193743,3.1407294007512254,3.318668507578098,7.380893582535252,5.6507690755899365,7.754894644486212,4.648155283523085,4.325355925344262,1.7554479880099556,3.792125542188587,4.900943989592686,5.367315713536474,4.214925267050393,7.504378069496327,6.038886365043891,6.373631928962785,3.532603056767823,4.27602969790717,5.268652060987084,4.212347385420145,4.732567784387481,5.170556994019906,3.590151095698904,4.514127646581169,4.141820081481564,5.659577240554018,5.9747950756825094,7.679375885743226,8.43960044458242,3.4512995124311576,4.877397936418495,4.628770303315562,3.613897017546458,2.9805072282984852,4.859605046001076,4.945365984831232,6.843156626290118,8.03321104939647,5.263257330551951,4.884584361738253,6.019526766747753,3.8558195165846225,3.8193952930678385,5.87769888201655,4.6245195825474,6.759767990255724,3.3885491617460035,4.6868669257518745,1.5436675600591658,5.2754134444587395,7.540597035147943,6.61231320725074,4.1469661043908355,5.968707474911188,3.2666267841952967,3.29562476387535,5.629523475222474,5.4668126882234045,7.7382232905314865,4.492477781639477,7.086921936820768,5.478832985860427,5.77798868450608,5.945633670630565,5.2363541002702725,6.476123278626545,6.485491857453178,4.257436063243222,4.431593876722095,6.430750362269805,5.124208883214974,3.7180907889847616,4.310159492231054,5.33149510571351,3.822740420968765,6.655468735762454,3.161338969042652,5.829072135015268,6.164461458370098,6.319474251726599,6.1115022886907315,6.276414625015762,3.903261051434526,4.997262420127334,4.920218738368894,2.8810584747511263,4.6924608868609115,5.02079139470811,13.170463314189304,3.8471455049014,5.351033253873146,5.984287222580326,5.473621170913812,8.254956027330344,6.116187975828636,7.256938357398345,6.116002768069608,4.988671655036877,5.842208199468988,3.442816747202972,4.449863228291551,8.31320121450895,4.052682855181908,3.9602545769540427,9.813273584800195,7.625835748770037,8.046221957946978,3.4060180874802595,2.7206660090502717,4.860771539953985,3.0713478455501124,3.419363380574803,6.0823847816456595,4.021766063322202,5.748816599543352,3.448670786079444,4.396634316692364,5.08045226686845,4.0348623355081745,5.074513801721418,3.4784991616151593,4.557815602030363,7.175670677336618,6.9269173130415345,6.412487614589959,6.545137288884882,5.506795164584187,7.190858417319984,5.150410570597336,7.285363928399983,4.589190111438025,4.334717502190733,6.073446819968117,5.547907549953522,4.241246609866264,3.524056950794794,4.9796395824895425,3.6790850053031434,6.79878757131369,8.752585118594626,5.282945373541141,7.5460952857436725,3.965952285223325,5.478873615571686,5.938443103427124,5.1682491439793985,5.309527648521516,6.038113024476411,7.048644354970572,5.213021263179487,7.108749990152151,2.375375321452399,4.367755126122365,2.663323301970159,10.167093012015824,4.030107485799984,4.471202247100544,5.9575480644422685,6.083920481038181,4.482574523056641,3.7822290772354132,4.453371489816932,4.01223496935039,3.9165255410456425,5.367992921835351,6.013807041934909,6.1641589855161625,4.43504637524268,2.314659096959372,6.875981937454624,4.436173493483346,5.0939078308724985,6.417223530206551,6.547937602842993,10.525159715985488,3.9916269267592708,6.0886172939587935,8.751087262978805,3.281926305671764,3.583716454345541,5.770809141268108,4.607134197053663,4.9634020229530424,5.342122910322394,5.637885765894706,7.023004096117601,4.262591021122625,4.805891063904635,3.965270151030339,3.993420841474017,7.226055999089458,4.693261904370787,5.455819246111629,3.9584309258867045,6.680418277808992,7.341016800044974,5.03629404805343,5.450463962699829,5.46882950327247,4.070294530114415,4.284126217660449,4.5804583319939915,7.2390185420863125,7.3435338962332475,4.685687793613841,4.155520862180146,3.38074775252131,2.7995676084582892,5.1375621003613405,4.494860194782106,3.933335997615262,7.542727619501531,8.214404636684625,4.796277921085643,4.733461433868946,5.607470198405444,5.560441550420193,7.082122025106182,4.533638902587355,5.105732072898239,5.941776735213594,4.665348289817309,6.4026129711212025,4.645631271889334,5.117263592776999,6.5903279569886015,4.674365073482056,4.246834632315835,5.11912591449969,4.500465703564637,5.054308106663778,5.722367845157466,6.419732391248839,5.056059808653701,4.733553598385071,6.376721107437325,3.7627836223436515,5.812280948602482,5.7048242418370565,5.141288929235012,6.523059507328639,5.47432203058054,4.729049348783048,4.140352513978417,6.266528004285975,5.921895248247551,7.71313369472312,4.897504471866345,8.468641558149368,5.9808543959489855,4.578663285153931,4.991601511011747,6.176577892078016,4.663430862472528,6.164395088129115,3.884670665063085,4.891288508010415,5.696632608918911,6.75593227297982,4.731378121718521,6.290827833828099,5.167090183243513,5.218747391889759,4.340881250477341,4.798327214766178,4.740822604804344,7.154843870833239,4.801056159930581,4.199737190952031,5.333493222292341,3.783640810931334,4.844891541073064,5.518359180318137,3.8776706877613836,5.370768072199053,5.654101220927885,6.510521278571484,5.2207499433773865,6.5476156492283355,2.8368067531978967,4.886067398241895,3.5287043734769887,7.6950192341779955,5.635560095038463,5.348767097768594,5.006203048728779,3.9841272314107856,6.398420225063556,4.8143177819474925,7.4383401445356405,3.8901347157465906,5.693883842840043,7.8558268179588335,5.464867627224079,7.3276537999447555,4.879715502009059,5.308426321028408,5.331637393153389,6.6987782328648855,5.339217090914125,4.004947827648639,5.893604656042505,3.881402654862418,6.0704860124014655,4.878260593774798,5.0168147681689845,5.331269652344963,4.50531281201372,5.492678279877621,5.721173284505627,4.300778096681356,5.4076148003571385,6.538577478287562,5.208815060128107,4.024911372156803,5.267773893999682,7.093405315903853,6.024086629619223,4.831986455907097,6.015545609848498,4.8268651834178575,5.973790089555716,6.3668014846462135,5.06910322642275,4.123076880475902,4.960239304515091,4.4370675370151424,7.715086861027343,3.7608913773117725,5.8453175044520504,6.313278853290236,6.138796283393127,4.612610489015792,5.330529023903323,6.043469921902105,5.716736064334113,6.672725060151454,3.936997142692193,5.844601325333979,3.9632736730102778,4.967060826369728,7.738412791865881,5.7686636997355505,5.357671494636721,6.994190870819783,4.889469339867506,4.880581152890371,5.68529005920322,9.6613267975109,7.550657936507938,3.7033294666001493,4.379419663310354,5.702473014653125,3.7214868834348565,5.165817254281129,3.588087995128277,6.2898746139388075,6.477665479249998,7.023026538683998,6.502457259551702,2.353290762734373,5.299627277622477,4.864242367741214,5.142748046811945,3.2894488435047653,3.8995073292466755,6.053863994130235,4.406301093272208,5.547070975490867,6.37419089926623,5.094348875417237,4.620819532947745,4.950488749149155,4.917832342015459,5.263935464372519,4.022174858744558,1.9629122339915344,3.6615350456331246,6.024871471873502,4.266641999207624,5.743551326037529,5.41663407858628,3.7380996031422997,5.000220443769602,7.945142487014236,6.364762285083314,8.593710817943313,6.817834219903653,3.9046973213893095,3.7018909962959237,2.568843359088194,1.2907380393231078,2.5331643201756284,0.9438379418478587]},\"selected\":{\"id\":\"1164\"},\"selection_policy\":{\"id\":\"1163\"}},\"id\":\"1137\",\"type\":\"ColumnDataSource\"},{\"attributes\":{},\"id\":\"1109\",\"type\":\"DataRange1d\"},{\"attributes\":{\"axis_label\":\"Vitesse (km/h)\",\"formatter\":{\"id\":\"1145\"},\"ticker\":{\"id\":\"1120\"}},\"id\":\"1119\",\"type\":\"LinearAxis\"},{\"attributes\":{\"axis\":{\"id\":\"1119\"},\"dimension\":1,\"ticker\":null},\"id\":\"1122\",\"type\":\"Grid\"},{\"attributes\":{},\"id\":\"1124\",\"type\":\"WheelZoomTool\"},{\"attributes\":{\"items\":[{\"id\":\"1149\"}]},\"id\":\"1148\",\"type\":\"Legend\"},{\"attributes\":{},\"id\":\"1123\",\"type\":\"PanTool\"},{\"attributes\":{\"active_drag\":\"auto\",\"active_inspect\":\"auto\",\"active_multi\":null,\"active_scroll\":\"auto\",\"active_tap\":\"auto\",\"tools\":[{\"id\":\"1123\"},{\"id\":\"1124\"},{\"id\":\"1125\"},{\"id\":\"1126\"},{\"id\":\"1127\"},{\"id\":\"1128\"}]},\"id\":\"1130\",\"type\":\"Toolbar\"},{\"attributes\":{},\"id\":\"1128\",\"type\":\"HelpTool\"},{\"attributes\":{\"source\":{\"id\":\"1137\"}},\"id\":\"1141\",\"type\":\"CDSView\"},{\"attributes\":{},\"id\":\"1126\",\"type\":\"SaveTool\"},{\"attributes\":{},\"id\":\"1127\",\"type\":\"ResetTool\"},{\"attributes\":{\"line_alpha\":0.1,\"line_color\":\"#1f77b4\",\"line_width\":2,\"x\":{\"field\":\"x\"},\"y\":{\"field\":\"y\"}},\"id\":\"1139\",\"type\":\"Line\"},{\"attributes\":{\"line_color\":\"#1f77b4\",\"line_width\":2,\"x\":{\"field\":\"x\"},\"y\":{\"field\":\"y\"}},\"id\":\"1138\",\"type\":\"Line\"},{\"attributes\":{},\"id\":\"1163\",\"type\":\"UnionRenderers\"},{\"attributes\":{},\"id\":\"1164\",\"type\":\"Selection\"},{\"attributes\":{\"label\":{\"value\":\"Vitesse\"},\"renderers\":[{\"id\":\"1140\"}]},\"id\":\"1149\",\"type\":\"LegendItem\"},{\"attributes\":{},\"id\":\"1143\",\"type\":\"BasicTickFormatter\"}],\"root_ids\":[\"1104\"]},\"title\":\"Bokeh Application\",\"version\":\"2.0.2\"}};\n",
       "  var render_items = [{\"docid\":\"3be99d0e-543c-445a-8ef1-cf7466dec1d2\",\"root_ids\":[\"1104\"],\"roots\":{\"1104\":\"6745db65-19f2-42d9-8965-d2e27568fc55\"}}];\n",
       "  root.Bokeh.embed.embed_items_notebook(docs_json, render_items);\n",
       "\n",
       "  }\n",
       "  if (root.Bokeh !== undefined) {\n",
       "    embed_document(root);\n",
       "  } else {\n",
       "    var attempts = 0;\n",
       "    var timer = setInterval(function(root) {\n",
       "      if (root.Bokeh !== undefined) {\n",
       "        clearInterval(timer);\n",
       "        embed_document(root);\n",
       "      } else {\n",
       "        attempts++;\n",
       "        if (attempts > 100) {\n",
       "          clearInterval(timer);\n",
       "          console.log(\"Bokeh: ERROR: Unable to run BokehJS code because BokehJS library is missing\");\n",
       "        }\n",
       "      }\n",
       "    }, 10, root)\n",
       "  }\n",
       "})(window);"
      ],
      "application/vnd.bokehjs_exec.v0+json": ""
     },
     "metadata": {
      "application/vnd.bokehjs_exec.v0+json": {
       "id": "1104"
      }
     },
     "output_type": "display_data"
    }
   ],
   "source": [
    "#v=pplot.plot([v[1] for v in vt],[v[0]*3.6 for v in vt])\n",
    "pv = figure(title=\"Vitesse / temps\", x_axis_label='temps', y_axis_label='Vitesse (km/h)',width=800,height=300)\n",
    "pv.line([v[1] for v in vt],[v[0]*3.6 for v in vt], legend_label=\"Vitesse\", line_width=2)\n",
    "show(pv)"
   ]
  },
  {
   "cell_type": "markdown",
   "metadata": {},
   "source": [
    "### Vitesse moyenne : ###"
   ]
  },
  {
   "cell_type": "code",
   "execution_count": 22,
   "metadata": {},
   "outputs": [
    {
     "name": "stdout",
     "output_type": "stream",
     "text": [
      "    5.27 km/h.\n"
     ]
    }
   ],
   "source": [
    "print(\"%8.2f\"% (3.6*distance_parcourue/(points[-1].time - points[0].time).total_seconds()),\"km/h.\")"
   ]
  },
  {
   "cell_type": "markdown",
   "metadata": {},
   "source": [
    "Vitesse en fonction de la déclivité"
   ]
  },
  {
   "cell_type": "code",
   "execution_count": 40,
   "metadata": {},
   "outputs": [
    {
     "data": {
      "text/html": [
       "\n",
       "\n",
       "\n",
       "\n",
       "\n",
       "\n",
       "  <div class=\"bk-root\" id=\"abc56f05-ccf4-4793-b0fe-954628b907d5\" data-root-id=\"2292\"></div>\n"
      ]
     },
     "metadata": {},
     "output_type": "display_data"
    },
    {
     "data": {
      "application/javascript": [
       "(function(root) {\n",
       "  function embed_document(root) {\n",
       "    \n",
       "  var docs_json = {\"6a7389a2-495e-4c2a-89fa-36dab75dacc4\":{\"roots\":{\"references\":[{\"attributes\":{\"below\":[{\"id\":\"2303\"}],\"center\":[{\"id\":\"2306\"},{\"id\":\"2310\"}],\"left\":[{\"id\":\"2307\"}],\"plot_height\":300,\"plot_width\":800,\"renderers\":[{\"id\":\"2328\"}],\"title\":{\"id\":\"2293\"},\"toolbar\":{\"id\":\"2318\"},\"x_range\":{\"id\":\"2295\"},\"x_scale\":{\"id\":\"2299\"},\"y_range\":{\"id\":\"2297\"},\"y_scale\":{\"id\":\"2301\"}},\"id\":\"2292\",\"subtype\":\"Figure\",\"type\":\"Plot\"},{\"attributes\":{\"fill_alpha\":{\"value\":0.5},\"fill_color\":{\"value\":\"red\"},\"line_alpha\":{\"value\":0.5},\"line_color\":{\"value\":\"red\"},\"size\":{\"units\":\"screen\",\"value\":6},\"x\":{\"field\":\"x\"},\"y\":{\"field\":\"y\"}},\"id\":\"2326\",\"type\":\"Circle\"},{\"attributes\":{\"bottom_units\":\"screen\",\"fill_alpha\":0.5,\"fill_color\":\"lightgrey\",\"left_units\":\"screen\",\"level\":\"overlay\",\"line_alpha\":1.0,\"line_color\":\"black\",\"line_dash\":[4,4],\"line_width\":2,\"render_mode\":\"css\",\"right_units\":\"screen\",\"top_units\":\"screen\"},\"id\":\"2317\",\"type\":\"BoxAnnotation\"},{\"attributes\":{\"axis\":{\"id\":\"2307\"},\"dimension\":1,\"ticker\":null},\"id\":\"2310\",\"type\":\"Grid\"},{\"attributes\":{},\"id\":\"2297\",\"type\":\"DataRange1d\"},{\"attributes\":{\"source\":{\"id\":\"2325\"}},\"id\":\"2329\",\"type\":\"CDSView\"},{\"attributes\":{},\"id\":\"2311\",\"type\":\"PanTool\"},{\"attributes\":{\"data_source\":{\"id\":\"2325\"},\"glyph\":{\"id\":\"2326\"},\"hover_glyph\":null,\"muted_glyph\":null,\"nonselection_glyph\":{\"id\":\"2327\"},\"selection_glyph\":null,\"view\":{\"id\":\"2329\"}},\"id\":\"2328\",\"type\":\"GlyphRenderer\"},{\"attributes\":{},\"id\":\"2314\",\"type\":\"SaveTool\"},{\"attributes\":{},\"id\":\"2316\",\"type\":\"HelpTool\"},{\"attributes\":{\"axis\":{\"id\":\"2303\"},\"ticker\":null},\"id\":\"2306\",\"type\":\"Grid\"},{\"attributes\":{},\"id\":\"2398\",\"type\":\"BasicTickFormatter\"},{\"attributes\":{},\"id\":\"2315\",\"type\":\"ResetTool\"},{\"attributes\":{\"overlay\":{\"id\":\"2317\"}},\"id\":\"2313\",\"type\":\"BoxZoomTool\"},{\"attributes\":{},\"id\":\"2299\",\"type\":\"LinearScale\"},{\"attributes\":{},\"id\":\"2312\",\"type\":\"WheelZoomTool\"},{\"attributes\":{\"text\":\"Vitesse / d\\u00e9clivit\\u00e9 \"},\"id\":\"2293\",\"type\":\"Title\"},{\"attributes\":{\"active_drag\":\"auto\",\"active_inspect\":\"auto\",\"active_multi\":null,\"active_scroll\":\"auto\",\"active_tap\":\"auto\",\"tools\":[{\"id\":\"2311\"},{\"id\":\"2312\"},{\"id\":\"2313\"},{\"id\":\"2314\"},{\"id\":\"2315\"},{\"id\":\"2316\"}]},\"id\":\"2318\",\"type\":\"Toolbar\"},{\"attributes\":{},\"id\":\"2396\",\"type\":\"BasicTickFormatter\"},{\"attributes\":{\"fill_alpha\":{\"value\":0.1},\"fill_color\":{\"value\":\"red\"},\"line_alpha\":{\"value\":0.1},\"line_color\":{\"value\":\"red\"},\"size\":{\"units\":\"screen\",\"value\":6},\"x\":{\"field\":\"x\"},\"y\":{\"field\":\"y\"}},\"id\":\"2327\",\"type\":\"Circle\"},{\"attributes\":{},\"id\":\"2400\",\"type\":\"UnionRenderers\"},{\"attributes\":{},\"id\":\"2399\",\"type\":\"Selection\"},{\"attributes\":{\"data\":{\"x\":[-1.8300000000000125,-3.8000000000000114,-0.8999999999999773,-0.6000000000000227,2.6200000000000045,4.320000000000022,-3.210000000000008,-0.25,5.0,1.2699999999999818,0.2400000000000091,0.03999999999999204,-0.1799999999999784,0.3199999999999932,0.060000000000002274,-0.3199999999999932,-0.4200000000000159,0.4399999999999977,0.06999999999999318,0.020000000000010232,-0.06999999999999318,-0.020000000000010232,-0.009999999999990905,0.0,0.10999999999998522,0.09000000000000341,-0.04999999999998295,-0.10000000000002274,0.040000000000020464,0.060000000000002274,0.1699999999999875,0.020000000000010232,-0.030000000000001137,0.01999999999998181,-4.179999999999978,-3.6000000000000227,6.0400000000000205,1.7199999999999989,-1.789999999999992,-1.160000000000025,-0.6899999999999977,2.200000000000017,1.009999999999991,0.25,0.05000000000001137,0.009999999999990905,-0.05000000000001137,-0.03999999999999204,0.0,-0.28000000000000114,-0.3299999999999841,-0.12000000000000455,-0.18000000000000682,-0.18999999999999773,0.07999999999998408,0.160000000000025,0.03999999999999204,0.009999999999990905,-0.06999999999999318,-0.03999999999999204,0.04999999999998295,0.030000000000001137,0.020000000000010232,-0.12000000000000455,-0.03999999999999204,0.04999999999998295,-0.01999999999998181,0.030000000000001137,-0.10000000000002274,-0.23999999999998067,-0.20000000000001705,-0.10999999999998522,-0.30000000000001137,0.15000000000000568,0.06999999999999318,0.030000000000001137,-8.379999999999995,-9.620000000000005,14.379999999999995,2.710000000000008,0.5099999999999909,0.710000000000008,-3.990000000000009,2.8100000000000023,1.0200000000000102,0.25,-0.44999999999998863,-0.25,0.6499999999999773,0.12000000000000455,-0.04999999999998295,-0.25,-1.990000000000009,-2.1399999999999864,2.7399999999999807,1.0300000000000011,-2.490000000000009,-0.7699999999999818,3.460000000000008,0.5599999999999739,0.10000000000002274,0.01999999999998181,0.0,0.010000000000019327,0.0,-2.4000000000000057,-0.7400000000000091,1.4699999999999989,0.7400000000000091,0.3199999999999932,0.18000000000000682,0.09000000000000341,-0.060000000000002274,-0.09000000000000341,-0.15000000000000568,-0.28000000000000114,-0.06999999999999318,-1.1299999999999955,0.5099999999999909,-1.5600000000000023,-2.019999999999982,0.1799999999999784,-0.3100000000000023,-3.329999999999984,1.2299999999999898,2.450000000000017,-2.710000000000008,-2.5600000000000023,4.349999999999994,-4.409999999999997,-3.740000000000009,6.380000000000024,4.299999999999983,-1.1099999999999852,2.1399999999999864,0.05000000000001137,-1.6100000000000136,-3.990000000000009,4.740000000000009,1.0600000000000023,-5.759999999999991,-1.8199999999999932,-0.3100000000000023,-0.11000000000001364,-0.03999999999999204,0.0,2.0900000000000034,5.269999999999982,0.960000000000008,-1.539999999999992,1.1599999999999966,0.4300000000000068,-2.420000000000016,1.2300000000000182,-3.1000000000000227,-0.14999999999997726,-4.940000000000026,1.2300000000000182,3.6599999999999966,-1.5500000000000114,-5.469999999999999,3.0200000000000102,3.509999999999991],\"y\":[4.909370641439949,2.2141775448498047,4.168625000078219,4.6184260992497554,9.225206003224852,6.083977073753973,9.210822418468984,6.2454223916508145,4.853376016145152,6.313895944279172,5.544900787552349,4.70246964671167,4.439762856976837,4.439871514642415,6.832954000207258,5.8185089990290555,5.347335600150782,6.694736297782948,4.618351751614741,5.2415760203068285,6.493332278023963,4.588606851578981,6.006676901983621,4.277363768555629,5.757496847145765,5.304046787078504,7.553809667715118,5.391006657833373,5.761275508973624,7.788227681376218,5.922737954762482,6.6093050678074965,5.868099036517405,5.118837361426998,6.276353380423848,6.853318489581255,4.012548366256059,8.37810009539915,6.534429176427586,6.017720521621925,6.12254462613688,5.51754145796516,7.856330154156955,5.113851424293358,4.046366966997577,3.7661023091156096,4.619878847161105,5.543858165819153,6.53697110400153,8.074349273093288,6.040042056824479,6.629924664482834,4.744192028992752,5.923698990166776,7.023820939839017,4.953700604420171,5.197929651415597,6.281867256933404,5.441475852320717,6.527401977905729,7.3946883120201585,6.466297104110169,6.282892184271124,6.058584963832523,8.080863448407909,3.9508304318106826,5.363786804409869,4.587028933544171,6.93907454526622,5.63291294173734,3.7016751983606317,0.9193978569376794,3.525991570366015,4.1271139140576905,2.8915205015013954,4.240406159913162,4.084081026732419,6.6077108026445925,7.3209607644943135,6.7597991053896465,5.799359774838665,7.317765686350235,7.887900739039711,7.053824242718236,5.790672251374044,4.162055005169435,8.015704049534104,3.6414581325910045,6.474204185790328,7.405806727905768,5.966484297212735,4.069381216687465,4.738441280136445,8.806384504362848,4.600213356465707,2.6959734734246226,5.147980340922457,5.33873761496825,6.492914294264982,6.005671669012886,4.342706405462547,5.056105047811924,3.4567227114992964,3.448563823644342,5.679616581959793,6.131950825814715,7.187976313581376,6.9353822285320765,7.210150833069895,5.460997765405608,3.76644720993403,7.852725836585341,5.772030576124044,4.275635781663688,5.4427300290799865,4.443557526287984,3.6374870367359198,10.761902216961037,3.8592204370198337,5.327394040696223,5.911144767691718,4.991717891588234,6.944218816589236,5.882405316087621,3.917070317180146,7.897291116082047,7.004878219147427,3.182894456964841,5.591168271106146,5.965003468521877,6.697647844158486,5.946138032595405,6.4119919335426,4.958921226645119,6.2608392518227305,5.28631189665472,5.738871841208251,5.917329798289366,5.5861937960883505,6.505109183022131,5.338693409629747,6.0360974410663895,3.2161892781135215,4.397274530801575,6.652871137409979,5.363079875064229,6.421084642331728,7.214487195000099,4.205274403331429,2.3126267361704147,1.7545054254843955,0.8145240309097819,0.11856216985296826,2.542005178768792,4.657406316952063,0.2934299730832591,0.9157410877373499,0.05352189376517712,0.0767465768576299,1.422578515025803,0.21334467099445978,0.9881034902607313,0.0]},\"selected\":{\"id\":\"2399\"},\"selection_policy\":{\"id\":\"2400\"}},\"id\":\"2325\",\"type\":\"ColumnDataSource\"},{\"attributes\":{\"axis_label\":\"declivit\\u00e9\",\"formatter\":{\"id\":\"2396\"},\"ticker\":{\"id\":\"2304\"}},\"id\":\"2303\",\"type\":\"LinearAxis\"},{\"attributes\":{},\"id\":\"2295\",\"type\":\"DataRange1d\"},{\"attributes\":{},\"id\":\"2301\",\"type\":\"LinearScale\"},{\"attributes\":{},\"id\":\"2304\",\"type\":\"BasicTicker\"},{\"attributes\":{\"axis_label\":\"Vitesse (km/h)\",\"formatter\":{\"id\":\"2398\"},\"ticker\":{\"id\":\"2308\"}},\"id\":\"2307\",\"type\":\"LinearAxis\"},{\"attributes\":{},\"id\":\"2308\",\"type\":\"BasicTicker\"}],\"root_ids\":[\"2292\"]},\"title\":\"Bokeh Application\",\"version\":\"2.0.2\"}};\n",
       "  var render_items = [{\"docid\":\"6a7389a2-495e-4c2a-89fa-36dab75dacc4\",\"root_ids\":[\"2292\"],\"roots\":{\"2292\":\"abc56f05-ccf4-4793-b0fe-954628b907d5\"}}];\n",
       "  root.Bokeh.embed.embed_items_notebook(docs_json, render_items);\n",
       "\n",
       "  }\n",
       "  if (root.Bokeh !== undefined) {\n",
       "    embed_document(root);\n",
       "  } else {\n",
       "    var attempts = 0;\n",
       "    var timer = setInterval(function(root) {\n",
       "      if (root.Bokeh !== undefined) {\n",
       "        clearInterval(timer);\n",
       "        embed_document(root);\n",
       "      } else {\n",
       "        attempts++;\n",
       "        if (attempts > 100) {\n",
       "          clearInterval(timer);\n",
       "          console.log(\"Bokeh: ERROR: Unable to run BokehJS code because BokehJS library is missing\");\n",
       "        }\n",
       "      }\n",
       "    }, 10, root)\n",
       "  }\n",
       "})(window);"
      ],
      "application/vnd.bokehjs_exec.v0+json": ""
     },
     "metadata": {
      "application/vnd.bokehjs_exec.v0+json": {
       "id": "2292"
      }
     },
     "output_type": "display_data"
    }
   ],
   "source": [
    "dec0= [x[1]-x[0] for x in zip([point.elevation for point in points[1:]],[point.elevation for point in points[:-1]])]\n",
    "dec = [x[0] for x in zip(dec0,z) if x[1][0]>0]\n",
    "pdec= figure(title=\"Vitesse / déclivité \", x_axis_label='declivité', y_axis_label='Vitesse (km/h)',width=800,height=300)\n",
    "pdec.circle(dec,[3.6*x[0] for x in vt],size=6, color=\"red\", alpha=0.5)\n",
    "show(pdec)"
   ]
  },
  {
   "cell_type": "code",
   "execution_count": null,
   "metadata": {},
   "outputs": [],
   "source": []
  }
 ],
 "metadata": {
  "@webio": {
   "lastCommId": null,
   "lastKernelId": null
  },
  "hide_input": false,
  "kernelspec": {
   "display_name": "Python 3",
   "language": "python",
   "name": "python3"
  },
  "language_info": {
   "codemirror_mode": {
    "name": "ipython",
    "version": 3
   },
   "file_extension": ".py",
   "mimetype": "text/x-python",
   "name": "python",
   "nbconvert_exporter": "python",
   "pygments_lexer": "ipython3",
   "version": "3.8.2"
  }
 },
 "nbformat": 4,
 "nbformat_minor": 4
}
