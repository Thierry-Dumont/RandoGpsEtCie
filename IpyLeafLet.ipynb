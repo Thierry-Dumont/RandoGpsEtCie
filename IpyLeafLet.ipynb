{
 "cells": [
  {
   "cell_type": "code",
   "execution_count": 1,
   "metadata": {},
   "outputs": [],
   "source": [
    "from ipyleaflet import Map, Marker,Polyline, FullScreenControl, WidgetControl, MarkerCluster\n",
    "from ipywidgets import IntSlider,jslink\n",
    "import gpxpy\n",
    "import geopy.distance as distance\n",
    "import matplotlib.pyplot as pplot\n",
    "from ipyfilechooser import FileChooser"
   ]
  },
  {
   "cell_type": "markdown",
   "metadata": {},
   "source": [
    "Le répertoire qui contient les fichiers .gpx :"
   ]
  },
  {
   "cell_type": "code",
   "execution_count": 2,
   "metadata": {},
   "outputs": [],
   "source": [
    "default_dir=\"./\""
   ]
  },
  {
   "cell_type": "markdown",
   "metadata": {},
   "source": [
    "On lit le fichier des positions gps:"
   ]
  },
  {
   "cell_type": "code",
   "execution_count": 3,
   "metadata": {},
   "outputs": [
    {
     "data": {
      "application/vnd.jupyter.widget-view+json": {
       "model_id": "9df7425c6080491291402ae09baef882",
       "version_major": 2,
       "version_minor": 0
      },
      "text/plain": [
       "FileChooser(path='.', filename='', show_hidden='False')"
      ]
     },
     "metadata": {},
     "output_type": "display_data"
    }
   ],
   "source": [
    "fc = FileChooser(default_dir)\n",
    "display(fc)"
   ]
  },
  {
   "cell_type": "code",
   "execution_count": 4,
   "metadata": {},
   "outputs": [],
   "source": [
    "gpx_file=open(fc.selected,'r')"
   ]
  },
  {
   "cell_type": "markdown",
   "metadata": {},
   "source": [
    "On récupère les positions gps sous forme d'une liste de couples (latitude,longitude) :"
   ]
  },
  {
   "cell_type": "code",
   "execution_count": 5,
   "metadata": {},
   "outputs": [],
   "source": [
    "gpx = gpxpy.parse(gpx_file)\n",
    "points=gpx.tracks[0].segments[0].points"
   ]
  },
  {
   "cell_type": "markdown",
   "metadata": {},
   "source": [
    "Il faut centrer la carte. Pour cela on calcule la moyenne des latitudes et des longitudes:"
   ]
  },
  {
   "cell_type": "code",
   "execution_count": 6,
   "metadata": {},
   "outputs": [],
   "source": [
    "l=[(p.latitude,p.longitude) for p in points]\n",
    "c=[sum(x) for x in zip(*l)]\n",
    "center=(c[0]/len(l),c[1]/len(l))# le \"centre\" (la moyenne)."
   ]
  },
  {
   "cell_type": "markdown",
   "metadata": {},
   "source": [
    "Et on dessine la carte, centrée en \"center\". Le facteur de zoom initial est un peu pifométrique: "
   ]
  },
  {
   "cell_type": "code",
   "execution_count": 7,
   "metadata": {},
   "outputs": [],
   "source": [
    "m = Map(center=center, zoom=15)"
   ]
  },
  {
   "cell_type": "markdown",
   "metadata": {},
   "source": [
    "On ajoute une petite tirette pour le zoom:"
   ]
  },
  {
   "cell_type": "code",
   "execution_count": 8,
   "metadata": {},
   "outputs": [],
   "source": [
    "zoom_slider = IntSlider(description='Zoom:', min=12, max=30, value=15)\n",
    "jslink((zoom_slider, 'value'), (m, 'zoom'))\n",
    "widget_control1 = WidgetControl(widget=zoom_slider, position='topright')\n",
    "m.add_control(widget_control1)"
   ]
  },
  {
   "cell_type": "code",
   "execution_count": 9,
   "metadata": {},
   "outputs": [
    {
     "data": {
      "application/vnd.jupyter.widget-view+json": {
       "model_id": "e6b929a3171c418b928a8822b830ced0",
       "version_major": 2,
       "version_minor": 0
      },
      "text/plain": [
       "Map(center=[45.771129045822065, 4.870447417789758], controls=(ZoomControl(options=['position', 'zoom_in_text',…"
      ]
     },
     "metadata": {},
     "output_type": "display_data"
    }
   ],
   "source": [
    "display(m)"
   ]
  },
  {
   "cell_type": "markdown",
   "metadata": {},
   "source": [
    "Bien. Maintenant on ajoute la trajectoire, qu'on a déja calculée. On ajoute aussi un bouton \"Plein écran\"."
   ]
  },
  {
   "cell_type": "code",
   "execution_count": 10,
   "metadata": {},
   "outputs": [],
   "source": [
    "line = Polyline(\n",
    "    locations=l,\n",
    "    color=\"red\" ,\n",
    "    fill=False, weight=3\n",
    ")\n",
    "m.add_control(FullScreenControl())\n",
    "m.add_layer(line)"
   ]
  },
  {
   "cell_type": "markdown",
   "metadata": {},
   "source": [
    "Quelques calculs:\n",
    "\n",
    "- Les distances entre les points successifs. C'est un service fourni par geopy (géodésiques sur l'ellipsoïde terrestre).\n",
    "- La distance globale porcourue.\n",
    "- Un \"marker\" tous les \"delta\" mêtres. \n",
    "- La vitesse moyenne entre deux mesures du GPS."
   ]
  },
  {
   "cell_type": "code",
   "execution_count": 11,
   "metadata": {},
   "outputs": [],
   "source": [
    "delta=300. # 300 mêtres"
   ]
  },
  {
   "cell_type": "code",
   "execution_count": 12,
   "metadata": {},
   "outputs": [],
   "source": [
    "distance_parcourue=0.0\n",
    "next = 0.0\n",
    "marks=[]\n",
    "\n",
    "for i,point in enumerate(points[1:]):\n",
    "    new=(point.latitude,point.longitude)\n",
    "    old=(points[i].latitude,points[i].longitude)\n",
    "    d=distance.geodesic(new,old).m\n",
    "    distance_parcourue += d\n",
    "    if distance_parcourue >= next:\n",
    "        next += delta\n",
    "        marks.append(Marker(location=(point.latitude,point.longitude)))"
   ]
  },
  {
   "cell_type": "code",
   "execution_count": 13,
   "metadata": {},
   "outputs": [
    {
     "name": "stdout",
     "output_type": "stream",
     "text": [
      "Distance parcourue : 4706.847345410337\n"
     ]
    }
   ],
   "source": [
    "print(\"Distance parcourue :\",distance_parcourue)"
   ]
  },
  {
   "cell_type": "markdown",
   "metadata": {},
   "source": [
    "Placer les marqueurs:"
   ]
  },
  {
   "cell_type": "code",
   "execution_count": 14,
   "metadata": {},
   "outputs": [],
   "source": [
    "marker_cluster = MarkerCluster(\n",
    "    markers=marks\n",
    ")\n",
    "m.add_layer(marker_cluster);"
   ]
  },
  {
   "cell_type": "markdown",
   "metadata": {},
   "source": [
    "On redessine la carte :"
   ]
  },
  {
   "cell_type": "code",
   "execution_count": 15,
   "metadata": {},
   "outputs": [
    {
     "name": "stdout",
     "output_type": "stream",
     "text": [
      "zoomez pour voir les marqueurs\n"
     ]
    },
    {
     "data": {
      "application/vnd.jupyter.widget-view+json": {
       "model_id": "e6b929a3171c418b928a8822b830ced0",
       "version_major": 2,
       "version_minor": 0
      },
      "text/plain": [
       "Map(center=[45.771129045822065, 4.870447417789758], controls=(ZoomControl(options=['position', 'zoom_in_text',…"
      ]
     },
     "metadata": {},
     "output_type": "display_data"
    }
   ],
   "source": [
    "print(\"zoomez pour voir les marqueurs\");m"
   ]
  },
  {
   "cell_type": "markdown",
   "metadata": {},
   "source": [
    "L'altitude au cours du parcours :"
   ]
  },
  {
   "cell_type": "code",
   "execution_count": 16,
   "metadata": {},
   "outputs": [
    {
     "data": {
      "image/png": "[encoded data removed]",
      "text/plain": [
       "<Figure size 432x288 with 1 Axes>"
      ]
     },
     "metadata": {
      "needs_background": "light"
     },
     "output_type": "display_data"
    }
   ],
   "source": [
    "p=pplot.plot([point.elevation for point in points])"
   ]
  },
  {
   "cell_type": "code",
   "execution_count": null,
   "metadata": {},
   "outputs": [],
   "source": []
  }
 ],
 "metadata": {
  "@webio": {
   "lastCommId": null,
   "lastKernelId": null
  },
  "kernelspec": {
   "display_name": "Python 3",
   "language": "python",
   "name": "python3"
  },
  "language_info": {
   "codemirror_mode": {
    "name": "ipython",
    "version": 3
   },
   "file_extension": ".py",
   "mimetype": "text/x-python",
   "name": "python",
   "nbconvert_exporter": "python",
   "pygments_lexer": "ipython3",
   "version": "3.8.2"
  }
 },
 "nbformat": 4,
 "nbformat_minor": 4
}
