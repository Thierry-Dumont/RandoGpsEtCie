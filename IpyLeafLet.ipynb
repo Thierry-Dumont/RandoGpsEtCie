{
 "cells": [
  {
   "cell_type": "code",
   "execution_count": 1,
   "metadata": {},
   "outputs": [],
   "source": [
    "from ipyleaflet import Map, Marker,Polyline, FullScreenControl, WidgetControl, MarkerCluster, basemaps, AntPath\n",
    "from ipywidgets import IntSlider,jslink\n",
    "import gpxpy\n",
    "import geopy.distance as distance\n",
    "import matplotlib.pyplot as pplot\n",
    "from functools import reduce"
   ]
  },
  {
   "cell_type": "markdown",
   "metadata": {},
   "source": [
    "Le fichier des traces gps :"
   ]
  },
  {
   "cell_type": "code",
   "execution_count": 2,
   "metadata": {},
   "outputs": [],
   "source": [
    "filegpx= \"./2020-04-29_13-47-10.gpx\""
   ]
  },
  {
   "cell_type": "markdown",
   "metadata": {},
   "source": [
    "Les cartes qu'on va utiliser :"
   ]
  },
  {
   "cell_type": "code",
   "execution_count": 3,
   "metadata": {},
   "outputs": [],
   "source": [
    "usedmap=basemaps.OpenStreetMap.Mapnik #valeur pas défaut\n",
    "#usedmap=basemaps.OpenTopoMap\n",
    "#usedmap=basemaps.HikeBike\n",
    "#usedmap=basemaps.MtbMap"
   ]
  },
  {
   "cell_type": "markdown",
   "metadata": {},
   "source": [
    "On lit le fichier des positions gps, et on récupère les positions sous forme d'une liste de couples (latitude,longitude) :"
   ]
  },
  {
   "cell_type": "code",
   "execution_count": 4,
   "metadata": {},
   "outputs": [],
   "source": [
    "gpx_file= open(filegpx,\"r\")\n",
    "gpx = gpxpy.parse(gpx_file)\n",
    "points=gpx.tracks[0].segments[0].points"
   ]
  },
  {
   "cell_type": "markdown",
   "metadata": {},
   "source": [
    "Il faut centrer la carte. Pour cela on calcule la moyenne des latitudes et des longitudes:"
   ]
  },
  {
   "cell_type": "code",
   "execution_count": 5,
   "metadata": {},
   "outputs": [],
   "source": [
    "l=[(p.latitude,p.longitude) for p in points]\n",
    "c=[sum(x) for x in zip(*l)]\n",
    "center=(c[0]/len(l),c[1]/len(l))# le \"centre\" (la moyenne)."
   ]
  },
  {
   "cell_type": "markdown",
   "metadata": {},
   "source": [
    "Et on crée la carte, centrée en \"center\". Le facteur de zoom initial est un peu pifométrique: "
   ]
  },
  {
   "cell_type": "code",
   "execution_count": 6,
   "metadata": {},
   "outputs": [],
   "source": [
    "m = Map(basemap=usedmap,center=center, zoom=15)"
   ]
  },
  {
   "cell_type": "markdown",
   "metadata": {},
   "source": [
    "On ajoute une petite tirette pour le zoom:"
   ]
  },
  {
   "cell_type": "code",
   "execution_count": 7,
   "metadata": {},
   "outputs": [],
   "source": [
    "zoom_slider = IntSlider(description='Zoom:', min=12, max=30, value=15)\n",
    "jslink((zoom_slider, 'value'), (m, 'zoom'))\n",
    "widget_control1 = WidgetControl(widget=zoom_slider, position='topright')\n",
    "m.add_control(widget_control1)"
   ]
  },
  {
   "cell_type": "markdown",
   "metadata": {},
   "source": [
    "Bien. Maintenant on ajoute la trajectoire, qu'on a déja calculée. On ajoute aussi un bouton \"Plein écran\"."
   ]
  },
  {
   "cell_type": "code",
   "execution_count": 8,
   "metadata": {},
   "outputs": [],
   "source": [
    "type_line= \"Ant\" # type de ligne pour la trajectoire (toute autre avaleur que \"Ant\" produit une \"PolyLine\") "
   ]
  },
  {
   "cell_type": "code",
   "execution_count": 9,
   "metadata": {},
   "outputs": [],
   "source": [
    "if type_line == \"Ant\":\n",
    "    line= AntPath(\n",
    "        locations= l,\n",
    "        dash_array=[1, 10],\n",
    "        delay=2000,\n",
    "        color='red',\n",
    "        pulse_color='black'\n",
    "    )\n",
    "else:\n",
    "    line = Polyline(\n",
    "        locations=l,\n",
    "        color=\"red\" ,\n",
    "        fill=False, weight=3\n",
    "    )\n",
    "\n",
    "m.add_control(FullScreenControl())\n",
    "m.add_layer(line)"
   ]
  },
  {
   "cell_type": "markdown",
   "metadata": {},
   "source": [
    "### Quelques calculs: ###\n",
    "\n",
    "- Les distances entre les points successifs. C'est un service fourni par geopy (géodésiques sur l'ellipsoïde terrestre).\n",
    "- La distance globale porcourue.\n",
    "- Un \"marker\" tous les \"delta\" mêtres. "
   ]
  },
  {
   "cell_type": "code",
   "execution_count": 10,
   "metadata": {},
   "outputs": [],
   "source": [
    "delta=1000. # 1 km."
   ]
  },
  {
   "cell_type": "code",
   "execution_count": 11,
   "metadata": {},
   "outputs": [],
   "source": [
    "distance_parcourue=0.0\n",
    "dists=[0.]\n",
    "next = 0.0\n",
    "marks=[]\n",
    "for i,point in enumerate(points[1:]):\n",
    "    new=(point.latitude,point.longitude)\n",
    "    old=(points[i].latitude,points[i].longitude)\n",
    "    d=distance.geodesic(new,old).m\n",
    "    distance_parcourue += d\n",
    "    dists.append(distance_parcourue)\n",
    "    if distance_parcourue >= next:\n",
    "        next += delta\n",
    "        marks.append(Marker(location=(point.latitude,point.longitude)))"
   ]
  },
  {
   "cell_type": "code",
   "execution_count": 12,
   "metadata": {},
   "outputs": [
    {
     "name": "stdout",
     "output_type": "stream",
     "text": [
      "Distance totale parcourue : 5370.6480983929105 mêtres.\n"
     ]
    }
   ],
   "source": [
    "print(\"Distance totale parcourue :\",distance_parcourue,\"mêtres.\")"
   ]
  },
  {
   "cell_type": "markdown",
   "metadata": {},
   "source": [
    "Placer les marqueurs sur la carte:"
   ]
  },
  {
   "cell_type": "code",
   "execution_count": 13,
   "metadata": {},
   "outputs": [],
   "source": [
    "marker_cluster = MarkerCluster(\n",
    "    markers=marks\n",
    ")\n",
    "m.add_layer(marker_cluster);"
   ]
  },
  {
   "cell_type": "markdown",
   "metadata": {},
   "source": [
    "### La carte : ###\n",
    "\n",
    "_(zoomez éventuellement pour voir tous les marqueurs)._"
   ]
  },
  {
   "cell_type": "code",
   "execution_count": 14,
   "metadata": {},
   "outputs": [
    {
     "data": {
      "application/vnd.jupyter.widget-view+json": {
       "model_id": "f882e32197154f34bd2772e738f7b70d",
       "version_major": 2,
       "version_minor": 0
      },
      "text/plain": [
       "Map(center=[45.775022191214426, 4.864930919896639], controls=(ZoomControl(options=['position', 'zoom_in_text',…"
      ]
     },
     "metadata": {},
     "output_type": "display_data"
    }
   ],
   "source": [
    "m"
   ]
  },
  {
   "cell_type": "markdown",
   "metadata": {},
   "source": [
    "### L'altitude au cours du parcours : ###"
   ]
  },
  {
   "cell_type": "code",
   "execution_count": 15,
   "metadata": {},
   "outputs": [
    {
     "data": {
      "image/png": "[encoded data removed]",
      "text/plain": [
       "<Figure size 432x288 with 1 Axes>"
      ]
     },
     "metadata": {
      "needs_background": "light"
     },
     "output_type": "display_data"
    }
   ],
   "source": [
    "p=pplot.plot(dists,[point.elevation for point in points])"
   ]
  },
  {
   "cell_type": "markdown",
   "metadata": {},
   "source": [
    "#### Cumul des montées et des descentes : ####\n",
    "\n",
    "Attention le gps n'est pas très précis pour les altitudes !"
   ]
  },
  {
   "cell_type": "code",
   "execution_count": 16,
   "metadata": {},
   "outputs": [],
   "source": [
    "z=[x[1]-x[0] for x in zip([point.elevation for point in points][1:],[point.elevation for point in points][:-1])]\n",
    "up= reduce(lambda a,b: a+max(b,0),z)\n",
    "down= reduce(lambda a,b: a+max(-b,0),z)"
   ]
  },
  {
   "cell_type": "code",
   "execution_count": 17,
   "metadata": {},
   "outputs": [
    {
     "name": "stdout",
     "output_type": "stream",
     "text": [
      "montée : 459.7500000000002 , descente : 450.47999999999996 (mêtres).\n"
     ]
    }
   ],
   "source": [
    "print(\"montée :\",up,\", descente :\",down,\"(mêtres).\")"
   ]
  },
  {
   "cell_type": "markdown",
   "metadata": {},
   "source": [
    "### Vitesse (en km/h) en fonction du temps (en secondes) : ###"
   ]
  },
  {
   "cell_type": "code",
   "execution_count": 18,
   "metadata": {},
   "outputs": [],
   "source": [
    "start= points[0].time\n",
    "z=[((x[0]-x[1]).total_seconds(),x[1]) for x in zip([point.time for point in points][1:], \\\n",
    "                                                   [point.time for point in points][:-1])]\n",
    "d=[distance.geodesic((x[1].latitude,x[1].longitude),(x[0].latitude,x[0].longitude)).m \\\n",
    "   for x in zip(points[1:],points[:-1])]\n",
    "vt=[(x[0]/x[1][0],(x[1][1]-start).total_seconds())  for x in zip(d,z) if x[1][0]>0]"
   ]
  },
  {
   "cell_type": "code",
   "execution_count": 19,
   "metadata": {
    "scrolled": true
   },
   "outputs": [
    {
     "data": {
      "image/png": "[encoded data removed]",
      "text/plain": [
       "<Figure size 432x288 with 1 Axes>"
      ]
     },
     "metadata": {
      "needs_background": "light"
     },
     "output_type": "display_data"
    }
   ],
   "source": [
    "v=pplot.plot([v[1] for v in vt],[v[0]*3.6 for v in vt])"
   ]
  },
  {
   "cell_type": "markdown",
   "metadata": {},
   "source": [
    "### Vitesse moyenne : ###"
   ]
  },
  {
   "cell_type": "code",
   "execution_count": 20,
   "metadata": {},
   "outputs": [
    {
     "name": "stdout",
     "output_type": "stream",
     "text": [
      "    5.24 km/h.\n"
     ]
    }
   ],
   "source": [
    "print(\"%8.2f\"% (3.6*distance_parcourue/(points[-1].time - points[0].time).total_seconds()),\"km/h.\")"
   ]
  }
 ],
 "metadata": {
  "@webio": {
   "lastCommId": null,
   "lastKernelId": null
  },
  "hide_input": false,
  "kernelspec": {
   "display_name": "Python 3",
   "language": "python",
   "name": "python3"
  },
  "language_info": {
   "codemirror_mode": {
    "name": "ipython",
    "version": 3
   },
   "file_extension": ".py",
   "mimetype": "text/x-python",
   "name": "python",
   "nbconvert_exporter": "python",
   "pygments_lexer": "ipython3",
   "version": "3.8.2"
  }
 },
 "nbformat": 4,
 "nbformat_minor": 4
}
